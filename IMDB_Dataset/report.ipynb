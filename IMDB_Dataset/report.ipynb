{
 "cells": [
  {
   "cell_type": "markdown",
   "metadata": {},
   "source": [
    "# Comprehensive Sentiment Analysis Model Comparison\n",
    "\n",
    "| Attribute | BERT | RoBERTa | DistilBERT | Logistic Regression | Random Forest | LSTM (Model 1) | LSTM (Model 2) |\n",
    "|-----------|------|---------|------------|---------------------|---------------|----------------|----------------|\n",
    "| **Overall Accuracy** | 89.48% | 90.22% | 88.00% | 90.79% | 87.28% | 86.81% | 49.00% |\n",
    "| **Training Accuracy** | 92.09% | 94.19% | - | 99.23% | 100.00% | - | 94.19% |\n",
    "| **Precision (Negative)** | 0.90 | 0.93 | 0.90 | 0.91 | 0.88 | 0.86 | 0.49 |\n",
    "| **Precision (Positive)** | 0.89 | 0.88 | 0.87 | 0.90 | 0.87 | 0.88 | 0.49 |\n",
    "| **Recall (Negative)** | 0.88 | 0.87 | 0.86 | 0.90 | 0.87 | 0.88 | 0.54 |\n",
    "| **Recall (Positive)** | 0.91 | 0.93 | 0.91 | 0.91 | 0.88 | 0.85 | 0.44 |\n",
    "| **F1-Score (Negative)** | 0.89 | 0.90 | 0.88 | 0.91 | 0.87 | 0.87 | 0.52 |\n",
    "| **F1-Score (Positive)** | 0.90 | 0.90 | 0.89 | 0.91 | 0.87 | 0.87 | 0.47 |\n",
    "| **Model Type** | BERT Sequence Classification | RoBERTa Transformer | DistilBERT Sequence Classification | Logistic Regression | Random Forest | LSTM Neural Network | LSTM Neural Network |\n",
    "| **Dataset** | IMDB Movie Reviews | IMDB Movie Reviews | IMDB Movie Reviews | IMDB Movie Reviews | IMDB Movie Reviews | IMDB Movie Reviews | IMDB Movie Reviews |\n",
    "| **Tokenizer** | BERT Base Uncased | RoBERTa Tokenizer | DistilBERT Base Uncased | TF-IDF | TF-IDF | Dynamic Tokenization | Dynamic Tokenization |\n",
    "| **Optimizer** | AdamW | - | AdamW | - | - | Adam | Adam |\n",
    "| **Learning Rate** | 2e-5 | 2e-5 | 2e-5 | - | - | 0.001 | 0.001 |\n",
    "| **Batch Size** | 32 | 8 | 16 | - | - | - | - |\n",
    "| **Training Epochs** | 3 | 3 | 3 | - | - | 10 | 10 |\n",
    "| **Embedding Dimension** | - | - | - | - | - | 100 | 100 |\n",
    "| **LSTM Units** | - | - | - | - | - | 128 | 128 |\n",
    "| **Dropout Rate** | - | - | - | - | - | 0.2 | 0.2-0.5 |\n",
    "| **Loss Function** | - | - | - | - | - | Categorical Cross-Entropy | Binary Cross-Entropy |\n",
    "| **Preprocessing Techniques** | Lemmatization, Stopword Removal, URL/Special Character Removal | - | Text Cleaning, Class Balancing | URL Removal, Lemmatization, Stopword Elimination | URL Removal, Lemmatization, Stopword Elimination | Maximum Length Padding, One-hot Encoding | Lemmatization, Stopword Removal, URL Removal |\n",
    "| **Training Runtime** | - | 6.12 hours | ~32 minutes | - | - | - | - |\n",
    "| **Samples per Second** | - | 5.442 | 61.365 | - | - | - | - |\n",
    "| **Key Characteristic** | Consistent Performance | Highest Overall Accuracy | Balanced Performance | Strong Generalization | Moderate Performance | Moderate Performance | Severe Overfitting |"
   ]
  },
  {
   "cell_type": "markdown",
   "metadata": {},
   "source": []
  }
 ],
 "metadata": {
  "language_info": {
   "name": "python"
  }
 },
 "nbformat": 4,
 "nbformat_minor": 2
}
