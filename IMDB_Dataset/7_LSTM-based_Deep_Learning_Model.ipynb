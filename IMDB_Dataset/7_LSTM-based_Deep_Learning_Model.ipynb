{
 "cells": [
  {
   "cell_type": "code",
   "execution_count": 1,
   "metadata": {
    "id": "IJyd6Rq7qmar"
   },
   "outputs": [],
   "source": [
    "import numpy as np\n",
    "import pandas as pd\n",
    "import re\n",
    "import nltk\n",
    "import tensorflow as tf\n",
    "from tensorflow.keras.preprocessing.text import Tokenizer\n",
    "from tensorflow.keras.preprocessing.sequence import pad_sequences\n",
    "from tensorflow.keras.models import Sequential\n",
    "from tensorflow.keras.layers import Embedding, LSTM, Dense, Dropout\n",
    "from tensorflow.keras.optimizers import Adam\n",
    "from sklearn.model_selection import train_test_split\n",
    "from sklearn.metrics import accuracy_score, classification_report"
   ]
  },
  {
   "cell_type": "code",
   "execution_count": 2,
   "metadata": {
    "id": "yjr9gbHRqxdE"
   },
   "outputs": [],
   "source": [
    "# Ensure same preprocessing as previous script\n",
    "def advanced_text_preprocessing(content):\n",
    "    from nltk.corpus import stopwords\n",
    "    from nltk.tokenize import word_tokenize\n",
    "    from nltk.stem import WordNetLemmatizer\n",
    "\n",
    "    lemmatizer = WordNetLemmatizer()\n",
    "    # Convert to lowercase and remove special characters\n",
    "    lemmatized_content = re.sub(r'http\\S+|www\\S+|https\\S+', '', content, flags=re.MULTILINE)  # Remove URLs\n",
    "    lemmatized_content = re.sub(r'@\\w+|\\#', '', lemmatized_content)  # Remove mentions and hashtag symbols\n",
    "    lemmatized_content = re.sub(r'[^a-zA-Z\\s]', '', lemmatized_content)  # Remove numbers and punctuation\n",
    "    lemmatized_content = lemmatized_content.lower()\n",
    "\n",
    "    # Tokenization\n",
    "    words = word_tokenize(lemmatized_content)\n",
    "\n",
    "    # Remove stopwords and lemmatize\n",
    "    stop_words = set(stopwords.words('english'))\n",
    "    custom_stopwords = {'rt', 'via'}\n",
    "    stop_words.update(custom_stopwords)\n",
    "    processed_words = [\n",
    "        lemmatizer.lemmatize(word) for word in words if word not in stop_words and len(word) > 2\n",
    "    ]\n",
    "    lemmatized_content = ' '.join(processed_words)\n",
    "    return lemmatized_content"
   ]
  },
  {
   "cell_type": "code",
   "execution_count": 3,
   "metadata": {
    "id": "B1ObXhUEq1PQ"
   },
   "outputs": [],
   "source": [
    "def load_data():\n",
    "    \"\"\"Load and preprocess the Twitter dataset\"\"\"\n",
    "    # column_names = ['text','target' ]\n",
    "    data = pd.read_csv(\"IMDB_Dataset.csv\", encoding='ISO-8859-1')\n",
    "    # data['target'] = data['target'].replace(\"positive\", 1)\n",
    "    # data['target'] = data['target'].replace(\"negative\", 0)\n",
    "    return data"
   ]
  },
  {
   "cell_type": "code",
   "execution_count": 4,
   "metadata": {
    "id": "8IsDlXDnrxXk"
   },
   "outputs": [],
   "source": [
    "def create_deep_learning_model(vocab_size, max_length):\n",
    "    \"\"\"Create a deep learning model with LSTM layers\"\"\"\n",
    "    model = Sequential([\n",
    "        # Embedding layer to convert words to dense vector representations\n",
    "        Embedding(vocab_size, 100, input_length=max_length),\n",
    "\n",
    "        # LSTM layer with dropout for regularization\n",
    "        LSTM(128, dropout=0.2, recurrent_dropout=0.2),\n",
    "\n",
    "        # Additional dense layers with dropout\n",
    "        Dense(64, activation='relu'),\n",
    "        Dropout(0.5),\n",
    "\n",
    "        # Output layer\n",
    "        Dense(1, activation='sigmoid')\n",
    "    ])\n",
    "\n",
    "    # Compile the model\n",
    "    model.compile(\n",
    "        optimizer=Adam(learning_rate=0.001),\n",
    "        loss='binary_crossentropy',\n",
    "        metrics=['accuracy']\n",
    "    )\n",
    "\n",
    "    return model"
   ]
  },
  {
   "cell_type": "code",
   "execution_count": 5,
   "metadata": {
    "id": "FmHw76YJr0u5"
   },
   "outputs": [],
   "source": [
    "def prepare_deep_learning_data(texts, max_words=5000, max_length=100):\n",
    "    \"\"\"Prepare text data for deep learning model\"\"\"\n",
    "    # Tokenize the text\n",
    "    tokenizer = Tokenizer(num_words=max_words, oov_token=\"<OOV>\")\n",
    "    tokenizer.fit_on_texts(texts)\n",
    "\n",
    "    # Convert text to sequences\n",
    "    sequences = tokenizer.texts_to_sequences(texts)\n",
    "\n",
    "    # Pad sequences to ensure uniform length\n",
    "    padded_sequences = pad_sequences(sequences, maxlen=max_length, padding='post', truncating='post')\n",
    "\n",
    "    return padded_sequences, tokenizer"
   ]
  },
  {
   "cell_type": "code",
   "execution_count": 6,
   "metadata": {
    "id": "CXDlaen8r26n"
   },
   "outputs": [],
   "source": [
    "def train_deep_learning_model(X_train, y_train, X_test, y_test):\n",
    "    \"\"\"Train and evaluate deep learning model\"\"\"\n",
    "    # Prepare data\n",
    "    max_words = 5000\n",
    "    max_length = 100\n",
    "\n",
    "    # Prepare sequences\n",
    "    X_train_seq, tokenizer = prepare_deep_learning_data(X_train, max_words, max_length)\n",
    "    X_test_seq, _ = prepare_deep_learning_data(X_test, max_words, max_length)\n",
    "\n",
    "    # Ensure binary targets\n",
    "    y_train = y_train.astype(float)\n",
    "    y_test = y_test.astype(float)\n",
    "\n",
    "    # Create and compile model\n",
    "    vocab_size = len(tokenizer.word_index) + 1\n",
    "    model = create_deep_learning_model(vocab_size, max_length)\n",
    "\n",
    "    # Train the model\n",
    "    history = model.fit(\n",
    "        X_train_seq, y_train,\n",
    "        epochs=10,\n",
    "        batch_size=32,\n",
    "        validation_split=0.2,\n",
    "        verbose=1\n",
    "    )\n",
    "\n",
    "    # Evaluate the model\n",
    "    train_pred = (model.predict(X_train_seq) > 0.5).astype(int).flatten()\n",
    "    test_pred = (model.predict(X_test_seq) > 0.5).astype(int).flatten()\n",
    "\n",
    "    results = {\n",
    "        'Deep Learning Model': {\n",
    "            'train_accuracy': accuracy_score(y_train, train_pred),\n",
    "            'test_accuracy': accuracy_score(y_test, test_pred),\n",
    "            'classification_report': classification_report(y_test, test_pred)\n",
    "        }\n",
    "    }\n",
    "\n",
    "    return results, model, tokenizer"
   ]
  },
  {
   "cell_type": "code",
   "execution_count": 7,
   "metadata": {
    "colab": {
     "base_uri": "https://localhost:8080/"
    },
    "id": "W4pEeA8sr4q3",
    "outputId": "45d6326e-16c8-4cc9-bb8f-dcab13541b7f"
   },
   "outputs": [
    {
     "name": "stderr",
     "output_type": "stream",
     "text": [
      "[nltk_data] Downloading package stopwords to\n",
      "[nltk_data]     C:\\Users\\nikhi\\AppData\\Roaming\\nltk_data...\n",
      "[nltk_data]   Package stopwords is already up-to-date!\n",
      "[nltk_data] Downloading package wordnet to\n",
      "[nltk_data]     C:\\Users\\nikhi\\AppData\\Roaming\\nltk_data...\n",
      "[nltk_data]   Package wordnet is already up-to-date!\n",
      "[nltk_data] Downloading package punkt to\n",
      "[nltk_data]     C:\\Users\\nikhi\\AppData\\Roaming\\nltk_data...\n",
      "[nltk_data]   Package punkt is already up-to-date!\n",
      "[nltk_data] Downloading package punkt_tab to\n",
      "[nltk_data]     C:\\Users\\nikhi\\AppData\\Roaming\\nltk_data...\n",
      "[nltk_data]   Package punkt_tab is already up-to-date!\n"
     ]
    },
    {
     "data": {
      "text/plain": [
       "True"
      ]
     },
     "execution_count": 7,
     "metadata": {},
     "output_type": "execute_result"
    }
   ],
   "source": [
    "# Download NLTK resources\n",
    "nltk.download('stopwords')\n",
    "nltk.download('wordnet')\n",
    "nltk.download('punkt')\n",
    "nltk.download('punkt_tab')"
   ]
  },
  {
   "cell_type": "code",
   "execution_count": 8,
   "metadata": {
    "colab": {
     "base_uri": "https://localhost:8080/"
    },
    "id": "CMwNrJbHr7CW",
    "outputId": "9843ac7c-7eb8-4098-e886-f5cfdd8fb8cb"
   },
   "outputs": [
    {
     "name": "stdout",
     "output_type": "stream",
     "text": [
      "Loading and preprocessing data...\n"
     ]
    }
   ],
   "source": [
    "# Load and preprocess data\n",
    "\n",
    "print(\"Loading and preprocessing data...\")\n",
    "data = load_data()"
   ]
  },
  {
   "cell_type": "code",
   "execution_count": 10,
   "metadata": {},
   "outputs": [
    {
     "name": "stderr",
     "output_type": "stream",
     "text": [
      "C:\\Users\\nikhi\\AppData\\Local\\Temp\\ipykernel_54316\\3214355603.py:1: FutureWarning: Downcasting behavior in `replace` is deprecated and will be removed in a future version. To retain the old behavior, explicitly call `result.infer_objects(copy=False)`. To opt-in to the future behavior, set `pd.set_option('future.no_silent_downcasting', True)`\n",
      "  data['target'] = data['sentiment'].replace('positive', 1).replace('negative', 0)\n"
     ]
    }
   ],
   "source": [
    "data['target'] = data['sentiment'].replace('positive', 1).replace('negative', 0)"
   ]
  },
  {
   "cell_type": "code",
   "execution_count": 12,
   "metadata": {},
   "outputs": [],
   "source": [
    "data = data.dropna()"
   ]
  },
  {
   "cell_type": "code",
   "execution_count": 13,
   "metadata": {},
   "outputs": [
    {
     "data": {
      "text/plain": [
       "review       0\n",
       "sentiment    0\n",
       "target       0\n",
       "dtype: int64"
      ]
     },
     "execution_count": 13,
     "metadata": {},
     "output_type": "execute_result"
    }
   ],
   "source": [
    "# counting the num of missing values in the dataset\n",
    "data.isnull().sum()"
   ]
  },
  {
   "cell_type": "code",
   "execution_count": 19,
   "metadata": {},
   "outputs": [
    {
     "data": {
      "text/plain": [
       "target\n",
       "1    25000\n",
       "0    25000\n",
       "Name: count, dtype: int64"
      ]
     },
     "execution_count": 19,
     "metadata": {},
     "output_type": "execute_result"
    }
   ],
   "source": [
    "# checking the distribution of target col\n",
    "\n",
    "data['target'].value_counts()"
   ]
  },
  {
   "cell_type": "code",
   "execution_count": 18,
   "metadata": {},
   "outputs": [
    {
     "data": {
      "text/html": [
       "<div>\n",
       "<style scoped>\n",
       "    .dataframe tbody tr th:only-of-type {\n",
       "        vertical-align: middle;\n",
       "    }\n",
       "\n",
       "    .dataframe tbody tr th {\n",
       "        vertical-align: top;\n",
       "    }\n",
       "\n",
       "    .dataframe thead th {\n",
       "        text-align: right;\n",
       "    }\n",
       "</style>\n",
       "<table border=\"1\" class=\"dataframe\">\n",
       "  <thead>\n",
       "    <tr style=\"text-align: right;\">\n",
       "      <th></th>\n",
       "      <th>review</th>\n",
       "      <th>sentiment</th>\n",
       "      <th>target</th>\n",
       "      <th>lemmatized_content</th>\n",
       "    </tr>\n",
       "  </thead>\n",
       "  <tbody>\n",
       "    <tr>\n",
       "      <th>0</th>\n",
       "      <td>One of the other reviewers has mentioned that ...</td>\n",
       "      <td>positive</td>\n",
       "      <td>1</td>\n",
       "      <td>one reviewer mentioned watching episode youll ...</td>\n",
       "    </tr>\n",
       "    <tr>\n",
       "      <th>1</th>\n",
       "      <td>A wonderful little production. &lt;br /&gt;&lt;br /&gt;The...</td>\n",
       "      <td>positive</td>\n",
       "      <td>1</td>\n",
       "      <td>wonderful little production filming technique ...</td>\n",
       "    </tr>\n",
       "    <tr>\n",
       "      <th>2</th>\n",
       "      <td>I thought this was a wonderful way to spend ti...</td>\n",
       "      <td>positive</td>\n",
       "      <td>1</td>\n",
       "      <td>thought wonderful way spend time hot summer we...</td>\n",
       "    </tr>\n",
       "    <tr>\n",
       "      <th>3</th>\n",
       "      <td>Basically there's a family where a little boy ...</td>\n",
       "      <td>negative</td>\n",
       "      <td>0</td>\n",
       "      <td>basically there family little boy jake think t...</td>\n",
       "    </tr>\n",
       "    <tr>\n",
       "      <th>4</th>\n",
       "      <td>Petter Mattei's \"Love in the Time of Money\" is...</td>\n",
       "      <td>positive</td>\n",
       "      <td>1</td>\n",
       "      <td>petter matteis love time money visually stunni...</td>\n",
       "    </tr>\n",
       "  </tbody>\n",
       "</table>\n",
       "</div>"
      ],
      "text/plain": [
       "                                              review sentiment  target  \\\n",
       "0  One of the other reviewers has mentioned that ...  positive       1   \n",
       "1  A wonderful little production. <br /><br />The...  positive       1   \n",
       "2  I thought this was a wonderful way to spend ti...  positive       1   \n",
       "3  Basically there's a family where a little boy ...  negative       0   \n",
       "4  Petter Mattei's \"Love in the Time of Money\" is...  positive       1   \n",
       "\n",
       "                                  lemmatized_content  \n",
       "0  one reviewer mentioned watching episode youll ...  \n",
       "1  wonderful little production filming technique ...  \n",
       "2  thought wonderful way spend time hot summer we...  \n",
       "3  basically there family little boy jake think t...  \n",
       "4  petter matteis love time money visually stunni...  "
      ]
     },
     "execution_count": 18,
     "metadata": {},
     "output_type": "execute_result"
    }
   ],
   "source": [
    "data.head()"
   ]
  },
  {
   "cell_type": "code",
   "execution_count": 15,
   "metadata": {
    "id": "upABKE_Pr-LA"
   },
   "outputs": [],
   "source": [
    "# Preprocess text\n",
    "# apply on 30k data\n",
    "# data = data.sample(n=10000, random_state=42)\n",
    "\n",
    "data['lemmatized_content'] = data['review'].apply(advanced_text_preprocessing)"
   ]
  },
  {
   "cell_type": "code",
   "execution_count": 17,
   "metadata": {
    "id": "5LrogWvXunKi"
   },
   "outputs": [],
   "source": [
    "# Ensure target column contains only integers\n",
    "data['target'] = pd.to_numeric(data['target'], errors='coerce')  # Convert to numeric, NaN for invalid\n",
    "data = data.dropna(subset=['target'])  # Drop rows where target conversion failed\n",
    "data['target'] = data['target'].astype(int)  # Convert to integers\n"
   ]
  },
  {
   "cell_type": "code",
   "execution_count": 20,
   "metadata": {
    "colab": {
     "base_uri": "https://localhost:8080/",
     "height": 423
    },
    "id": "ByjOk8vXsfjh",
    "outputId": "7a884ccc-5f5b-44ca-b493-966f115bff52"
   },
   "outputs": [
    {
     "data": {
      "text/html": [
       "<div>\n",
       "<style scoped>\n",
       "    .dataframe tbody tr th:only-of-type {\n",
       "        vertical-align: middle;\n",
       "    }\n",
       "\n",
       "    .dataframe tbody tr th {\n",
       "        vertical-align: top;\n",
       "    }\n",
       "\n",
       "    .dataframe thead th {\n",
       "        text-align: right;\n",
       "    }\n",
       "</style>\n",
       "<table border=\"1\" class=\"dataframe\">\n",
       "  <thead>\n",
       "    <tr style=\"text-align: right;\">\n",
       "      <th></th>\n",
       "      <th>review</th>\n",
       "      <th>sentiment</th>\n",
       "      <th>target</th>\n",
       "      <th>lemmatized_content</th>\n",
       "    </tr>\n",
       "  </thead>\n",
       "  <tbody>\n",
       "    <tr>\n",
       "      <th>0</th>\n",
       "      <td>One of the other reviewers has mentioned that ...</td>\n",
       "      <td>positive</td>\n",
       "      <td>1</td>\n",
       "      <td>one reviewer mentioned watching episode youll ...</td>\n",
       "    </tr>\n",
       "    <tr>\n",
       "      <th>1</th>\n",
       "      <td>A wonderful little production. &lt;br /&gt;&lt;br /&gt;The...</td>\n",
       "      <td>positive</td>\n",
       "      <td>1</td>\n",
       "      <td>wonderful little production filming technique ...</td>\n",
       "    </tr>\n",
       "    <tr>\n",
       "      <th>2</th>\n",
       "      <td>I thought this was a wonderful way to spend ti...</td>\n",
       "      <td>positive</td>\n",
       "      <td>1</td>\n",
       "      <td>thought wonderful way spend time hot summer we...</td>\n",
       "    </tr>\n",
       "    <tr>\n",
       "      <th>3</th>\n",
       "      <td>Basically there's a family where a little boy ...</td>\n",
       "      <td>negative</td>\n",
       "      <td>0</td>\n",
       "      <td>basically there family little boy jake think t...</td>\n",
       "    </tr>\n",
       "    <tr>\n",
       "      <th>4</th>\n",
       "      <td>Petter Mattei's \"Love in the Time of Money\" is...</td>\n",
       "      <td>positive</td>\n",
       "      <td>1</td>\n",
       "      <td>petter matteis love time money visually stunni...</td>\n",
       "    </tr>\n",
       "    <tr>\n",
       "      <th>...</th>\n",
       "      <td>...</td>\n",
       "      <td>...</td>\n",
       "      <td>...</td>\n",
       "      <td>...</td>\n",
       "    </tr>\n",
       "    <tr>\n",
       "      <th>195</th>\n",
       "      <td>Phantasm ....Class. Phantasm II.....awesome. P...</td>\n",
       "      <td>negative</td>\n",
       "      <td>0</td>\n",
       "      <td>phantasm class phantasm iiawesome phantasm iii...</td>\n",
       "    </tr>\n",
       "    <tr>\n",
       "      <th>196</th>\n",
       "      <td>Ludicrous. Angelic 9-year-old Annakin turns in...</td>\n",
       "      <td>negative</td>\n",
       "      <td>0</td>\n",
       "      <td>ludicrous angelic yearold annakin turn whiny b...</td>\n",
       "    </tr>\n",
       "    <tr>\n",
       "      <th>197</th>\n",
       "      <td>Scotty (Grant Cramer, who would go on to star ...</td>\n",
       "      <td>negative</td>\n",
       "      <td>0</td>\n",
       "      <td>scotty grant cramer would star great bmovie ki...</td>\n",
       "    </tr>\n",
       "    <tr>\n",
       "      <th>198</th>\n",
       "      <td>If you keep rigid historical perspective out o...</td>\n",
       "      <td>positive</td>\n",
       "      <td>1</td>\n",
       "      <td>keep rigid historical perspective film actuall...</td>\n",
       "    </tr>\n",
       "    <tr>\n",
       "      <th>199</th>\n",
       "      <td>The film quickly gets to a major chase scene w...</td>\n",
       "      <td>negative</td>\n",
       "      <td>0</td>\n",
       "      <td>film quickly get major chase scene ever increa...</td>\n",
       "    </tr>\n",
       "  </tbody>\n",
       "</table>\n",
       "<p>200 rows × 4 columns</p>\n",
       "</div>"
      ],
      "text/plain": [
       "                                                review sentiment  target  \\\n",
       "0    One of the other reviewers has mentioned that ...  positive       1   \n",
       "1    A wonderful little production. <br /><br />The...  positive       1   \n",
       "2    I thought this was a wonderful way to spend ti...  positive       1   \n",
       "3    Basically there's a family where a little boy ...  negative       0   \n",
       "4    Petter Mattei's \"Love in the Time of Money\" is...  positive       1   \n",
       "..                                                 ...       ...     ...   \n",
       "195  Phantasm ....Class. Phantasm II.....awesome. P...  negative       0   \n",
       "196  Ludicrous. Angelic 9-year-old Annakin turns in...  negative       0   \n",
       "197  Scotty (Grant Cramer, who would go on to star ...  negative       0   \n",
       "198  If you keep rigid historical perspective out o...  positive       1   \n",
       "199  The film quickly gets to a major chase scene w...  negative       0   \n",
       "\n",
       "                                    lemmatized_content  \n",
       "0    one reviewer mentioned watching episode youll ...  \n",
       "1    wonderful little production filming technique ...  \n",
       "2    thought wonderful way spend time hot summer we...  \n",
       "3    basically there family little boy jake think t...  \n",
       "4    petter matteis love time money visually stunni...  \n",
       "..                                                 ...  \n",
       "195  phantasm class phantasm iiawesome phantasm iii...  \n",
       "196  ludicrous angelic yearold annakin turn whiny b...  \n",
       "197  scotty grant cramer would star great bmovie ki...  \n",
       "198  keep rigid historical perspective film actuall...  \n",
       "199  film quickly get major chase scene ever increa...  \n",
       "\n",
       "[200 rows x 4 columns]"
      ]
     },
     "execution_count": 20,
     "metadata": {},
     "output_type": "execute_result"
    }
   ],
   "source": [
    "data.head(200)"
   ]
  },
  {
   "cell_type": "code",
   "execution_count": 21,
   "metadata": {
    "id": "PI4nT557sOcK"
   },
   "outputs": [],
   "source": [
    "X = data['lemmatized_content'].values\n",
    "y = data['target'].values\n",
    "X_train, X_test, y_train, y_test = train_test_split(\n",
    "    X, y, test_size=0.2, stratify=y, random_state=42\n",
    ")"
   ]
  },
  {
   "cell_type": "code",
   "execution_count": 22,
   "metadata": {
    "colab": {
     "base_uri": "https://localhost:8080/"
    },
    "id": "y9W0ygsXuxPK",
    "outputId": "bcc6d97a-ca78-4db1-c744-69c84f415461"
   },
   "outputs": [
    {
     "name": "stdout",
     "output_type": "stream",
     "text": [
      "Training deep learning model...\n",
      "Epoch 1/10\n"
     ]
    },
    {
     "name": "stderr",
     "output_type": "stream",
     "text": [
      "C:\\Users\\nikhi\\AppData\\Roaming\\Python\\Python312\\site-packages\\keras\\src\\layers\\core\\embedding.py:90: UserWarning: Argument `input_length` is deprecated. Just remove it.\n",
      "  warnings.warn(\n"
     ]
    },
    {
     "name": "stdout",
     "output_type": "stream",
     "text": [
      "\u001b[1m1000/1000\u001b[0m \u001b[32m━━━━━━━━━━━━━━━━━━━━\u001b[0m\u001b[37m\u001b[0m \u001b[1m86s\u001b[0m 83ms/step - accuracy: 0.5313 - loss: 0.6857 - val_accuracy: 0.6173 - val_loss: 0.6341\n",
      "Epoch 2/10\n",
      "\u001b[1m1000/1000\u001b[0m \u001b[32m━━━━━━━━━━━━━━━━━━━━\u001b[0m\u001b[37m\u001b[0m \u001b[1m82s\u001b[0m 82ms/step - accuracy: 0.6641 - loss: 0.6156 - val_accuracy: 0.7746 - val_loss: 0.5170\n",
      "Epoch 3/10\n",
      "\u001b[1m1000/1000\u001b[0m \u001b[32m━━━━━━━━━━━━━━━━━━━━\u001b[0m\u001b[37m\u001b[0m \u001b[1m83s\u001b[0m 83ms/step - accuracy: 0.7726 - loss: 0.5116 - val_accuracy: 0.8124 - val_loss: 0.4337\n",
      "Epoch 4/10\n",
      "\u001b[1m1000/1000\u001b[0m \u001b[32m━━━━━━━━━━━━━━━━━━━━\u001b[0m\u001b[37m\u001b[0m \u001b[1m85s\u001b[0m 85ms/step - accuracy: 0.8342 - loss: 0.3955 - val_accuracy: 0.8439 - val_loss: 0.3512\n",
      "Epoch 5/10\n",
      "\u001b[1m1000/1000\u001b[0m \u001b[32m━━━━━━━━━━━━━━━━━━━━\u001b[0m\u001b[37m\u001b[0m \u001b[1m85s\u001b[0m 85ms/step - accuracy: 0.8654 - loss: 0.3288 - val_accuracy: 0.8472 - val_loss: 0.3492\n",
      "Epoch 6/10\n",
      "\u001b[1m1000/1000\u001b[0m \u001b[32m━━━━━━━━━━━━━━━━━━━━\u001b[0m\u001b[37m\u001b[0m \u001b[1m85s\u001b[0m 85ms/step - accuracy: 0.8905 - loss: 0.2803 - val_accuracy: 0.8309 - val_loss: 0.3708\n",
      "Epoch 7/10\n",
      "\u001b[1m1000/1000\u001b[0m \u001b[32m━━━━━━━━━━━━━━━━━━━━\u001b[0m\u001b[37m\u001b[0m \u001b[1m84s\u001b[0m 84ms/step - accuracy: 0.8923 - loss: 0.2687 - val_accuracy: 0.8524 - val_loss: 0.3552\n",
      "Epoch 8/10\n",
      "\u001b[1m1000/1000\u001b[0m \u001b[32m━━━━━━━━━━━━━━━━━━━━\u001b[0m\u001b[37m\u001b[0m \u001b[1m85s\u001b[0m 85ms/step - accuracy: 0.9083 - loss: 0.2308 - val_accuracy: 0.8562 - val_loss: 0.3618\n",
      "Epoch 9/10\n",
      "\u001b[1m1000/1000\u001b[0m \u001b[32m━━━━━━━━━━━━━━━━━━━━\u001b[0m\u001b[37m\u001b[0m \u001b[1m85s\u001b[0m 85ms/step - accuracy: 0.9274 - loss: 0.1873 - val_accuracy: 0.8576 - val_loss: 0.3897\n",
      "Epoch 10/10\n",
      "\u001b[1m1000/1000\u001b[0m \u001b[32m━━━━━━━━━━━━━━━━━━━━\u001b[0m\u001b[37m\u001b[0m \u001b[1m85s\u001b[0m 85ms/step - accuracy: 0.9403 - loss: 0.1640 - val_accuracy: 0.8524 - val_loss: 0.4039\n",
      "\u001b[1m1250/1250\u001b[0m \u001b[32m━━━━━━━━━━━━━━━━━━━━\u001b[0m\u001b[37m\u001b[0m \u001b[1m18s\u001b[0m 14ms/step\n",
      "\u001b[1m313/313\u001b[0m \u001b[32m━━━━━━━━━━━━━━━━━━━━\u001b[0m\u001b[37m\u001b[0m \u001b[1m4s\u001b[0m 14ms/step\n"
     ]
    }
   ],
   "source": [
    "# Train deep learning model\n",
    "print(\"Training deep learning model...\")\n",
    "\n",
    "dl_results, dl_model, tokenizer = train_deep_learning_model(X_train, y_train, X_test, y_test)"
   ]
  },
  {
   "cell_type": "code",
   "execution_count": null,
   "metadata": {
    "id": "2irzgxWcwq5p"
   },
   "outputs": [],
   "source": []
  },
  {
   "cell_type": "code",
   "execution_count": 23,
   "metadata": {
    "colab": {
     "base_uri": "https://localhost:8080/"
    },
    "id": "aUCJ39KKwVvJ",
    "outputId": "c21560ca-8f32-4a29-d537-0309b0610a08"
   },
   "outputs": [
    {
     "name": "stdout",
     "output_type": "stream",
     "text": [
      "\n",
      "Deep Learning Model Results:\n",
      "Training Accuracy: 0.9419\n",
      "Test Accuracy: 0.4952\n",
      "\n",
      "Classification Report:\n",
      "              precision    recall  f1-score   support\n",
      "\n",
      "         0.0       0.50      0.50      0.50      5000\n",
      "         1.0       0.50      0.49      0.49      5000\n",
      "\n",
      "    accuracy                           0.50     10000\n",
      "   macro avg       0.50      0.50      0.50     10000\n",
      "weighted avg       0.50      0.50      0.50     10000\n",
      "\n"
     ]
    }
   ],
   "source": [
    "for model_name, metrics in dl_results.items():\n",
    "        print(f\"\\n{model_name} Results:\")\n",
    "        print(f\"Training Accuracy: {metrics['train_accuracy']:.4f}\")\n",
    "        print(f\"Test Accuracy: {metrics['test_accuracy']:.4f}\")\n",
    "        print(\"\\nClassification Report:\")\n",
    "        print(metrics['classification_report'])"
   ]
  },
  {
   "cell_type": "code",
   "execution_count": 24,
   "metadata": {
    "id": "heo63rSxyw-d"
   },
   "outputs": [],
   "source": [
    "import seaborn as sns\n",
    "import matplotlib.pyplot as plt\n",
    "\n",
    "def plot_confusion_matrix(cm, labels):\n",
    "    \"\"\"Plot the confusion matrix using seaborn\"\"\"\n",
    "    plt.figure(figsize=(6, 6))\n",
    "    sns.heatmap(cm, annot=True, fmt=\"d\", cmap=\"Blues\", xticklabels=labels, yticklabels=labels)\n",
    "    plt.xlabel(\"Predicted Labels\")\n",
    "    plt.ylabel(\"True Labels\")\n",
    "    plt.title(\"Confusion Matrix\")\n",
    "    plt.show()\n"
   ]
  },
  {
   "cell_type": "code",
   "execution_count": 25,
   "metadata": {
    "id": "VL-epJhCwr7M"
   },
   "outputs": [],
   "source": [
    "from sklearn.metrics import confusion_matrix\n",
    "\n",
    "def train_deep_learning_model(X_train, y_train, X_test, y_test):\n",
    "    \"\"\"Train and evaluate deep learning model with confusion matrix\"\"\"\n",
    "    # Prepare data\n",
    "    max_words = 5000\n",
    "    max_length = 100\n",
    "\n",
    "    # Prepare sequences\n",
    "    X_train_seq, tokenizer = prepare_deep_learning_data(X_train, max_words, max_length)\n",
    "    X_test_seq, _ = prepare_deep_learning_data(X_test, max_words, max_length)\n",
    "\n",
    "    # Ensure binary targets\n",
    "    y_train = y_train.astype(float)\n",
    "    y_test = y_test.astype(float)\n",
    "\n",
    "    # Create and compile model\n",
    "    vocab_size = len(tokenizer.word_index) + 1\n",
    "    model = create_deep_learning_model(vocab_size, max_length)\n",
    "\n",
    "    # Train the model\n",
    "    history = model.fit(\n",
    "        X_train_seq, y_train,\n",
    "        epochs=10,\n",
    "        batch_size=32,\n",
    "        validation_split=0.2,\n",
    "        verbose=1\n",
    "    )\n",
    "\n",
    "    # Evaluate the model\n",
    "    train_pred = (model.predict(X_train_seq) > 0.5).astype(int).flatten()\n",
    "    test_pred = (model.predict(X_test_seq) > 0.5).astype(int).flatten()\n",
    "\n",
    "    # Confusion matrix for test data\n",
    "    cm = confusion_matrix(y_test, test_pred)\n",
    "\n",
    "    results = {\n",
    "        'Deep Learning Model': {\n",
    "            'train_accuracy': accuracy_score(y_train, train_pred),\n",
    "            'test_accuracy': accuracy_score(y_test, test_pred),\n",
    "            'classification_report': classification_report(y_test, test_pred),\n",
    "            'confusion_matrix': cm.tolist()  # Convert to list for readability\n",
    "        }\n",
    "    }\n",
    "\n",
    "    return results, model, tokenizer\n"
   ]
  },
  {
   "cell_type": "code",
   "execution_count": 26,
   "metadata": {
    "colab": {
     "base_uri": "https://localhost:8080/",
     "height": 1000
    },
    "id": "T5wcAdOWwwa4",
    "outputId": "f3884a42-b5e9-4dbf-e224-433158f3c07e"
   },
   "outputs": [
    {
     "name": "stdout",
     "output_type": "stream",
     "text": [
      "Epoch 1/10\n"
     ]
    },
    {
     "name": "stderr",
     "output_type": "stream",
     "text": [
      "C:\\Users\\nikhi\\AppData\\Roaming\\Python\\Python312\\site-packages\\keras\\src\\layers\\core\\embedding.py:90: UserWarning: Argument `input_length` is deprecated. Just remove it.\n",
      "  warnings.warn(\n"
     ]
    },
    {
     "name": "stdout",
     "output_type": "stream",
     "text": [
      "\u001b[1m1000/1000\u001b[0m \u001b[32m━━━━━━━━━━━━━━━━━━━━\u001b[0m\u001b[37m\u001b[0m \u001b[1m83s\u001b[0m 81ms/step - accuracy: 0.5257 - loss: 0.6893 - val_accuracy: 0.6345 - val_loss: 0.6483\n",
      "Epoch 2/10\n",
      "\u001b[1m1000/1000\u001b[0m \u001b[32m━━━━━━━━━━━━━━━━━━━━\u001b[0m\u001b[37m\u001b[0m \u001b[1m81s\u001b[0m 81ms/step - accuracy: 0.6211 - loss: 0.6610 - val_accuracy: 0.6610 - val_loss: 0.6314\n",
      "Epoch 3/10\n",
      "\u001b[1m1000/1000\u001b[0m \u001b[32m━━━━━━━━━━━━━━━━━━━━\u001b[0m\u001b[37m\u001b[0m \u001b[1m80s\u001b[0m 80ms/step - accuracy: 0.7006 - loss: 0.5928 - val_accuracy: 0.8226 - val_loss: 0.3986\n",
      "Epoch 4/10\n",
      "\u001b[1m1000/1000\u001b[0m \u001b[32m━━━━━━━━━━━━━━━━━━━━\u001b[0m\u001b[37m\u001b[0m \u001b[1m82s\u001b[0m 82ms/step - accuracy: 0.8540 - loss: 0.3697 - val_accuracy: 0.8554 - val_loss: 0.3415\n",
      "Epoch 5/10\n",
      "\u001b[1m1000/1000\u001b[0m \u001b[32m━━━━━━━━━━━━━━━━━━━━\u001b[0m\u001b[37m\u001b[0m \u001b[1m81s\u001b[0m 81ms/step - accuracy: 0.8824 - loss: 0.3044 - val_accuracy: 0.8570 - val_loss: 0.3452\n",
      "Epoch 6/10\n",
      "\u001b[1m1000/1000\u001b[0m \u001b[32m━━━━━━━━━━━━━━━━━━━━\u001b[0m\u001b[37m\u001b[0m \u001b[1m81s\u001b[0m 81ms/step - accuracy: 0.9008 - loss: 0.2659 - val_accuracy: 0.8580 - val_loss: 0.3327\n",
      "Epoch 7/10\n",
      "\u001b[1m1000/1000\u001b[0m \u001b[32m━━━━━━━━━━━━━━━━━━━━\u001b[0m\u001b[37m\u001b[0m \u001b[1m82s\u001b[0m 82ms/step - accuracy: 0.9140 - loss: 0.2295 - val_accuracy: 0.8611 - val_loss: 0.3388\n",
      "Epoch 8/10\n",
      "\u001b[1m1000/1000\u001b[0m \u001b[32m━━━━━━━━━━━━━━━━━━━━\u001b[0m\u001b[37m\u001b[0m \u001b[1m81s\u001b[0m 81ms/step - accuracy: 0.9291 - loss: 0.2013 - val_accuracy: 0.8568 - val_loss: 0.3491\n",
      "Epoch 9/10\n",
      "\u001b[1m1000/1000\u001b[0m \u001b[32m━━━━━━━━━━━━━━━━━━━━\u001b[0m\u001b[37m\u001b[0m \u001b[1m81s\u001b[0m 81ms/step - accuracy: 0.9408 - loss: 0.1706 - val_accuracy: 0.8587 - val_loss: 0.3912\n",
      "Epoch 10/10\n",
      "\u001b[1m1000/1000\u001b[0m \u001b[32m━━━━━━━━━━━━━━━━━━━━\u001b[0m\u001b[37m\u001b[0m \u001b[1m81s\u001b[0m 81ms/step - accuracy: 0.9491 - loss: 0.1465 - val_accuracy: 0.8550 - val_loss: 0.4174\n",
      "\u001b[1m1250/1250\u001b[0m \u001b[32m━━━━━━━━━━━━━━━━━━━━\u001b[0m\u001b[37m\u001b[0m \u001b[1m14s\u001b[0m 11ms/step\n",
      "\u001b[1m313/313\u001b[0m \u001b[32m━━━━━━━━━━━━━━━━━━━━\u001b[0m\u001b[37m\u001b[0m \u001b[1m4s\u001b[0m 12ms/step\n",
      "Confusion Matrix:\n",
      " [[2710, 2290], [2790, 2210]]\n"
     ]
    },
    {
     "data": {
      "image/png": "[encoded data removed]",
      "text/plain": [
       "<Figure size 600x600 with 2 Axes>"
      ]
     },
     "metadata": {},
     "output_type": "display_data"
    }
   ],
   "source": [
    "# Train the model and get results\n",
    "results, model, tokenizer = train_deep_learning_model(X_train, y_train, X_test, y_test)\n",
    "\n",
    "# Extract confusion matrix\n",
    "confusion_matrix_data = results['Deep Learning Model']['confusion_matrix']\n",
    "print(\"Confusion Matrix:\\n\", confusion_matrix_data)\n",
    "\n",
    "# Visualize confusion matrix\n",
    "plot_confusion_matrix(confusion_matrix_data, labels=[\"Negative\", \"Positive\"])\n"
   ]
  },
  {
   "cell_type": "code",
   "execution_count": 22,
   "metadata": {
    "id": "vEPHuYr_NscW"
   },
   "outputs": [],
   "source": [
    "import pickle"
   ]
  },
  {
   "cell_type": "code",
   "execution_count": 23,
   "metadata": {
    "id": "XrCfCar9NXkv"
   },
   "outputs": [],
   "source": [
    "with open('model.pkl', 'wb') as file:  # 'wb' means write in binary mode\n",
    "    pickle.dump(model, file)\n"
   ]
  },
  {
   "cell_type": "markdown",
   "metadata": {
    "id": "-NmvXr_MOSvZ"
   },
   "source": []
  },
  {
   "cell_type": "code",
   "execution_count": 27,
   "metadata": {
    "colab": {
     "base_uri": "https://localhost:8080/",
     "height": 371
    },
    "id": "O1cxY0pC2MbA",
    "outputId": "2a18e426-3567-497d-ad29-8f67a054a574"
   },
   "outputs": [
    {
     "name": "stdout",
     "output_type": "stream",
     "text": [
      "\u001b[1m313/313\u001b[0m \u001b[32m━━━━━━━━━━━━━━━━━━━━\u001b[0m\u001b[37m\u001b[0m \u001b[1m4s\u001b[0m 13ms/step\n",
      "Test Accuracy: 0.49\n",
      "\n",
      "Classification Report:\n",
      "               precision    recall  f1-score   support\n",
      "\n",
      "    Negative       0.49      0.54      0.52      5000\n",
      "    Positive       0.49      0.44      0.47      5000\n",
      "\n",
      "    accuracy                           0.49     10000\n",
      "   macro avg       0.49      0.49      0.49     10000\n",
      "weighted avg       0.49      0.49      0.49     10000\n",
      "\n"
     ]
    },
    {
     "data": {
      "image/png": "[encoded data removed]",
      "text/plain": [
       "<Figure size 600x600 with 2 Axes>"
      ]
     },
     "metadata": {},
     "output_type": "display_data"
    }
   ],
   "source": [
    "from sklearn.metrics import accuracy_score, classification_report, confusion_matrix\n",
    "import seaborn as sns\n",
    "import matplotlib.pyplot as plt\n",
    "\n",
    "def plot_confusion_matrix(cm, labels):\n",
    "    \"\"\"Plot the confusion matrix using seaborn\"\"\"\n",
    "    plt.figure(figsize=(6, 6))\n",
    "    sns.heatmap(cm, annot=True, fmt=\"d\", cmap=\"Blues\", xticklabels=labels, yticklabels=labels)\n",
    "    plt.xlabel(\"Predicted Labels\")\n",
    "    plt.ylabel(\"True Labels\")\n",
    "    plt.title(\"Confusion Matrix\")\n",
    "    plt.show()\n",
    "\n",
    "# Evaluate the model on the test dataset\n",
    "def evaluate_model(model, X_test_seq, y_test):\n",
    "    # Generate predictions\n",
    "    y_pred = (model.predict(X_test_seq) > 0.5).astype(int).flatten()\n",
    "\n",
    "    # Calculate metrics\n",
    "    accuracy = accuracy_score(y_test, y_pred)\n",
    "    report = classification_report(y_test, y_pred, target_names=[\"Negative\", \"Positive\"])\n",
    "    cm = confusion_matrix(y_test, y_pred)\n",
    "\n",
    "    # Display results\n",
    "    print(f\"Test Accuracy: {accuracy:.2f}\")\n",
    "    print(\"\\nClassification Report:\\n\", report)\n",
    "\n",
    "    # Plot confusion matrix\n",
    "    plot_confusion_matrix(cm, labels=[\"Negative\", \"Positive\"])\n",
    "\n",
    "# Prepare test data sequences\n",
    "max_words = 5000\n",
    "max_length = 100\n",
    "X_test_seq, _ = prepare_deep_learning_data(X_test, max_words, max_length)\n",
    "\n",
    "# Test and evaluate the model\n",
    "evaluate_model(model, X_test_seq, y_test)\n"
   ]
  },
  {
   "cell_type": "markdown",
   "metadata": {},
   "source": [
    "# Sentiment Analysis Model Performance Report\n",
    "\n",
    "## Executive Summary\n",
    "\n",
    "This report provides a comprehensive analysis of a deep learning-based sentiment analysis model trained on the IMDB movie review dataset, highlighting its performance, challenges, and key insights.\n",
    "\n",
    "## Model Performance Metrics\n",
    "\n",
    "| Metric | Value |\n",
    "|--------|-------|\n",
    "| Overall Accuracy | 0.49 (49%) |\n",
    "| Training Accuracy | 0.9419 (94.19%) |\n",
    "| Validation Accuracy | 0.8550 (85.50%) |\n",
    "| Precision (Negative) | 0.49 |\n",
    "| Precision (Positive) | 0.49 |\n",
    "| Recall (Negative) | 0.54 |\n",
    "| Recall (Positive) | 0.44 |\n",
    "| F1-Score (Negative) | 0.52 |\n",
    "| F1-Score (Positive) | 0.47 |\n",
    "\n",
    "## Detailed Performance Analysis\n",
    "\n",
    "### Training Performance\n",
    "- **Epochs**: 10\n",
    "- Training showed consistent improvement in accuracy and reduction in loss\n",
    "- Training accuracy reached 94.91% by the final epoch\n",
    "- Validation accuracy stabilized around 85.50%\n",
    "\n",
    "### Challenges and Observations\n",
    "1. **Overfitting Indication**: \n",
    "   - Significant discrepancy between training (94.19%) and test accuracy (49%)\n",
    "   - Suggests potential overfitting to training data\n",
    "\n",
    "2. **Model Generalization**:\n",
    "   - Test performance is close to random guessing (50%)\n",
    "   - Indicates poor generalization of the learned patterns\n",
    "\n",
    "### Model Configuration\n",
    "- **Architecture**: LSTM-based Neural Network\n",
    "- **Embedding Dimension**: 100\n",
    "- **LSTM Layer**: 128 units\n",
    "- **Dropout Rates**: \n",
    "  - LSTM Layer: 0.2\n",
    "  - Dense Layer: 0.5\n",
    "\n",
    "### Technical Specifications\n",
    "- **Preprocessing Techniques**:\n",
    "  - Lemmatization\n",
    "  - Stopword removal\n",
    "  - URL and special character removal\n",
    "- **Tokenization**: \n",
    "  - Maximum words: 5000\n",
    "  - Sequence length: 100\n",
    "- **Optimizer**: Adam (learning rate: 0.001)\n",
    "- **Loss Function**: Binary Cross-Entropy\n",
    "\n",
    "## Key Findings and Recommendations\n",
    "\n",
    "### Recommendations\n",
    "1. **Regularization**\n",
    "   - Implement stronger regularization techniques\n",
    "   - Experiment with different dropout rates\n",
    "   - Consider adding L1/L2 regularization\n",
    "\n",
    "2. **Data Augmentation**\n",
    "   - Increase dataset diversity\n",
    "   - Apply data augmentation techniques\n",
    "   - Consider transfer learning with pre-trained embeddings\n",
    "\n",
    "3. **Model Architecture**\n",
    "   - Explore more complex architectures\n",
    "   - Try bi-directional LSTM\n",
    "   - Experiment with attention mechanisms\n",
    "\n",
    "4. **Hyperparameter Tuning**\n",
    "   - Conduct systematic hyperparameter optimization\n",
    "   - Use techniques like grid search or random search\n",
    "   - Validate with cross-validation\n",
    "\n",
    "## Conclusion\n",
    "The current model demonstrates significant potential but requires substantial refinement. The high training accuracy coupled with poor test performance suggests the need for improved generalization strategies.\n",
    "\n",
    "### Next Steps\n",
    "- Implement recommended improvements\n",
    "- Conduct more extensive cross-validation\n",
    "- Explore alternative model architectures\n",
    "\n",
    "**Model Status**: Requires significant optimization"
   ]
  },
  {
   "cell_type": "markdown",
   "metadata": {},
   "source": []
  }
 ],
 "metadata": {
  "colab": {
   "provenance": []
  },
  "kernelspec": {
   "display_name": "Python 3",
   "name": "python3"
  },
  "language_info": {
   "codemirror_mode": {
    "name": "ipython",
    "version": 3
   },
   "file_extension": ".py",
   "mimetype": "text/x-python",
   "name": "python",
   "nbconvert_exporter": "python",
   "pygments_lexer": "ipython3",
   "version": "3.12.6"
  }
 },
 "nbformat": 4,
 "nbformat_minor": 0
}
