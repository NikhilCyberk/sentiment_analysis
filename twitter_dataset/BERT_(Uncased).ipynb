{
 "cells": [
  {
   "cell_type": "markdown",
   "metadata": {
    "id": "mOJnVW4Uk8bl"
   },
   "source": [
    "# INSTALLING PACKAGES"
   ]
  },
  {
   "cell_type": "code",
   "execution_count": 1,
   "metadata": {
    "colab": {
     "base_uri": "https://localhost:8080/"
    },
    "id": "nqrN0vxTinoe",
    "outputId": "a33b49b0-af02-4832-fe05-84d04108a84c"
   },
   "outputs": [
    {
     "name": "stdout",
     "output_type": "stream",
     "text": [
      "Requirement already satisfied: transformers in /usr/local/lib/python3.10/dist-packages (4.46.2)\n",
      "Requirement already satisfied: torch in /usr/local/lib/python3.10/dist-packages (2.5.1+cu121)\n",
      "Collecting datasets\n",
      "  Downloading datasets-3.1.0-py3-none-any.whl.metadata (20 kB)\n",
      "Requirement already satisfied: scikit-learn in /usr/local/lib/python3.10/dist-packages (1.5.2)\n",
      "Requirement already satisfied: filelock in /usr/local/lib/python3.10/dist-packages (from transformers) (3.16.1)\n",
      "Requirement already satisfied: huggingface-hub<1.0,>=0.23.2 in /usr/local/lib/python3.10/dist-packages (from transformers) (0.26.2)\n",
      "Requirement already satisfied: numpy>=1.17 in /usr/local/lib/python3.10/dist-packages (from transformers) (1.26.4)\n",
      "Requirement already satisfied: packaging>=20.0 in /usr/local/lib/python3.10/dist-packages (from transformers) (24.2)\n",
      "Requirement already satisfied: pyyaml>=5.1 in /usr/local/lib/python3.10/dist-packages (from transformers) (6.0.2)\n",
      "Requirement already satisfied: regex!=2019.12.17 in /usr/local/lib/python3.10/dist-packages (from transformers) (2024.9.11)\n",
      "Requirement already satisfied: requests in /usr/local/lib/python3.10/dist-packages (from transformers) (2.32.3)\n",
      "Requirement already satisfied: safetensors>=0.4.1 in /usr/local/lib/python3.10/dist-packages (from transformers) (0.4.5)\n",
      "Requirement already satisfied: tokenizers<0.21,>=0.20 in /usr/local/lib/python3.10/dist-packages (from transformers) (0.20.3)\n",
      "Requirement already satisfied: tqdm>=4.27 in /usr/local/lib/python3.10/dist-packages (from transformers) (4.66.6)\n",
      "Requirement already satisfied: typing-extensions>=4.8.0 in /usr/local/lib/python3.10/dist-packages (from torch) (4.12.2)\n",
      "Requirement already satisfied: networkx in /usr/local/lib/python3.10/dist-packages (from torch) (3.4.2)\n",
      "Requirement already satisfied: jinja2 in /usr/local/lib/python3.10/dist-packages (from torch) (3.1.4)\n",
      "Requirement already satisfied: fsspec in /usr/local/lib/python3.10/dist-packages (from torch) (2024.10.0)\n",
      "Requirement already satisfied: sympy==1.13.1 in /usr/local/lib/python3.10/dist-packages (from torch) (1.13.1)\n",
      "Requirement already satisfied: mpmath<1.4,>=1.1.0 in /usr/local/lib/python3.10/dist-packages (from sympy==1.13.1->torch) (1.3.0)\n",
      "Requirement already satisfied: pyarrow>=15.0.0 in /usr/local/lib/python3.10/dist-packages (from datasets) (17.0.0)\n",
      "Collecting dill<0.3.9,>=0.3.0 (from datasets)\n",
      "  Downloading dill-0.3.8-py3-none-any.whl.metadata (10 kB)\n",
      "Requirement already satisfied: pandas in /usr/local/lib/python3.10/dist-packages (from datasets) (2.2.2)\n",
      "Collecting xxhash (from datasets)\n",
      "  Downloading xxhash-3.5.0-cp310-cp310-manylinux_2_17_x86_64.manylinux2014_x86_64.whl.metadata (12 kB)\n",
      "Collecting multiprocess<0.70.17 (from datasets)\n",
      "  Downloading multiprocess-0.70.16-py310-none-any.whl.metadata (7.2 kB)\n",
      "Collecting fsspec (from torch)\n",
      "  Downloading fsspec-2024.9.0-py3-none-any.whl.metadata (11 kB)\n",
      "Requirement already satisfied: aiohttp in /usr/local/lib/python3.10/dist-packages (from datasets) (3.11.2)\n",
      "Requirement already satisfied: scipy>=1.6.0 in /usr/local/lib/python3.10/dist-packages (from scikit-learn) (1.13.1)\n",
      "Requirement already satisfied: joblib>=1.2.0 in /usr/local/lib/python3.10/dist-packages (from scikit-learn) (1.4.2)\n",
      "Requirement already satisfied: threadpoolctl>=3.1.0 in /usr/local/lib/python3.10/dist-packages (from scikit-learn) (3.5.0)\n",
      "Requirement already satisfied: aiohappyeyeballs>=2.3.0 in /usr/local/lib/python3.10/dist-packages (from aiohttp->datasets) (2.4.3)\n",
      "Requirement already satisfied: aiosignal>=1.1.2 in /usr/local/lib/python3.10/dist-packages (from aiohttp->datasets) (1.3.1)\n",
      "Requirement already satisfied: attrs>=17.3.0 in /usr/local/lib/python3.10/dist-packages (from aiohttp->datasets) (24.2.0)\n",
      "Requirement already satisfied: frozenlist>=1.1.1 in /usr/local/lib/python3.10/dist-packages (from aiohttp->datasets) (1.5.0)\n",
      "Requirement already satisfied: multidict<7.0,>=4.5 in /usr/local/lib/python3.10/dist-packages (from aiohttp->datasets) (6.1.0)\n",
      "Requirement already satisfied: propcache>=0.2.0 in /usr/local/lib/python3.10/dist-packages (from aiohttp->datasets) (0.2.0)\n",
      "Requirement already satisfied: yarl<2.0,>=1.17.0 in /usr/local/lib/python3.10/dist-packages (from aiohttp->datasets) (1.17.2)\n",
      "Requirement already satisfied: async-timeout<6.0,>=4.0 in /usr/local/lib/python3.10/dist-packages (from aiohttp->datasets) (4.0.3)\n",
      "Requirement already satisfied: charset-normalizer<4,>=2 in /usr/local/lib/python3.10/dist-packages (from requests->transformers) (3.4.0)\n",
      "Requirement already satisfied: idna<4,>=2.5 in /usr/local/lib/python3.10/dist-packages (from requests->transformers) (3.10)\n",
      "Requirement already satisfied: urllib3<3,>=1.21.1 in /usr/local/lib/python3.10/dist-packages (from requests->transformers) (2.2.3)\n",
      "Requirement already satisfied: certifi>=2017.4.17 in /usr/local/lib/python3.10/dist-packages (from requests->transformers) (2024.8.30)\n",
      "Requirement already satisfied: MarkupSafe>=2.0 in /usr/local/lib/python3.10/dist-packages (from jinja2->torch) (3.0.2)\n",
      "Requirement already satisfied: python-dateutil>=2.8.2 in /usr/local/lib/python3.10/dist-packages (from pandas->datasets) (2.8.2)\n",
      "Requirement already satisfied: pytz>=2020.1 in /usr/local/lib/python3.10/dist-packages (from pandas->datasets) (2024.2)\n",
      "Requirement already satisfied: tzdata>=2022.7 in /usr/local/lib/python3.10/dist-packages (from pandas->datasets) (2024.2)\n",
      "Requirement already satisfied: six>=1.5 in /usr/local/lib/python3.10/dist-packages (from python-dateutil>=2.8.2->pandas->datasets) (1.16.0)\n",
      "Downloading datasets-3.1.0-py3-none-any.whl (480 kB)\n",
      "\u001b[2K   \u001b[90m━━━━━━━━━━━━━━━━━━━━━━━━━━━━━━━━━━━━━━━━\u001b[0m \u001b[32m480.6/480.6 kB\u001b[0m \u001b[31m9.3 MB/s\u001b[0m eta \u001b[36m0:00:00\u001b[0m\n",
      "\u001b[?25hDownloading dill-0.3.8-py3-none-any.whl (116 kB)\n",
      "\u001b[2K   \u001b[90m━━━━━━━━━━━━━━━━━━━━━━━━━━━━━━━━━━━━━━━━\u001b[0m \u001b[32m116.3/116.3 kB\u001b[0m \u001b[31m7.6 MB/s\u001b[0m eta \u001b[36m0:00:00\u001b[0m\n",
      "\u001b[?25hDownloading fsspec-2024.9.0-py3-none-any.whl (179 kB)\n",
      "\u001b[2K   \u001b[90m━━━━━━━━━━━━━━━━━━━━━━━━━━━━━━━━━━━━━━━━\u001b[0m \u001b[32m179.3/179.3 kB\u001b[0m \u001b[31m8.5 MB/s\u001b[0m eta \u001b[36m0:00:00\u001b[0m\n",
      "\u001b[?25hDownloading multiprocess-0.70.16-py310-none-any.whl (134 kB)\n",
      "\u001b[2K   \u001b[90m━━━━━━━━━━━━━━━━━━━━━━━━━━━━━━━━━━━━━━━━\u001b[0m \u001b[32m134.8/134.8 kB\u001b[0m \u001b[31m10.7 MB/s\u001b[0m eta \u001b[36m0:00:00\u001b[0m\n",
      "\u001b[?25hDownloading xxhash-3.5.0-cp310-cp310-manylinux_2_17_x86_64.manylinux2014_x86_64.whl (194 kB)\n",
      "\u001b[2K   \u001b[90m━━━━━━━━━━━━━━━━━━━━━━━━━━━━━━━━━━━━━━━━\u001b[0m \u001b[32m194.1/194.1 kB\u001b[0m \u001b[31m14.3 MB/s\u001b[0m eta \u001b[36m0:00:00\u001b[0m\n",
      "\u001b[?25hInstalling collected packages: xxhash, fsspec, dill, multiprocess, datasets\n",
      "  Attempting uninstall: fsspec\n",
      "    Found existing installation: fsspec 2024.10.0\n",
      "    Uninstalling fsspec-2024.10.0:\n",
      "      Successfully uninstalled fsspec-2024.10.0\n",
      "\u001b[31mERROR: pip's dependency resolver does not currently take into account all the packages that are installed. This behaviour is the source of the following dependency conflicts.\n",
      "gcsfs 2024.10.0 requires fsspec==2024.10.0, but you have fsspec 2024.9.0 which is incompatible.\u001b[0m\u001b[31m\n",
      "\u001b[0mSuccessfully installed datasets-3.1.0 dill-0.3.8 fsspec-2024.9.0 multiprocess-0.70.16 xxhash-3.5.0\n"
     ]
    }
   ],
   "source": [
    "!pip install transformers torch datasets scikit-learn"
   ]
  },
  {
   "cell_type": "markdown",
   "metadata": {
    "id": "F8f3c662iH_e"
   },
   "source": []
  },
  {
   "cell_type": "markdown",
   "metadata": {
    "id": "fweB_iBzkz1u"
   },
   "source": [
    "# DATA PREPARATION"
   ]
  },
  {
   "cell_type": "code",
   "execution_count": 1,
   "metadata": {
    "id": "h4lWg8Nymqy9"
   },
   "outputs": [
    {
     "name": "stdout",
     "output_type": "stream",
     "text": [
      "WARNING:tensorflow:From C:\\Users\\nikhi\\AppData\\Roaming\\Python\\Python312\\site-packages\\tf_keras\\src\\losses.py:2976: The name tf.losses.sparse_softmax_cross_entropy is deprecated. Please use tf.compat.v1.losses.sparse_softmax_cross_entropy instead.\n",
      "\n"
     ]
    }
   ],
   "source": [
    "#import required packages\n",
    "import matplotlib.pyplot as plt\n",
    "import seaborn as sns\n",
    "from sklearn.model_selection import train_test_split\n",
    "from transformers import AutoTokenizer\n",
    "import torch\n",
    "from transformers import TrainingArguments, Trainer\n",
    "from transformers import DataCollatorWithPadding\n",
    "from transformers import AutoModelForSequenceClassification\n"
   ]
  },
  {
   "cell_type": "code",
   "execution_count": 2,
   "metadata": {
    "colab": {
     "base_uri": "https://localhost:8080/"
    },
    "id": "hSZyhdMHi75e",
    "outputId": "e152cace-6d45-4615-a52a-6bac9976e69c"
   },
   "outputs": [
    {
     "data": {
      "text/html": [
       "<div>\n",
       "<style scoped>\n",
       "    .dataframe tbody tr th:only-of-type {\n",
       "        vertical-align: middle;\n",
       "    }\n",
       "\n",
       "    .dataframe tbody tr th {\n",
       "        vertical-align: top;\n",
       "    }\n",
       "\n",
       "    .dataframe thead th {\n",
       "        text-align: right;\n",
       "    }\n",
       "</style>\n",
       "<table border=\"1\" class=\"dataframe\">\n",
       "  <thead>\n",
       "    <tr style=\"text-align: right;\">\n",
       "      <th></th>\n",
       "      <th>target</th>\n",
       "      <th>ids</th>\n",
       "      <th>date</th>\n",
       "      <th>flag</th>\n",
       "      <th>user</th>\n",
       "      <th>text</th>\n",
       "    </tr>\n",
       "  </thead>\n",
       "  <tbody>\n",
       "    <tr>\n",
       "      <th>541200</th>\n",
       "      <td>0</td>\n",
       "      <td>2200003196</td>\n",
       "      <td>Tue Jun 16 18:18:12 PDT 2009</td>\n",
       "      <td>NO_QUERY</td>\n",
       "      <td>LaLaLindsey0609</td>\n",
       "      <td>@chrishasboobs AHHH I HOPE YOUR OK!!!</td>\n",
       "    </tr>\n",
       "    <tr>\n",
       "      <th>750</th>\n",
       "      <td>0</td>\n",
       "      <td>1467998485</td>\n",
       "      <td>Mon Apr 06 23:11:14 PDT 2009</td>\n",
       "      <td>NO_QUERY</td>\n",
       "      <td>sexygrneyes</td>\n",
       "      <td>@misstoriblack cool , i have no tweet apps  fo...</td>\n",
       "    </tr>\n",
       "    <tr>\n",
       "      <th>766711</th>\n",
       "      <td>0</td>\n",
       "      <td>2300048954</td>\n",
       "      <td>Tue Jun 23 13:40:11 PDT 2009</td>\n",
       "      <td>NO_QUERY</td>\n",
       "      <td>sammydearr</td>\n",
       "      <td>@TiannaChaos i know  just family drama. its la...</td>\n",
       "    </tr>\n",
       "    <tr>\n",
       "      <th>285055</th>\n",
       "      <td>0</td>\n",
       "      <td>1993474027</td>\n",
       "      <td>Mon Jun 01 10:26:07 PDT 2009</td>\n",
       "      <td>NO_QUERY</td>\n",
       "      <td>Lamb_Leanne</td>\n",
       "      <td>School email won't open  and I have geography ...</td>\n",
       "    </tr>\n",
       "    <tr>\n",
       "      <th>705995</th>\n",
       "      <td>0</td>\n",
       "      <td>2256550904</td>\n",
       "      <td>Sat Jun 20 12:56:51 PDT 2009</td>\n",
       "      <td>NO_QUERY</td>\n",
       "      <td>yogicerdito</td>\n",
       "      <td>upper airways problem</td>\n",
       "    </tr>\n",
       "  </tbody>\n",
       "</table>\n",
       "</div>"
      ],
      "text/plain": [
       "        target         ids                          date      flag  \\\n",
       "541200       0  2200003196  Tue Jun 16 18:18:12 PDT 2009  NO_QUERY   \n",
       "750          0  1467998485  Mon Apr 06 23:11:14 PDT 2009  NO_QUERY   \n",
       "766711       0  2300048954  Tue Jun 23 13:40:11 PDT 2009  NO_QUERY   \n",
       "285055       0  1993474027  Mon Jun 01 10:26:07 PDT 2009  NO_QUERY   \n",
       "705995       0  2256550904  Sat Jun 20 12:56:51 PDT 2009  NO_QUERY   \n",
       "\n",
       "                   user                                               text  \n",
       "541200  LaLaLindsey0609             @chrishasboobs AHHH I HOPE YOUR OK!!!   \n",
       "750         sexygrneyes  @misstoriblack cool , i have no tweet apps  fo...  \n",
       "766711       sammydearr  @TiannaChaos i know  just family drama. its la...  \n",
       "285055      Lamb_Leanne  School email won't open  and I have geography ...  \n",
       "705995      yogicerdito                             upper airways problem   "
      ]
     },
     "execution_count": 2,
     "metadata": {},
     "output_type": "execute_result"
    }
   ],
   "source": [
    "# Load the CSV file\n",
    "import pandas as pd\n",
    "# df = pd.read_csv(\"twitter_dataset.csv\")\n",
    "\n",
    "column_names = ['target', 'ids', 'date','flag','user','text']\n",
    "df = pd.read_csv(\"twitter_dataset.csv\",names=column_names, encoding = 'ISO-8859-1')\n",
    "\n",
    "df['target'] = df['target'].replace(4, 1)\n",
    "\n",
    "\n",
    "df = df.sample(n=30000, random_state=42)\n",
    "df.head()\n",
    "df.shape\n",
    "\n",
    "# twitter_data.head()\n",
    "\n",
    "\n",
    "# df = pd.read_csv(\"twitter_dataset.csv\", encoding='ISO-8859-1')\n",
    "# View the first few rows\n",
    "df.head()\n"
   ]
  },
  {
   "cell_type": "code",
   "execution_count": 3,
   "metadata": {
    "colab": {
     "base_uri": "https://localhost:8080/"
    },
    "id": "V3kC3ktDi-W9",
    "outputId": "27394392-d623-44e7-9be9-b9f0e87d58cf"
   },
   "outputs": [
    {
     "name": "stdout",
     "output_type": "stream",
     "text": [
      "target    0\n",
      "ids       0\n",
      "date      0\n",
      "flag      0\n",
      "user      0\n",
      "text      0\n",
      "dtype: int64\n",
      "<class 'pandas.core.frame.DataFrame'>\n",
      "Index: 30000 entries, 541200 to 1027373\n",
      "Data columns (total 6 columns):\n",
      " #   Column  Non-Null Count  Dtype \n",
      "---  ------  --------------  ----- \n",
      " 0   target  30000 non-null  int64 \n",
      " 1   ids     30000 non-null  int64 \n",
      " 2   date    30000 non-null  object\n",
      " 3   flag    30000 non-null  object\n",
      " 4   user    30000 non-null  object\n",
      " 5   text    30000 non-null  object\n",
      "dtypes: int64(2), object(4)\n",
      "memory usage: 1.6+ MB\n",
      "None\n"
     ]
    }
   ],
   "source": [
    "# Check for missing values\n",
    "print(df.isnull().sum())\n",
    "\n",
    "# Check data types\n",
    "print(df.info())"
   ]
  },
  {
   "cell_type": "code",
   "execution_count": 4,
   "metadata": {
    "id": "dmffzGKHl6iO"
   },
   "outputs": [],
   "source": [
    "df = df[[\"text\", \"target\"]]"
   ]
  },
  {
   "cell_type": "code",
   "execution_count": 5,
   "metadata": {
    "colab": {
     "base_uri": "https://localhost:8080/",
     "height": 606
    },
    "id": "Uu_XqdxjmewN",
    "outputId": "8a1f276a-3132-41b1-a1b1-6aa3b91d6908"
   },
   "outputs": [
    {
     "name": "stderr",
     "output_type": "stream",
     "text": [
      "C:\\Users\\nikhi\\AppData\\Local\\Temp\\ipykernel_13544\\2298899905.py:7: FutureWarning: \n",
      "\n",
      "Passing `palette` without assigning `hue` is deprecated and will be removed in v0.14.0. Assign the `x` variable to `hue` and set `legend=False` for the same effect.\n",
      "\n",
      "  sns.barplot(x=class_counts.index, y=class_counts.values, palette=\"viridis\")\n"
     ]
    },
    {
     "data": {
      "image/png": "[encoded data removed]",
      "text/plain": [
       "<Figure size 800x500 with 1 Axes>"
      ]
     },
     "metadata": {},
     "output_type": "display_data"
    }
   ],
   "source": [
    "#checking for imbalances\n",
    "class_counts = df[\"target\"].value_counts()\n",
    "sns.set(style=\"whitegrid\")\n",
    "\n",
    "# Create the bar plot\n",
    "plt.figure(figsize=(8, 5))\n",
    "sns.barplot(x=class_counts.index, y=class_counts.values, palette=\"viridis\")\n",
    "\n",
    "# Add titles and labels\n",
    "plt.title(\"Class Distribution\", fontsize=16)\n",
    "plt.xlabel(\"Class\", fontsize=14)\n",
    "plt.ylabel(\"Count\", fontsize=14)\n",
    "\n",
    "# Show the plot\n",
    "plt.show()"
   ]
  },
  {
   "cell_type": "code",
   "execution_count": 6,
   "metadata": {
    "id": "_UXfJszCm-eN"
   },
   "outputs": [],
   "source": [
    "#UDERSAMPLING FOR HANDLING IMBALANCES CLASSES\n",
    "\n",
    "min_count = df['target'].value_counts().min()\n",
    "balanced_df = df.groupby('target').sample(n=min_count, random_state=42)\n",
    "\n",
    "\n"
   ]
  },
  {
   "cell_type": "code",
   "execution_count": null,
   "metadata": {
    "colab": {
     "base_uri": "https://localhost:8080/",
     "height": 606
    },
    "id": "ZZDVbguKnLrl",
    "outputId": "65d52f4c-86d3-449e-f16f-4f12d33ae89b"
   },
   "outputs": [
    {
     "name": "stderr",
     "output_type": "stream",
     "text": [
      "C:\\Users\\nikhi\\AppData\\Local\\Temp\\ipykernel_13544\\2337676282.py:7: FutureWarning: \n",
      "\n",
      "Passing `palette` without assigning `hue` is deprecated and will be removed in v0.14.0. Assign the `x` variable to `hue` and set `legend=False` for the same effect.\n",
      "\n",
      "  sns.barplot(x=class_counts.index, y=class_counts.values, palette=\"viridis\")\n"
     ]
    },
    {
     "data": {
      "image/png": "[encoded data removed]",
      "text/plain": [
       "<Figure size 800x500 with 1 Axes>"
      ]
     },
     "metadata": {},
     "output_type": "display_data"
    }
   ],
   "source": [
    "#checking for imbalances\n",
    "class_counts = balanced_df[\"target\"].value_counts()\n",
    "sns.set(style=\"whitegrid\")\n",
    "\n",
    "# Create the bar plot\n",
    "plt.figure(figsize=(8, 5))\n",
    "sns.barplot(x=class_counts.index, y=class_counts.values, palette=\"viridis\")\n",
    "\n",
    "# Add titles and labels\n",
    "plt.title(\"Class Distribution\", fontsize=16)\n",
    "plt.xlabel(\"Class\", fontsize=14)\n",
    "plt.ylabel(\"Count\", fontsize=14)\n",
    "\n",
    "# Show the plot\n",
    "plt.show()"
   ]
  },
  {
   "cell_type": "code",
   "execution_count": 8,
   "metadata": {
    "id": "fSc8p0QwnQ-F"
   },
   "outputs": [],
   "source": [
    "#Train Test Split\n",
    "train_texts, test_texts, train_labels, test_labels = train_test_split(\n",
    "    df[\"text\"], df[\"target\"], test_size=0.2, random_state=42, stratify=df[\"target\"]\n",
    ")"
   ]
  },
  {
   "cell_type": "markdown",
   "metadata": {
    "id": "XgixDmTXr95W"
   },
   "source": [
    "# TOKENIZATION\n"
   ]
  },
  {
   "cell_type": "code",
   "execution_count": 9,
   "metadata": {
    "colab": {
     "base_uri": "https://localhost:8080/",
     "height": 269,
     "referenced_widgets": [
      "591b72a3c33b42c3ba5ed5eab810b8e6",
      "0a2d84e6b30a4611a06a4ab346ae5203",
      "aca8b704db28434aaf912f04f26439b2",
      "f03c121ed5d246cf86fbdd54977bac68",
      "cbe19e2da7d246148ab566b90a335f62",
      "b46a6f3af0d34fb68407efa284e14971",
      "7619774782d348209c3a2d3f17c6e945",
      "a4c30cf30883496393503ebe999567d9",
      "6b8737caed1e4709a9a5fb1a1a67606c",
      "87173b662fd346328f96eeead12d2e17",
      "192bc5e674464c69825694d425b2393f",
      "3cedc06cb66240779e14c15da8f263f5",
      "6ae01a674c1f4d91a0e39befa45fcb1d",
      "442b8ccda4674da8ab09c477a9c55b0a",
      "c5e32e9a199744f3b4301e8a109d9452",
      "d5aeac9f91ad4074bbd8c85529b79a16",
      "9d71a8b832d9437fbc44e97a3ca0b4b2",
      "04044ccb427840de8bda0b03b6d4222b",
      "485da15fe9f84ecdab0a98827ea3e04b",
      "fc3558ea94c04a8d9a6c6a75aaed42d5",
      "15c4fc3d34dd4966b3c36ce403d6dbbd",
      "20683a5b9a7b4eddbfb2e81398b55236",
      "f41a36a274b1404089b4259709596f7e",
      "05b58aef54f3458bb01e94b833567d3b",
      "a3eaf736a44e4ab69da9f4b19c454bf9",
      "162fca4a110a4eb79fa839c04e09df0b",
      "8022ea48f22a4e82b6ab0de3e3143c60",
      "1e49164a56c14ecc92b030b50deed96f",
      "7ffc70dbc53946c5ac93cb4d5bd6e0a5",
      "9768547f3a5d496d9e0e0727102e4c17",
      "d6444af5c2b444778f4aaffbebcdd254",
      "614e5908511b4eeab7fba619b3509df2",
      "9c982c48089b44beabef949d70e92534",
      "1929ca184214496f97de0ab68013a64b",
      "a7c9da18ec66418ab0f957bfafa666c3",
      "d33d5ab7e5ba42c882040c4df58f6feb",
      "7a8e4914894649a69c76379f71b3059f",
      "acc5784c2f1a4d3283c5e6c09e62dbfd",
      "309d0f65d5a4480e9127136b1fa67571",
      "04c3ef1633ec4b759bd0f8752b9c9269",
      "6546b18d4d0d4cc6ae47febac3d76673",
      "20becb85bf9d436ca5bd47d661095a8c",
      "7406bd203f604fdbbe1b49e51d6986cb",
      "71e01d24262e479e94acd237d4c4db0a"
     ]
    },
    "id": "Bu9rfMyknzLG",
    "outputId": "67d34ce2-fb2a-458b-c645-18d319c9fe3f"
   },
   "outputs": [],
   "source": [
    "#Tokenization\n",
    "# Load the tokenizer\n",
    "tokenizer = AutoTokenizer.from_pretrained(\"bert-base-uncased\")\n",
    "\n",
    "# Tokenize the training and testing data\n",
    "train_encodings = tokenizer(list(train_texts), padding=True, truncation=True, max_length=128, return_tensors=\"pt\")\n",
    "test_encodings = tokenizer(list(test_texts), padding=True, truncation=True, max_length=128, return_tensors=\"pt\")\n"
   ]
  },
  {
   "cell_type": "code",
   "execution_count": 10,
   "metadata": {
    "colab": {
     "base_uri": "https://localhost:8080/"
    },
    "id": "xP36Y-PmOKb1",
    "outputId": "c53ac386-ab21-48dc-fbfb-fd6660ea0ad7"
   },
   "outputs": [
    {
     "name": "stdout",
     "output_type": "stream",
     "text": [
      "Type of train_labels: <class 'pandas.core.series.Series'>\n",
      "Type of test_labels: <class 'pandas.core.series.Series'>\n",
      "Sample from train_labels: 272308     0\n",
      "540908     0\n",
      "1091904    1\n",
      "1111971    1\n",
      "1219686    1\n",
      "Name: target, dtype: int64\n",
      "Sample from test_labels: 117086     0\n",
      "1042869    1\n",
      "459585     0\n",
      "572103     0\n",
      "362390     0\n",
      "Name: target, dtype: int64\n"
     ]
    }
   ],
   "source": [
    "print(f\"Type of train_labels: {type(train_labels)}\")\n",
    "print(f\"Type of test_labels: {type(test_labels)}\")\n",
    "print(f\"Sample from train_labels: {train_labels[:5]}\")\n",
    "print(f\"Sample from test_labels: {test_labels[:5]}\")\n"
   ]
  },
  {
   "cell_type": "code",
   "execution_count": 11,
   "metadata": {
    "id": "9O1JML63puIu"
   },
   "outputs": [],
   "source": [
    "import torch\n",
    "# Convert Series to list and then to tensor\n",
    "train_labels = torch.tensor(train_labels.tolist(), dtype=torch.long)\n",
    "test_labels = torch.tensor(test_labels.tolist(), dtype=torch.long)\n"
   ]
  },
  {
   "cell_type": "code",
   "execution_count": 12,
   "metadata": {
    "id": "QIz7j1EaK6Xc"
   },
   "outputs": [],
   "source": [
    "from torch.utils.data import Dataset\n",
    "\n",
    "class HateSpeechDataset(Dataset):\n",
    "    def __init__(self, encodings, labels):\n",
    "        self.encodings = encodings\n",
    "        self.labels = labels\n",
    "\n",
    "    def __len__(self):\n",
    "        return len(self.labels)\n",
    "\n",
    "    def __getitem__(self, idx):\n",
    "        # Return tokenized inputs and corresponding labels\n",
    "        item = {key: val[idx] for key, val in self.encodings.items()}\n",
    "        item[\"labels\"] = self.labels[idx]\n",
    "        return item\n"
   ]
  },
  {
   "cell_type": "code",
   "execution_count": 13,
   "metadata": {
    "id": "i83axNjzK-LQ"
   },
   "outputs": [],
   "source": [
    "train_dataset = HateSpeechDataset(train_encodings, train_labels)\n",
    "test_dataset = HateSpeechDataset(test_encodings, test_labels)\n"
   ]
  },
  {
   "cell_type": "markdown",
   "metadata": {
    "id": "UHRom7QhsLQH"
   },
   "source": [
    "# MODEL SETUP"
   ]
  },
  {
   "cell_type": "code",
   "execution_count": 14,
   "metadata": {
    "colab": {
     "base_uri": "https://localhost:8080/",
     "height": 104,
     "referenced_widgets": [
      "c4d716d66cbf40a5bc96b8a9b19276fe",
      "cc515bf2675f42e692940288b2de8eb7",
      "0d06a384be264ce780e4814b0a235b5b",
      "c31d8b53e6c14815ba7c525c7c98c0f7",
      "96700aa7a03248f180bbed9a780ca5e1",
      "4065d22d0596482b8ab91bce75e84b86",
      "66656b105961413d937f9a4e568368c1",
      "d9ad967273524cc597ef49c682597ce9",
      "98d8154267be46c997eb6cf41c7b584a",
      "f123f0e0694e49b496c99592436e64d8",
      "705399123e7446888f7f0fdb83a84430"
     ]
    },
    "id": "90WLBSrjs6Xu",
    "outputId": "de75b5e6-0628-4cbc-e127-548b7289b2d2"
   },
   "outputs": [
    {
     "name": "stderr",
     "output_type": "stream",
     "text": [
      "Some weights of BertForSequenceClassification were not initialized from the model checkpoint at bert-base-uncased and are newly initialized: ['classifier.bias', 'classifier.weight']\n",
      "You should probably TRAIN this model on a down-stream task to be able to use it for predictions and inference.\n"
     ]
    }
   ],
   "source": [
    "# Load BERT with a classification head\n",
    "model = AutoModelForSequenceClassification.from_pretrained(\"bert-base-uncased\", num_labels=3)\n"
   ]
  },
  {
   "cell_type": "markdown",
   "metadata": {
    "id": "SijKtWLgtCjd"
   },
   "source": [
    "# TRAINING\n"
   ]
  },
  {
   "cell_type": "code",
   "execution_count": 15,
   "metadata": {
    "colab": {
     "base_uri": "https://localhost:8080/"
    },
    "id": "FmZ3_QFlsRb-",
    "outputId": "a5eb91f1-ca3b-4498-884c-76e92e40b11a"
   },
   "outputs": [
    {
     "name": "stderr",
     "output_type": "stream",
     "text": [
      "C:\\Users\\nikhi\\AppData\\Roaming\\Python\\Python312\\site-packages\\transformers\\training_args.py:1568: FutureWarning: `evaluation_strategy` is deprecated and will be removed in version 4.46 of 🤗 Transformers. Use `eval_strategy` instead\n",
      "  warnings.warn(\n",
      "C:\\Users\\nikhi\\AppData\\Local\\Temp\\ipykernel_13544\\759460317.py:22: FutureWarning: `tokenizer` is deprecated and will be removed in version 5.0.0 for `Trainer.__init__`. Use `processing_class` instead.\n",
      "  trainer = Trainer(\n"
     ]
    }
   ],
   "source": [
    "from transformers import TrainingArguments\n",
    "\n",
    "training_args = TrainingArguments(\n",
    "    output_dir=\"./results\",            # Directory to save checkpoints\n",
    "    evaluation_strategy=\"steps\",       # Evaluate every few steps\n",
    "    eval_steps=100,                    # Evaluate every 100 steps\n",
    "    learning_rate=3e-5,                # Lower learning rate for stability\n",
    "    per_device_train_batch_size=8,     # Smaller batch size to reduce memory usage\n",
    "    per_device_eval_batch_size=8,      # Smaller batch size for evaluation\n",
    "    num_train_epochs=2,                # Fewer epochs to speed up training\n",
    "    weight_decay=0.01,                 # Weight decay for optimization\n",
    "    save_strategy=\"steps\",             # Save model every few steps\n",
    "    save_steps=500,                    # Save checkpoint every 500 steps\n",
    "    logging_dir=\"./logs\",              # Directory for logging\n",
    "    logging_steps=50,                  # Log every 50 steps\n",
    "    warmup_steps=100,                  # Gradual warm-up over 100 steps\n",
    "    fp16=True,                         # Use mixed precision for faster training\n",
    ")\n",
    "\n",
    "from transformers import Trainer\n",
    "\n",
    "trainer = Trainer(\n",
    "    model=model,\n",
    "    args=training_args,\n",
    "    train_dataset=train_dataset,\n",
    "    eval_dataset=test_dataset,\n",
    "    tokenizer=tokenizer,\n",
    ")\n"
   ]
  },
  {
   "cell_type": "code",
   "execution_count": 16,
   "metadata": {
    "colab": {
     "base_uri": "https://localhost:8080/",
     "height": 1000
    },
    "id": "v37AhPgbJbDx",
    "outputId": "eb2fd1c1-63a8-4060-ce96-94f24e03b22e"
   },
   "outputs": [
    {
     "data": {
      "application/vnd.jupyter.widget-view+json": {
       "model_id": "43d9ef7128444ad69b0cb4ea4a0c0a7f",
       "version_major": 2,
       "version_minor": 0
      },
      "text/plain": [
       "  0%|          | 0/6000 [00:00<?, ?it/s]"
      ]
     },
     "metadata": {},
     "output_type": "display_data"
    },
    {
     "name": "stdout",
     "output_type": "stream",
     "text": [
      "{'loss': 1.0953, 'grad_norm': 4.872222900390625, 'learning_rate': 1.44e-05, 'epoch': 0.02}\n",
      "{'loss': 0.6882, 'grad_norm': 11.789011001586914, 'learning_rate': 2.94e-05, 'epoch': 0.03}\n"
     ]
    },
    {
     "data": {
      "application/vnd.jupyter.widget-view+json": {
       "model_id": "6b654a4c587e4db1a3d64ed97becaa0b",
       "version_major": 2,
       "version_minor": 0
      },
      "text/plain": [
       "  0%|          | 0/750 [00:00<?, ?it/s]"
      ]
     },
     "metadata": {},
     "output_type": "display_data"
    },
    {
     "name": "stdout",
     "output_type": "stream",
     "text": [
      "{'eval_loss': 0.6070342659950256, 'eval_runtime': 15.8355, 'eval_samples_per_second': 378.897, 'eval_steps_per_second': 47.362, 'epoch': 0.03}\n",
      "{'loss': 0.6082, 'grad_norm': 13.499866485595703, 'learning_rate': 2.975593220338983e-05, 'epoch': 0.05}\n",
      "{'loss': 0.5857, 'grad_norm': 16.51803207397461, 'learning_rate': 2.950169491525424e-05, 'epoch': 0.07}\n"
     ]
    },
    {
     "data": {
      "application/vnd.jupyter.widget-view+json": {
       "model_id": "1523d382793f4b04bb3ead6cdd257fba",
       "version_major": 2,
       "version_minor": 0
      },
      "text/plain": [
       "  0%|          | 0/750 [00:00<?, ?it/s]"
      ]
     },
     "metadata": {},
     "output_type": "display_data"
    },
    {
     "name": "stdout",
     "output_type": "stream",
     "text": [
      "{'eval_loss': 0.606055736541748, 'eval_runtime': 15.753, 'eval_samples_per_second': 380.879, 'eval_steps_per_second': 47.61, 'epoch': 0.07}\n",
      "{'loss': 0.5484, 'grad_norm': 7.255904197692871, 'learning_rate': 2.9247457627118644e-05, 'epoch': 0.08}\n",
      "{'loss': 0.4913, 'grad_norm': 5.756176948547363, 'learning_rate': 2.899322033898305e-05, 'epoch': 0.1}\n"
     ]
    },
    {
     "data": {
      "application/vnd.jupyter.widget-view+json": {
       "model_id": "685a5c27d3ca43d9a5ba6d45ae1657a7",
       "version_major": 2,
       "version_minor": 0
      },
      "text/plain": [
       "  0%|          | 0/750 [00:00<?, ?it/s]"
      ]
     },
     "metadata": {},
     "output_type": "display_data"
    },
    {
     "name": "stdout",
     "output_type": "stream",
     "text": [
      "{'eval_loss': 0.4762175381183624, 'eval_runtime': 15.9046, 'eval_samples_per_second': 377.25, 'eval_steps_per_second': 47.156, 'epoch': 0.1}\n",
      "{'loss': 0.5076, 'grad_norm': 9.796452522277832, 'learning_rate': 2.873898305084746e-05, 'epoch': 0.12}\n",
      "{'loss': 0.4754, 'grad_norm': 12.121430397033691, 'learning_rate': 2.8484745762711866e-05, 'epoch': 0.13}\n"
     ]
    },
    {
     "data": {
      "application/vnd.jupyter.widget-view+json": {
       "model_id": "6082e1b398984b9b90b7e4d854e41002",
       "version_major": 2,
       "version_minor": 0
      },
      "text/plain": [
       "  0%|          | 0/750 [00:00<?, ?it/s]"
      ]
     },
     "metadata": {},
     "output_type": "display_data"
    },
    {
     "name": "stdout",
     "output_type": "stream",
     "text": [
      "{'eval_loss': 0.4879313111305237, 'eval_runtime': 15.9389, 'eval_samples_per_second': 376.436, 'eval_steps_per_second': 47.055, 'epoch': 0.13}\n",
      "{'loss': 0.4427, 'grad_norm': 12.628239631652832, 'learning_rate': 2.8230508474576272e-05, 'epoch': 0.15}\n",
      "{'loss': 0.493, 'grad_norm': 5.431055068969727, 'learning_rate': 2.7986440677966102e-05, 'epoch': 0.17}\n"
     ]
    },
    {
     "data": {
      "application/vnd.jupyter.widget-view+json": {
       "model_id": "946d7eb0edf8468ea8a76647aa74bd7f",
       "version_major": 2,
       "version_minor": 0
      },
      "text/plain": [
       "  0%|          | 0/750 [00:00<?, ?it/s]"
      ]
     },
     "metadata": {},
     "output_type": "display_data"
    },
    {
     "name": "stdout",
     "output_type": "stream",
     "text": [
      "{'eval_loss': 0.5064550042152405, 'eval_runtime': 15.9301, 'eval_samples_per_second': 376.646, 'eval_steps_per_second': 47.081, 'epoch': 0.17}\n",
      "{'loss': 0.4707, 'grad_norm': 11.055846214294434, 'learning_rate': 2.773220338983051e-05, 'epoch': 0.18}\n",
      "{'loss': 0.5236, 'grad_norm': 17.170089721679688, 'learning_rate': 2.7477966101694915e-05, 'epoch': 0.2}\n"
     ]
    },
    {
     "data": {
      "application/vnd.jupyter.widget-view+json": {
       "model_id": "a70608e98bb04f1693c2782d74ba0745",
       "version_major": 2,
       "version_minor": 0
      },
      "text/plain": [
       "  0%|          | 0/750 [00:00<?, ?it/s]"
      ]
     },
     "metadata": {},
     "output_type": "display_data"
    },
    {
     "name": "stdout",
     "output_type": "stream",
     "text": [
      "{'eval_loss': 0.4523807466030121, 'eval_runtime': 16.1338, 'eval_samples_per_second': 371.889, 'eval_steps_per_second': 46.486, 'epoch': 0.2}\n",
      "{'loss': 0.48, 'grad_norm': 9.537978172302246, 'learning_rate': 2.7223728813559325e-05, 'epoch': 0.22}\n",
      "{'loss': 0.4808, 'grad_norm': 9.768315315246582, 'learning_rate': 2.696949152542373e-05, 'epoch': 0.23}\n"
     ]
    },
    {
     "data": {
      "application/vnd.jupyter.widget-view+json": {
       "model_id": "620e03de9f864a10bbbe3e073be7d353",
       "version_major": 2,
       "version_minor": 0
      },
      "text/plain": [
       "  0%|          | 0/750 [00:00<?, ?it/s]"
      ]
     },
     "metadata": {},
     "output_type": "display_data"
    },
    {
     "name": "stdout",
     "output_type": "stream",
     "text": [
      "{'eval_loss': 0.4349527060985565, 'eval_runtime': 15.7847, 'eval_samples_per_second': 380.115, 'eval_steps_per_second': 47.514, 'epoch': 0.23}\n",
      "{'loss': 0.5032, 'grad_norm': 7.70536994934082, 'learning_rate': 2.6715254237288134e-05, 'epoch': 0.25}\n",
      "{'loss': 0.4231, 'grad_norm': 15.329341888427734, 'learning_rate': 2.6461016949152544e-05, 'epoch': 0.27}\n"
     ]
    },
    {
     "data": {
      "application/vnd.jupyter.widget-view+json": {
       "model_id": "0287a08715614cbdbd6d1347b23d5dc8",
       "version_major": 2,
       "version_minor": 0
      },
      "text/plain": [
       "  0%|          | 0/750 [00:00<?, ?it/s]"
      ]
     },
     "metadata": {},
     "output_type": "display_data"
    },
    {
     "name": "stdout",
     "output_type": "stream",
     "text": [
      "{'eval_loss': 0.4835338890552521, 'eval_runtime': 15.7585, 'eval_samples_per_second': 380.747, 'eval_steps_per_second': 47.593, 'epoch': 0.27}\n",
      "{'loss': 0.4161, 'grad_norm': 12.244674682617188, 'learning_rate': 2.620677966101695e-05, 'epoch': 0.28}\n",
      "{'loss': 0.5061, 'grad_norm': 9.037952423095703, 'learning_rate': 2.5952542372881357e-05, 'epoch': 0.3}\n"
     ]
    },
    {
     "data": {
      "application/vnd.jupyter.widget-view+json": {
       "model_id": "8af542dc36db4d70a3f47975b3da3985",
       "version_major": 2,
       "version_minor": 0
      },
      "text/plain": [
       "  0%|          | 0/750 [00:00<?, ?it/s]"
      ]
     },
     "metadata": {},
     "output_type": "display_data"
    },
    {
     "name": "stdout",
     "output_type": "stream",
     "text": [
      "{'eval_loss': 0.5014306902885437, 'eval_runtime': 15.9894, 'eval_samples_per_second': 375.249, 'eval_steps_per_second': 46.906, 'epoch': 0.3}\n",
      "{'loss': 0.4485, 'grad_norm': 6.498556137084961, 'learning_rate': 2.5698305084745766e-05, 'epoch': 0.32}\n",
      "{'loss': 0.4567, 'grad_norm': 19.853742599487305, 'learning_rate': 2.544406779661017e-05, 'epoch': 0.33}\n"
     ]
    },
    {
     "data": {
      "application/vnd.jupyter.widget-view+json": {
       "model_id": "b48b31b3ba6b4237b616627e43b261a8",
       "version_major": 2,
       "version_minor": 0
      },
      "text/plain": [
       "  0%|          | 0/750 [00:00<?, ?it/s]"
      ]
     },
     "metadata": {},
     "output_type": "display_data"
    },
    {
     "name": "stdout",
     "output_type": "stream",
     "text": [
      "{'eval_loss': 0.45217135548591614, 'eval_runtime': 15.7248, 'eval_samples_per_second': 381.563, 'eval_steps_per_second': 47.695, 'epoch': 0.33}\n",
      "{'loss': 0.4391, 'grad_norm': 7.943730354309082, 'learning_rate': 2.5189830508474576e-05, 'epoch': 0.35}\n",
      "{'loss': 0.4174, 'grad_norm': 8.915946960449219, 'learning_rate': 2.4935593220338985e-05, 'epoch': 0.37}\n"
     ]
    },
    {
     "data": {
      "application/vnd.jupyter.widget-view+json": {
       "model_id": "1c3249555b8449d3adc5b8da03717731",
       "version_major": 2,
       "version_minor": 0
      },
      "text/plain": [
       "  0%|          | 0/750 [00:00<?, ?it/s]"
      ]
     },
     "metadata": {},
     "output_type": "display_data"
    },
    {
     "name": "stdout",
     "output_type": "stream",
     "text": [
      "{'eval_loss': 0.47133928537368774, 'eval_runtime': 16.1401, 'eval_samples_per_second': 371.745, 'eval_steps_per_second': 46.468, 'epoch': 0.37}\n",
      "{'loss': 0.4359, 'grad_norm': 13.621400833129883, 'learning_rate': 2.468135593220339e-05, 'epoch': 0.38}\n",
      "{'loss': 0.4811, 'grad_norm': 18.682077407836914, 'learning_rate': 2.4427118644067798e-05, 'epoch': 0.4}\n"
     ]
    },
    {
     "data": {
      "application/vnd.jupyter.widget-view+json": {
       "model_id": "ef9263c833614579bf6e1a15199ff792",
       "version_major": 2,
       "version_minor": 0
      },
      "text/plain": [
       "  0%|          | 0/750 [00:00<?, ?it/s]"
      ]
     },
     "metadata": {},
     "output_type": "display_data"
    },
    {
     "name": "stdout",
     "output_type": "stream",
     "text": [
      "{'eval_loss': 0.48435407876968384, 'eval_runtime': 15.6893, 'eval_samples_per_second': 382.427, 'eval_steps_per_second': 47.803, 'epoch': 0.4}\n",
      "{'loss': 0.4494, 'grad_norm': 5.543039798736572, 'learning_rate': 2.4172881355932204e-05, 'epoch': 0.42}\n",
      "{'loss': 0.4895, 'grad_norm': 4.698646068572998, 'learning_rate': 2.391864406779661e-05, 'epoch': 0.43}\n"
     ]
    },
    {
     "data": {
      "application/vnd.jupyter.widget-view+json": {
       "model_id": "b2134aad498b416c92bc20ffb911785b",
       "version_major": 2,
       "version_minor": 0
      },
      "text/plain": [
       "  0%|          | 0/750 [00:00<?, ?it/s]"
      ]
     },
     "metadata": {},
     "output_type": "display_data"
    },
    {
     "name": "stdout",
     "output_type": "stream",
     "text": [
      "{'eval_loss': 0.4391199052333832, 'eval_runtime': 15.7124, 'eval_samples_per_second': 381.864, 'eval_steps_per_second': 47.733, 'epoch': 0.43}\n",
      "{'loss': 0.467, 'grad_norm': 9.871546745300293, 'learning_rate': 2.3664406779661017e-05, 'epoch': 0.45}\n",
      "{'loss': 0.4456, 'grad_norm': 8.40658187866211, 'learning_rate': 2.3410169491525423e-05, 'epoch': 0.47}\n"
     ]
    },
    {
     "data": {
      "application/vnd.jupyter.widget-view+json": {
       "model_id": "a51a5012971747898f10e4091c295edc",
       "version_major": 2,
       "version_minor": 0
      },
      "text/plain": [
       "  0%|          | 0/750 [00:00<?, ?it/s]"
      ]
     },
     "metadata": {},
     "output_type": "display_data"
    },
    {
     "name": "stdout",
     "output_type": "stream",
     "text": [
      "{'eval_loss': 0.47879254817962646, 'eval_runtime': 15.7452, 'eval_samples_per_second': 381.07, 'eval_steps_per_second': 47.634, 'epoch': 0.47}\n",
      "{'loss': 0.4325, 'grad_norm': 9.467554092407227, 'learning_rate': 2.3155932203389833e-05, 'epoch': 0.48}\n",
      "{'loss': 0.4725, 'grad_norm': 6.647149085998535, 'learning_rate': 2.2901694915254236e-05, 'epoch': 0.5}\n"
     ]
    },
    {
     "data": {
      "application/vnd.jupyter.widget-view+json": {
       "model_id": "b14c639fcbfa41dba1698fcd876691d1",
       "version_major": 2,
       "version_minor": 0
      },
      "text/plain": [
       "  0%|          | 0/750 [00:00<?, ?it/s]"
      ]
     },
     "metadata": {},
     "output_type": "display_data"
    },
    {
     "name": "stdout",
     "output_type": "stream",
     "text": [
      "{'eval_loss': 0.41291308403015137, 'eval_runtime': 15.7097, 'eval_samples_per_second': 381.93, 'eval_steps_per_second': 47.741, 'epoch': 0.5}\n",
      "{'loss': 0.453, 'grad_norm': 3.3604443073272705, 'learning_rate': 2.2647457627118642e-05, 'epoch': 0.52}\n",
      "{'loss': 0.4301, 'grad_norm': 5.026115417480469, 'learning_rate': 2.2393220338983052e-05, 'epoch': 0.53}\n"
     ]
    },
    {
     "data": {
      "application/vnd.jupyter.widget-view+json": {
       "model_id": "adc07516d11e4d0da896ac3736270cd6",
       "version_major": 2,
       "version_minor": 0
      },
      "text/plain": [
       "  0%|          | 0/750 [00:00<?, ?it/s]"
      ]
     },
     "metadata": {},
     "output_type": "display_data"
    },
    {
     "name": "stdout",
     "output_type": "stream",
     "text": [
      "{'eval_loss': 0.4230072498321533, 'eval_runtime': 15.8187, 'eval_samples_per_second': 379.299, 'eval_steps_per_second': 47.412, 'epoch': 0.53}\n",
      "{'loss': 0.4548, 'grad_norm': 2.8124985694885254, 'learning_rate': 2.213898305084746e-05, 'epoch': 0.55}\n",
      "{'loss': 0.4093, 'grad_norm': 9.030183792114258, 'learning_rate': 2.1884745762711865e-05, 'epoch': 0.57}\n"
     ]
    },
    {
     "data": {
      "application/vnd.jupyter.widget-view+json": {
       "model_id": "fbd41150930f496ca235dc53b97b56b8",
       "version_major": 2,
       "version_minor": 0
      },
      "text/plain": [
       "  0%|          | 0/750 [00:00<?, ?it/s]"
      ]
     },
     "metadata": {},
     "output_type": "display_data"
    },
    {
     "name": "stdout",
     "output_type": "stream",
     "text": [
      "{'eval_loss': 0.4231017529964447, 'eval_runtime': 15.8811, 'eval_samples_per_second': 377.808, 'eval_steps_per_second': 47.226, 'epoch': 0.57}\n",
      "{'loss': 0.4444, 'grad_norm': 6.953495979309082, 'learning_rate': 2.163050847457627e-05, 'epoch': 0.58}\n",
      "{'loss': 0.4269, 'grad_norm': 10.458037376403809, 'learning_rate': 2.1376271186440677e-05, 'epoch': 0.6}\n"
     ]
    },
    {
     "data": {
      "application/vnd.jupyter.widget-view+json": {
       "model_id": "21d3ec8bb90a40d9a0312489790ff791",
       "version_major": 2,
       "version_minor": 0
      },
      "text/plain": [
       "  0%|          | 0/750 [00:00<?, ?it/s]"
      ]
     },
     "metadata": {},
     "output_type": "display_data"
    },
    {
     "name": "stdout",
     "output_type": "stream",
     "text": [
      "{'eval_loss': 0.4310421943664551, 'eval_runtime': 15.8225, 'eval_samples_per_second': 379.206, 'eval_steps_per_second': 47.401, 'epoch': 0.6}\n",
      "{'loss': 0.4133, 'grad_norm': 11.909905433654785, 'learning_rate': 2.1122033898305084e-05, 'epoch': 0.62}\n",
      "{'loss': 0.3988, 'grad_norm': 12.651582717895508, 'learning_rate': 2.0867796610169494e-05, 'epoch': 0.63}\n"
     ]
    },
    {
     "data": {
      "application/vnd.jupyter.widget-view+json": {
       "model_id": "1672a6e15dbd4852822eeca4b018adb9",
       "version_major": 2,
       "version_minor": 0
      },
      "text/plain": [
       "  0%|          | 0/750 [00:00<?, ?it/s]"
      ]
     },
     "metadata": {},
     "output_type": "display_data"
    },
    {
     "name": "stdout",
     "output_type": "stream",
     "text": [
      "{'eval_loss': 0.4850086271762848, 'eval_runtime': 15.8571, 'eval_samples_per_second': 378.379, 'eval_steps_per_second': 47.297, 'epoch': 0.63}\n",
      "{'loss': 0.4629, 'grad_norm': 5.481373310089111, 'learning_rate': 2.06135593220339e-05, 'epoch': 0.65}\n",
      "{'loss': 0.4293, 'grad_norm': 7.680919647216797, 'learning_rate': 2.0359322033898303e-05, 'epoch': 0.67}\n"
     ]
    },
    {
     "data": {
      "application/vnd.jupyter.widget-view+json": {
       "model_id": "75ab411834314db29b506a4475d622c1",
       "version_major": 2,
       "version_minor": 0
      },
      "text/plain": [
       "  0%|          | 0/750 [00:00<?, ?it/s]"
      ]
     },
     "metadata": {},
     "output_type": "display_data"
    },
    {
     "name": "stdout",
     "output_type": "stream",
     "text": [
      "{'eval_loss': 0.4062604606151581, 'eval_runtime': 15.8466, 'eval_samples_per_second': 378.631, 'eval_steps_per_second': 47.329, 'epoch': 0.67}\n",
      "{'loss': 0.3947, 'grad_norm': 4.066632270812988, 'learning_rate': 2.0105084745762713e-05, 'epoch': 0.68}\n",
      "{'loss': 0.4034, 'grad_norm': 11.317410469055176, 'learning_rate': 1.985084745762712e-05, 'epoch': 0.7}\n"
     ]
    },
    {
     "data": {
      "application/vnd.jupyter.widget-view+json": {
       "model_id": "3b29b0e3dda3464981ebb45d8bb61bf6",
       "version_major": 2,
       "version_minor": 0
      },
      "text/plain": [
       "  0%|          | 0/750 [00:00<?, ?it/s]"
      ]
     },
     "metadata": {},
     "output_type": "display_data"
    },
    {
     "name": "stdout",
     "output_type": "stream",
     "text": [
      "{'eval_loss': 0.45089322328567505, 'eval_runtime': 15.7519, 'eval_samples_per_second': 380.906, 'eval_steps_per_second': 47.613, 'epoch': 0.7}\n",
      "{'loss': 0.3513, 'grad_norm': 15.33830738067627, 'learning_rate': 1.9596610169491525e-05, 'epoch': 0.72}\n",
      "{'loss': 0.4156, 'grad_norm': 9.685227394104004, 'learning_rate': 1.9342372881355935e-05, 'epoch': 0.73}\n"
     ]
    },
    {
     "data": {
      "application/vnd.jupyter.widget-view+json": {
       "model_id": "f582772e7fd54a1f9f6cfcc0b6acb74b",
       "version_major": 2,
       "version_minor": 0
      },
      "text/plain": [
       "  0%|          | 0/750 [00:00<?, ?it/s]"
      ]
     },
     "metadata": {},
     "output_type": "display_data"
    },
    {
     "name": "stdout",
     "output_type": "stream",
     "text": [
      "{'eval_loss': 0.46386048197746277, 'eval_runtime': 15.8409, 'eval_samples_per_second': 378.766, 'eval_steps_per_second': 47.346, 'epoch': 0.73}\n",
      "{'loss': 0.4292, 'grad_norm': 23.981800079345703, 'learning_rate': 1.9088135593220338e-05, 'epoch': 0.75}\n",
      "{'loss': 0.4219, 'grad_norm': 5.790910720825195, 'learning_rate': 1.8833898305084744e-05, 'epoch': 0.77}\n"
     ]
    },
    {
     "data": {
      "application/vnd.jupyter.widget-view+json": {
       "model_id": "a4c93194aae84d25abe56d3e0cce0baf",
       "version_major": 2,
       "version_minor": 0
      },
      "text/plain": [
       "  0%|          | 0/750 [00:00<?, ?it/s]"
      ]
     },
     "metadata": {},
     "output_type": "display_data"
    },
    {
     "name": "stdout",
     "output_type": "stream",
     "text": [
      "{'eval_loss': 0.4201187193393707, 'eval_runtime': 15.7919, 'eval_samples_per_second': 379.941, 'eval_steps_per_second': 47.493, 'epoch': 0.77}\n",
      "{'loss': 0.4077, 'grad_norm': 8.918173789978027, 'learning_rate': 1.8579661016949154e-05, 'epoch': 0.78}\n",
      "{'loss': 0.3924, 'grad_norm': 9.335334777832031, 'learning_rate': 1.832542372881356e-05, 'epoch': 0.8}\n"
     ]
    },
    {
     "data": {
      "application/vnd.jupyter.widget-view+json": {
       "model_id": "00ff9334a6e34985b5fa8c997eca7c60",
       "version_major": 2,
       "version_minor": 0
      },
      "text/plain": [
       "  0%|          | 0/750 [00:00<?, ?it/s]"
      ]
     },
     "metadata": {},
     "output_type": "display_data"
    },
    {
     "name": "stdout",
     "output_type": "stream",
     "text": [
      "{'eval_loss': 0.41271573305130005, 'eval_runtime': 15.7446, 'eval_samples_per_second': 381.083, 'eval_steps_per_second': 47.635, 'epoch': 0.8}\n",
      "{'loss': 0.3734, 'grad_norm': 7.1772050857543945, 'learning_rate': 1.8071186440677967e-05, 'epoch': 0.82}\n",
      "{'loss': 0.4192, 'grad_norm': 6.806829929351807, 'learning_rate': 1.7816949152542373e-05, 'epoch': 0.83}\n"
     ]
    },
    {
     "data": {
      "application/vnd.jupyter.widget-view+json": {
       "model_id": "8153e6687a374129a5d6b6e95648de81",
       "version_major": 2,
       "version_minor": 0
      },
      "text/plain": [
       "  0%|          | 0/750 [00:00<?, ?it/s]"
      ]
     },
     "metadata": {},
     "output_type": "display_data"
    },
    {
     "name": "stdout",
     "output_type": "stream",
     "text": [
      "{'eval_loss': 0.4205373525619507, 'eval_runtime': 15.7418, 'eval_samples_per_second': 381.152, 'eval_steps_per_second': 47.644, 'epoch': 0.83}\n",
      "{'loss': 0.4329, 'grad_norm': 4.564752101898193, 'learning_rate': 1.756271186440678e-05, 'epoch': 0.85}\n",
      "{'loss': 0.3731, 'grad_norm': 21.5672664642334, 'learning_rate': 1.7308474576271186e-05, 'epoch': 0.87}\n"
     ]
    },
    {
     "data": {
      "application/vnd.jupyter.widget-view+json": {
       "model_id": "2348ee1564c14fe79d5d64c48d269581",
       "version_major": 2,
       "version_minor": 0
      },
      "text/plain": [
       "  0%|          | 0/750 [00:00<?, ?it/s]"
      ]
     },
     "metadata": {},
     "output_type": "display_data"
    },
    {
     "name": "stdout",
     "output_type": "stream",
     "text": [
      "{'eval_loss': 0.5093588829040527, 'eval_runtime': 15.826, 'eval_samples_per_second': 379.122, 'eval_steps_per_second': 47.39, 'epoch': 0.87}\n",
      "{'loss': 0.3944, 'grad_norm': 6.574285507202148, 'learning_rate': 1.7054237288135595e-05, 'epoch': 0.88}\n",
      "{'loss': 0.4233, 'grad_norm': 18.532699584960938, 'learning_rate': 1.6800000000000002e-05, 'epoch': 0.9}\n"
     ]
    },
    {
     "data": {
      "application/vnd.jupyter.widget-view+json": {
       "model_id": "6d908299ab054518b9f8d4c18f5e58b8",
       "version_major": 2,
       "version_minor": 0
      },
      "text/plain": [
       "  0%|          | 0/750 [00:00<?, ?it/s]"
      ]
     },
     "metadata": {},
     "output_type": "display_data"
    },
    {
     "name": "stdout",
     "output_type": "stream",
     "text": [
      "{'eval_loss': 0.4228297472000122, 'eval_runtime': 15.8727, 'eval_samples_per_second': 378.008, 'eval_steps_per_second': 47.251, 'epoch': 0.9}\n",
      "{'loss': 0.4111, 'grad_norm': 9.386527061462402, 'learning_rate': 1.6545762711864405e-05, 'epoch': 0.92}\n",
      "{'loss': 0.3951, 'grad_norm': 12.273775100708008, 'learning_rate': 1.6291525423728814e-05, 'epoch': 0.93}\n"
     ]
    },
    {
     "data": {
      "application/vnd.jupyter.widget-view+json": {
       "model_id": "9a72e5274b8b44eb87afac154e888c6e",
       "version_major": 2,
       "version_minor": 0
      },
      "text/plain": [
       "  0%|          | 0/750 [00:00<?, ?it/s]"
      ]
     },
     "metadata": {},
     "output_type": "display_data"
    },
    {
     "name": "stdout",
     "output_type": "stream",
     "text": [
      "{'eval_loss': 0.43012768030166626, 'eval_runtime': 15.8576, 'eval_samples_per_second': 378.368, 'eval_steps_per_second': 47.296, 'epoch': 0.93}\n",
      "{'loss': 0.412, 'grad_norm': 9.4931001663208, 'learning_rate': 1.603728813559322e-05, 'epoch': 0.95}\n",
      "{'loss': 0.4083, 'grad_norm': 7.8159708976745605, 'learning_rate': 1.5783050847457627e-05, 'epoch': 0.97}\n"
     ]
    },
    {
     "data": {
      "application/vnd.jupyter.widget-view+json": {
       "model_id": "affed99f23094536ab6f93a9329ccd39",
       "version_major": 2,
       "version_minor": 0
      },
      "text/plain": [
       "  0%|          | 0/750 [00:00<?, ?it/s]"
      ]
     },
     "metadata": {},
     "output_type": "display_data"
    },
    {
     "name": "stdout",
     "output_type": "stream",
     "text": [
      "{'eval_loss': 0.4117218554019928, 'eval_runtime': 15.797, 'eval_samples_per_second': 379.82, 'eval_steps_per_second': 47.477, 'epoch': 0.97}\n",
      "{'loss': 0.3673, 'grad_norm': 1.8978880643844604, 'learning_rate': 1.5528813559322037e-05, 'epoch': 0.98}\n",
      "{'loss': 0.3975, 'grad_norm': 3.561718225479126, 'learning_rate': 1.527457627118644e-05, 'epoch': 1.0}\n"
     ]
    },
    {
     "data": {
      "application/vnd.jupyter.widget-view+json": {
       "model_id": "92fdb61727324b7889ec02376c31de99",
       "version_major": 2,
       "version_minor": 0
      },
      "text/plain": [
       "  0%|          | 0/750 [00:00<?, ?it/s]"
      ]
     },
     "metadata": {},
     "output_type": "display_data"
    },
    {
     "name": "stdout",
     "output_type": "stream",
     "text": [
      "{'eval_loss': 0.4029964208602905, 'eval_runtime': 15.8608, 'eval_samples_per_second': 378.291, 'eval_steps_per_second': 47.286, 'epoch': 1.0}\n",
      "{'loss': 0.3287, 'grad_norm': 3.2679455280303955, 'learning_rate': 1.5020338983050848e-05, 'epoch': 1.02}\n",
      "{'loss': 0.2666, 'grad_norm': 2.1903533935546875, 'learning_rate': 1.4766101694915254e-05, 'epoch': 1.03}\n"
     ]
    },
    {
     "data": {
      "application/vnd.jupyter.widget-view+json": {
       "model_id": "aefdd967cd7c4ca083cf9641df59230b",
       "version_major": 2,
       "version_minor": 0
      },
      "text/plain": [
       "  0%|          | 0/750 [00:00<?, ?it/s]"
      ]
     },
     "metadata": {},
     "output_type": "display_data"
    },
    {
     "name": "stdout",
     "output_type": "stream",
     "text": [
      "{'eval_loss': 0.5132236480712891, 'eval_runtime': 15.9177, 'eval_samples_per_second': 376.938, 'eval_steps_per_second': 47.117, 'epoch': 1.03}\n",
      "{'loss': 0.2873, 'grad_norm': 26.841079711914062, 'learning_rate': 1.451186440677966e-05, 'epoch': 1.05}\n",
      "{'loss': 0.3244, 'grad_norm': 2.2840161323547363, 'learning_rate': 1.4257627118644069e-05, 'epoch': 1.07}\n"
     ]
    },
    {
     "data": {
      "application/vnd.jupyter.widget-view+json": {
       "model_id": "74675aaab4aa4a4da266437b8494ff8d",
       "version_major": 2,
       "version_minor": 0
      },
      "text/plain": [
       "  0%|          | 0/750 [00:00<?, ?it/s]"
      ]
     },
     "metadata": {},
     "output_type": "display_data"
    },
    {
     "name": "stdout",
     "output_type": "stream",
     "text": [
      "{'eval_loss': 0.5519960522651672, 'eval_runtime': 15.7891, 'eval_samples_per_second': 380.009, 'eval_steps_per_second': 47.501, 'epoch': 1.07}\n",
      "{'loss': 0.3045, 'grad_norm': 0.9855751395225525, 'learning_rate': 1.4003389830508475e-05, 'epoch': 1.08}\n",
      "{'loss': 0.2882, 'grad_norm': 16.573820114135742, 'learning_rate': 1.3749152542372881e-05, 'epoch': 1.1}\n"
     ]
    },
    {
     "data": {
      "application/vnd.jupyter.widget-view+json": {
       "model_id": "b36d4c463d2d4284bd4e13dcd6fca21a",
       "version_major": 2,
       "version_minor": 0
      },
      "text/plain": [
       "  0%|          | 0/750 [00:00<?, ?it/s]"
      ]
     },
     "metadata": {},
     "output_type": "display_data"
    },
    {
     "name": "stdout",
     "output_type": "stream",
     "text": [
      "{'eval_loss': 0.5580143928527832, 'eval_runtime': 15.8376, 'eval_samples_per_second': 378.845, 'eval_steps_per_second': 47.356, 'epoch': 1.1}\n",
      "{'loss': 0.3029, 'grad_norm': 17.131221771240234, 'learning_rate': 1.349491525423729e-05, 'epoch': 1.12}\n",
      "{'loss': 0.3462, 'grad_norm': 9.40650749206543, 'learning_rate': 1.3240677966101694e-05, 'epoch': 1.13}\n"
     ]
    },
    {
     "data": {
      "application/vnd.jupyter.widget-view+json": {
       "model_id": "a8c928655db9476b85bb6938117ad6da",
       "version_major": 2,
       "version_minor": 0
      },
      "text/plain": [
       "  0%|          | 0/750 [00:00<?, ?it/s]"
      ]
     },
     "metadata": {},
     "output_type": "display_data"
    },
    {
     "name": "stdout",
     "output_type": "stream",
     "text": [
      "{'eval_loss': 0.5457332730293274, 'eval_runtime': 15.8343, 'eval_samples_per_second': 378.925, 'eval_steps_per_second': 47.366, 'epoch': 1.13}\n",
      "{'loss': 0.2754, 'grad_norm': 11.233490943908691, 'learning_rate': 1.2986440677966102e-05, 'epoch': 1.15}\n",
      "{'loss': 0.2961, 'grad_norm': 20.85967254638672, 'learning_rate': 1.273220338983051e-05, 'epoch': 1.17}\n"
     ]
    },
    {
     "data": {
      "application/vnd.jupyter.widget-view+json": {
       "model_id": "f548d0e4da364379846c5268dca20dc6",
       "version_major": 2,
       "version_minor": 0
      },
      "text/plain": [
       "  0%|          | 0/750 [00:00<?, ?it/s]"
      ]
     },
     "metadata": {},
     "output_type": "display_data"
    },
    {
     "name": "stdout",
     "output_type": "stream",
     "text": [
      "{'eval_loss': 0.5283711552619934, 'eval_runtime': 15.8677, 'eval_samples_per_second': 378.127, 'eval_steps_per_second': 47.266, 'epoch': 1.17}\n",
      "{'loss': 0.2892, 'grad_norm': 15.335103034973145, 'learning_rate': 1.2477966101694915e-05, 'epoch': 1.18}\n",
      "{'loss': 0.3808, 'grad_norm': 32.284881591796875, 'learning_rate': 1.2223728813559323e-05, 'epoch': 1.2}\n"
     ]
    },
    {
     "data": {
      "application/vnd.jupyter.widget-view+json": {
       "model_id": "8f30ec74607949e88a58b96d74bdbebc",
       "version_major": 2,
       "version_minor": 0
      },
      "text/plain": [
       "  0%|          | 0/750 [00:00<?, ?it/s]"
      ]
     },
     "metadata": {},
     "output_type": "display_data"
    },
    {
     "name": "stdout",
     "output_type": "stream",
     "text": [
      "{'eval_loss': 0.6218611598014832, 'eval_runtime': 15.8543, 'eval_samples_per_second': 378.446, 'eval_steps_per_second': 47.306, 'epoch': 1.2}\n",
      "{'loss': 0.1959, 'grad_norm': 18.572675704956055, 'learning_rate': 1.1969491525423729e-05, 'epoch': 1.22}\n",
      "{'loss': 0.3658, 'grad_norm': 0.6465015411376953, 'learning_rate': 1.1715254237288135e-05, 'epoch': 1.23}\n"
     ]
    },
    {
     "data": {
      "application/vnd.jupyter.widget-view+json": {
       "model_id": "0c4e213f6c1f4a1598612f007fbabef8",
       "version_major": 2,
       "version_minor": 0
      },
      "text/plain": [
       "  0%|          | 0/750 [00:00<?, ?it/s]"
      ]
     },
     "metadata": {},
     "output_type": "display_data"
    },
    {
     "name": "stdout",
     "output_type": "stream",
     "text": [
      "{'eval_loss': 0.6060180068016052, 'eval_runtime': 15.8977, 'eval_samples_per_second': 377.413, 'eval_steps_per_second': 47.177, 'epoch': 1.23}\n",
      "{'loss': 0.3153, 'grad_norm': 17.121902465820312, 'learning_rate': 1.1461016949152542e-05, 'epoch': 1.25}\n",
      "{'loss': 0.2833, 'grad_norm': 0.20928284525871277, 'learning_rate': 1.120677966101695e-05, 'epoch': 1.27}\n"
     ]
    },
    {
     "data": {
      "application/vnd.jupyter.widget-view+json": {
       "model_id": "806b4da450ce4a8a9f50b069ee1d55dd",
       "version_major": 2,
       "version_minor": 0
      },
      "text/plain": [
       "  0%|          | 0/750 [00:00<?, ?it/s]"
      ]
     },
     "metadata": {},
     "output_type": "display_data"
    },
    {
     "name": "stdout",
     "output_type": "stream",
     "text": [
      "{'eval_loss': 0.6153368949890137, 'eval_runtime': 15.8413, 'eval_samples_per_second': 378.756, 'eval_steps_per_second': 47.345, 'epoch': 1.27}\n",
      "{'loss': 0.323, 'grad_norm': 0.2789434492588043, 'learning_rate': 1.0957627118644068e-05, 'epoch': 1.28}\n",
      "{'loss': 0.2623, 'grad_norm': 30.558555603027344, 'learning_rate': 1.0703389830508474e-05, 'epoch': 1.3}\n"
     ]
    },
    {
     "data": {
      "application/vnd.jupyter.widget-view+json": {
       "model_id": "6f5b7d662cac4cc98205854b4d83a62b",
       "version_major": 2,
       "version_minor": 0
      },
      "text/plain": [
       "  0%|          | 0/750 [00:00<?, ?it/s]"
      ]
     },
     "metadata": {},
     "output_type": "display_data"
    },
    {
     "name": "stdout",
     "output_type": "stream",
     "text": [
      "{'eval_loss': 0.6043360829353333, 'eval_runtime': 16.0137, 'eval_samples_per_second': 374.68, 'eval_steps_per_second': 46.835, 'epoch': 1.3}\n",
      "{'loss': 0.2479, 'grad_norm': 37.699337005615234, 'learning_rate': 1.0449152542372882e-05, 'epoch': 1.32}\n",
      "{'loss': 0.3257, 'grad_norm': 1.1307319402694702, 'learning_rate': 1.0194915254237289e-05, 'epoch': 1.33}\n"
     ]
    },
    {
     "data": {
      "application/vnd.jupyter.widget-view+json": {
       "model_id": "1d7058cae2d34892a9fbb91f971e236a",
       "version_major": 2,
       "version_minor": 0
      },
      "text/plain": [
       "  0%|          | 0/750 [00:00<?, ?it/s]"
      ]
     },
     "metadata": {},
     "output_type": "display_data"
    },
    {
     "name": "stdout",
     "output_type": "stream",
     "text": [
      "{'eval_loss': 0.6060951352119446, 'eval_runtime': 15.9286, 'eval_samples_per_second': 376.682, 'eval_steps_per_second': 47.085, 'epoch': 1.33}\n",
      "{'loss': 0.3047, 'grad_norm': 2.817495346069336, 'learning_rate': 9.940677966101695e-06, 'epoch': 1.35}\n",
      "{'loss': 0.3825, 'grad_norm': 20.075448989868164, 'learning_rate': 9.686440677966103e-06, 'epoch': 1.37}\n"
     ]
    },
    {
     "data": {
      "application/vnd.jupyter.widget-view+json": {
       "model_id": "22e933b5ce2941919dd4de9d6488665c",
       "version_major": 2,
       "version_minor": 0
      },
      "text/plain": [
       "  0%|          | 0/750 [00:00<?, ?it/s]"
      ]
     },
     "metadata": {},
     "output_type": "display_data"
    },
    {
     "name": "stdout",
     "output_type": "stream",
     "text": [
      "{'eval_loss': 0.5892170071601868, 'eval_runtime': 15.8966, 'eval_samples_per_second': 377.438, 'eval_steps_per_second': 47.18, 'epoch': 1.37}\n",
      "{'loss': 0.3712, 'grad_norm': 3.155388593673706, 'learning_rate': 9.432203389830508e-06, 'epoch': 1.38}\n",
      "{'loss': 0.2857, 'grad_norm': 19.493812561035156, 'learning_rate': 9.177966101694916e-06, 'epoch': 1.4}\n"
     ]
    },
    {
     "data": {
      "application/vnd.jupyter.widget-view+json": {
       "model_id": "492eceeb67374b2090813b2e8aa383c2",
       "version_major": 2,
       "version_minor": 0
      },
      "text/plain": [
       "  0%|          | 0/750 [00:00<?, ?it/s]"
      ]
     },
     "metadata": {},
     "output_type": "display_data"
    },
    {
     "name": "stdout",
     "output_type": "stream",
     "text": [
      "{'eval_loss': 0.5640162229537964, 'eval_runtime': 15.8409, 'eval_samples_per_second': 378.766, 'eval_steps_per_second': 47.346, 'epoch': 1.4}\n",
      "{'loss': 0.3136, 'grad_norm': 0.4186846911907196, 'learning_rate': 8.923728813559322e-06, 'epoch': 1.42}\n",
      "{'loss': 0.2591, 'grad_norm': 37.153377532958984, 'learning_rate': 8.669491525423728e-06, 'epoch': 1.43}\n"
     ]
    },
    {
     "data": {
      "application/vnd.jupyter.widget-view+json": {
       "model_id": "24e536123145427bb3bcb73465a0bd44",
       "version_major": 2,
       "version_minor": 0
      },
      "text/plain": [
       "  0%|          | 0/750 [00:00<?, ?it/s]"
      ]
     },
     "metadata": {},
     "output_type": "display_data"
    },
    {
     "name": "stdout",
     "output_type": "stream",
     "text": [
      "{'eval_loss': 0.6123301386833191, 'eval_runtime': 15.9708, 'eval_samples_per_second': 375.686, 'eval_steps_per_second': 46.961, 'epoch': 1.43}\n",
      "{'loss': 0.2705, 'grad_norm': 14.220579147338867, 'learning_rate': 8.415254237288137e-06, 'epoch': 1.45}\n",
      "{'loss': 0.3154, 'grad_norm': 16.838598251342773, 'learning_rate': 8.161016949152543e-06, 'epoch': 1.47}\n"
     ]
    },
    {
     "data": {
      "application/vnd.jupyter.widget-view+json": {
       "model_id": "13fe4526dd59411093b1b70b46c8d2fa",
       "version_major": 2,
       "version_minor": 0
      },
      "text/plain": [
       "  0%|          | 0/750 [00:00<?, ?it/s]"
      ]
     },
     "metadata": {},
     "output_type": "display_data"
    },
    {
     "name": "stdout",
     "output_type": "stream",
     "text": [
      "{'eval_loss': 0.5957508683204651, 'eval_runtime': 15.8453, 'eval_samples_per_second': 378.66, 'eval_steps_per_second': 47.333, 'epoch': 1.47}\n",
      "{'loss': 0.2498, 'grad_norm': 1.892344355583191, 'learning_rate': 7.90677966101695e-06, 'epoch': 1.48}\n",
      "{'loss': 0.3387, 'grad_norm': 0.5546250939369202, 'learning_rate': 7.652542372881356e-06, 'epoch': 1.5}\n"
     ]
    },
    {
     "data": {
      "application/vnd.jupyter.widget-view+json": {
       "model_id": "d90ca1886434404cbad3d8f9f23ae835",
       "version_major": 2,
       "version_minor": 0
      },
      "text/plain": [
       "  0%|          | 0/750 [00:00<?, ?it/s]"
      ]
     },
     "metadata": {},
     "output_type": "display_data"
    },
    {
     "name": "stdout",
     "output_type": "stream",
     "text": [
      "{'eval_loss': 0.5718976855278015, 'eval_runtime': 15.8002, 'eval_samples_per_second': 379.742, 'eval_steps_per_second': 47.468, 'epoch': 1.5}\n",
      "{'loss': 0.2698, 'grad_norm': 0.30187270045280457, 'learning_rate': 7.398305084745763e-06, 'epoch': 1.52}\n",
      "{'loss': 0.367, 'grad_norm': 0.4651408791542053, 'learning_rate': 7.144067796610169e-06, 'epoch': 1.53}\n"
     ]
    },
    {
     "data": {
      "application/vnd.jupyter.widget-view+json": {
       "model_id": "8c971603d9404bc9b2d5be2b85012005",
       "version_major": 2,
       "version_minor": 0
      },
      "text/plain": [
       "  0%|          | 0/750 [00:00<?, ?it/s]"
      ]
     },
     "metadata": {},
     "output_type": "display_data"
    },
    {
     "name": "stdout",
     "output_type": "stream",
     "text": [
      "{'eval_loss': 0.5489787459373474, 'eval_runtime': 15.9169, 'eval_samples_per_second': 376.959, 'eval_steps_per_second': 47.12, 'epoch': 1.53}\n",
      "{'loss': 0.1869, 'grad_norm': 0.15494820475578308, 'learning_rate': 6.889830508474576e-06, 'epoch': 1.55}\n",
      "{'loss': 0.3768, 'grad_norm': 10.478347778320312, 'learning_rate': 6.6355932203389834e-06, 'epoch': 1.57}\n"
     ]
    },
    {
     "data": {
      "application/vnd.jupyter.widget-view+json": {
       "model_id": "01120c1ed11943dda62d843ea23f7deb",
       "version_major": 2,
       "version_minor": 0
      },
      "text/plain": [
       "  0%|          | 0/750 [00:00<?, ?it/s]"
      ]
     },
     "metadata": {},
     "output_type": "display_data"
    },
    {
     "name": "stdout",
     "output_type": "stream",
     "text": [
      "{'eval_loss': 0.5716058611869812, 'eval_runtime': 15.8927, 'eval_samples_per_second': 377.533, 'eval_steps_per_second': 47.192, 'epoch': 1.57}\n",
      "{'loss': 0.2986, 'grad_norm': 12.425156593322754, 'learning_rate': 6.38135593220339e-06, 'epoch': 1.58}\n",
      "{'loss': 0.2972, 'grad_norm': 0.39952659606933594, 'learning_rate': 6.127118644067797e-06, 'epoch': 1.6}\n"
     ]
    },
    {
     "data": {
      "application/vnd.jupyter.widget-view+json": {
       "model_id": "385946d5ec3647039e3208a25c6e1425",
       "version_major": 2,
       "version_minor": 0
      },
      "text/plain": [
       "  0%|          | 0/750 [00:00<?, ?it/s]"
      ]
     },
     "metadata": {},
     "output_type": "display_data"
    },
    {
     "name": "stdout",
     "output_type": "stream",
     "text": [
      "{'eval_loss': 0.5718458890914917, 'eval_runtime': 15.8352, 'eval_samples_per_second': 378.902, 'eval_steps_per_second': 47.363, 'epoch': 1.6}\n",
      "{'loss': 0.3342, 'grad_norm': 20.66953468322754, 'learning_rate': 5.872881355932203e-06, 'epoch': 1.62}\n",
      "{'loss': 0.1828, 'grad_norm': 30.640989303588867, 'learning_rate': 5.61864406779661e-06, 'epoch': 1.63}\n"
     ]
    },
    {
     "data": {
      "application/vnd.jupyter.widget-view+json": {
       "model_id": "68e33778a29e47ac8c89152e50084f43",
       "version_major": 2,
       "version_minor": 0
      },
      "text/plain": [
       "  0%|          | 0/750 [00:00<?, ?it/s]"
      ]
     },
     "metadata": {},
     "output_type": "display_data"
    },
    {
     "name": "stdout",
     "output_type": "stream",
     "text": [
      "{'eval_loss': 0.6253092288970947, 'eval_runtime': 15.8529, 'eval_samples_per_second': 378.479, 'eval_steps_per_second': 47.31, 'epoch': 1.63}\n",
      "{'loss': 0.3728, 'grad_norm': 0.521366536617279, 'learning_rate': 5.364406779661018e-06, 'epoch': 1.65}\n",
      "{'loss': 0.3407, 'grad_norm': 22.13043212890625, 'learning_rate': 5.110169491525424e-06, 'epoch': 1.67}\n"
     ]
    },
    {
     "data": {
      "application/vnd.jupyter.widget-view+json": {
       "model_id": "d08205c214134a6f87ee52e23ffc11ea",
       "version_major": 2,
       "version_minor": 0
      },
      "text/plain": [
       "  0%|          | 0/750 [00:00<?, ?it/s]"
      ]
     },
     "metadata": {},
     "output_type": "display_data"
    },
    {
     "name": "stdout",
     "output_type": "stream",
     "text": [
      "{'eval_loss': 0.5648362040519714, 'eval_runtime': 15.8048, 'eval_samples_per_second': 379.631, 'eval_steps_per_second': 47.454, 'epoch': 1.67}\n",
      "{'loss': 0.2878, 'grad_norm': 37.295204162597656, 'learning_rate': 4.85593220338983e-06, 'epoch': 1.68}\n",
      "{'loss': 0.2187, 'grad_norm': 2.0898492336273193, 'learning_rate': 4.601694915254238e-06, 'epoch': 1.7}\n"
     ]
    },
    {
     "data": {
      "application/vnd.jupyter.widget-view+json": {
       "model_id": "9c4791a9f0964304bc112cecba1610a3",
       "version_major": 2,
       "version_minor": 0
      },
      "text/plain": [
       "  0%|          | 0/750 [00:00<?, ?it/s]"
      ]
     },
     "metadata": {},
     "output_type": "display_data"
    },
    {
     "name": "stdout",
     "output_type": "stream",
     "text": [
      "{'eval_loss': 0.5889865159988403, 'eval_runtime': 15.9566, 'eval_samples_per_second': 376.021, 'eval_steps_per_second': 47.003, 'epoch': 1.7}\n",
      "{'loss': 0.271, 'grad_norm': 10.647032737731934, 'learning_rate': 4.347457627118644e-06, 'epoch': 1.72}\n",
      "{'loss': 0.2463, 'grad_norm': 21.43695068359375, 'learning_rate': 4.09322033898305e-06, 'epoch': 1.73}\n"
     ]
    },
    {
     "data": {
      "application/vnd.jupyter.widget-view+json": {
       "model_id": "71a8d4f3e06d40878c459ecf1b680b2d",
       "version_major": 2,
       "version_minor": 0
      },
      "text/plain": [
       "  0%|          | 0/750 [00:00<?, ?it/s]"
      ]
     },
     "metadata": {},
     "output_type": "display_data"
    },
    {
     "name": "stdout",
     "output_type": "stream",
     "text": [
      "{'eval_loss': 0.6219865083694458, 'eval_runtime': 16.0239, 'eval_samples_per_second': 374.441, 'eval_steps_per_second': 46.805, 'epoch': 1.73}\n",
      "{'loss': 0.3321, 'grad_norm': 1.7560604810714722, 'learning_rate': 3.838983050847458e-06, 'epoch': 1.75}\n",
      "{'loss': 0.2551, 'grad_norm': 8.716050148010254, 'learning_rate': 3.5847457627118646e-06, 'epoch': 1.77}\n"
     ]
    },
    {
     "data": {
      "application/vnd.jupyter.widget-view+json": {
       "model_id": "efdf066a82ec47f9bd62b29a9c3d84b3",
       "version_major": 2,
       "version_minor": 0
      },
      "text/plain": [
       "  0%|          | 0/750 [00:00<?, ?it/s]"
      ]
     },
     "metadata": {},
     "output_type": "display_data"
    },
    {
     "name": "stdout",
     "output_type": "stream",
     "text": [
      "{'eval_loss': 0.5979392528533936, 'eval_runtime': 15.8802, 'eval_samples_per_second': 377.829, 'eval_steps_per_second': 47.229, 'epoch': 1.77}\n",
      "{'loss': 0.3238, 'grad_norm': 5.943181037902832, 'learning_rate': 3.3305084745762714e-06, 'epoch': 1.78}\n",
      "{'loss': 0.3888, 'grad_norm': 16.23248291015625, 'learning_rate': 3.0762711864406777e-06, 'epoch': 1.8}\n"
     ]
    },
    {
     "data": {
      "application/vnd.jupyter.widget-view+json": {
       "model_id": "2f9c453b70c94c349bb1c99b770d1b27",
       "version_major": 2,
       "version_minor": 0
      },
      "text/plain": [
       "  0%|          | 0/750 [00:00<?, ?it/s]"
      ]
     },
     "metadata": {},
     "output_type": "display_data"
    },
    {
     "name": "stdout",
     "output_type": "stream",
     "text": [
      "{'eval_loss': 0.569055438041687, 'eval_runtime': 15.7854, 'eval_samples_per_second': 380.097, 'eval_steps_per_second': 47.512, 'epoch': 1.8}\n",
      "{'loss': 0.3424, 'grad_norm': 10.219691276550293, 'learning_rate': 2.822033898305085e-06, 'epoch': 1.82}\n",
      "{'loss': 0.3178, 'grad_norm': 15.46657657623291, 'learning_rate': 2.5677966101694913e-06, 'epoch': 1.83}\n"
     ]
    },
    {
     "data": {
      "application/vnd.jupyter.widget-view+json": {
       "model_id": "82454c765afc4f4a917bacf51b82ca51",
       "version_major": 2,
       "version_minor": 0
      },
      "text/plain": [
       "  0%|          | 0/750 [00:00<?, ?it/s]"
      ]
     },
     "metadata": {},
     "output_type": "display_data"
    },
    {
     "name": "stdout",
     "output_type": "stream",
     "text": [
      "{'eval_loss': 0.5679615139961243, 'eval_runtime': 15.8606, 'eval_samples_per_second': 378.295, 'eval_steps_per_second': 47.287, 'epoch': 1.83}\n",
      "{'loss': 0.2928, 'grad_norm': 1.0779613256454468, 'learning_rate': 2.3135593220338985e-06, 'epoch': 1.85}\n",
      "{'loss': 0.2375, 'grad_norm': 0.2905921936035156, 'learning_rate': 2.0593220338983052e-06, 'epoch': 1.87}\n"
     ]
    },
    {
     "data": {
      "application/vnd.jupyter.widget-view+json": {
       "model_id": "4ac6c50312084319b2b59bca0e3f1393",
       "version_major": 2,
       "version_minor": 0
      },
      "text/plain": [
       "  0%|          | 0/750 [00:00<?, ?it/s]"
      ]
     },
     "metadata": {},
     "output_type": "display_data"
    },
    {
     "name": "stdout",
     "output_type": "stream",
     "text": [
      "{'eval_loss': 0.5746517181396484, 'eval_runtime': 15.7913, 'eval_samples_per_second': 379.955, 'eval_steps_per_second': 47.494, 'epoch': 1.87}\n",
      "{'loss': 0.3879, 'grad_norm': 11.657154083251953, 'learning_rate': 1.805084745762712e-06, 'epoch': 1.88}\n",
      "{'loss': 0.2158, 'grad_norm': 37.77280807495117, 'learning_rate': 1.5508474576271186e-06, 'epoch': 1.9}\n"
     ]
    },
    {
     "data": {
      "application/vnd.jupyter.widget-view+json": {
       "model_id": "e22727797a894800940dbbd0bf9eb87d",
       "version_major": 2,
       "version_minor": 0
      },
      "text/plain": [
       "  0%|          | 0/750 [00:00<?, ?it/s]"
      ]
     },
     "metadata": {},
     "output_type": "display_data"
    },
    {
     "name": "stdout",
     "output_type": "stream",
     "text": [
      "{'eval_loss': 0.5745252370834351, 'eval_runtime': 15.9016, 'eval_samples_per_second': 377.32, 'eval_steps_per_second': 47.165, 'epoch': 1.9}\n",
      "{'loss': 0.2658, 'grad_norm': 16.350831985473633, 'learning_rate': 1.2966101694915253e-06, 'epoch': 1.92}\n",
      "{'loss': 0.4241, 'grad_norm': 17.678298950195312, 'learning_rate': 1.0423728813559323e-06, 'epoch': 1.93}\n"
     ]
    },
    {
     "data": {
      "application/vnd.jupyter.widget-view+json": {
       "model_id": "c15d89745626429d877c174f9c174ab2",
       "version_major": 2,
       "version_minor": 0
      },
      "text/plain": [
       "  0%|          | 0/750 [00:00<?, ?it/s]"
      ]
     },
     "metadata": {},
     "output_type": "display_data"
    },
    {
     "name": "stdout",
     "output_type": "stream",
     "text": [
      "{'eval_loss': 0.565194845199585, 'eval_runtime': 15.9079, 'eval_samples_per_second': 377.172, 'eval_steps_per_second': 47.146, 'epoch': 1.93}\n",
      "{'loss': 0.3431, 'grad_norm': 2.4381675720214844, 'learning_rate': 7.88135593220339e-07, 'epoch': 1.95}\n",
      "{'loss': 0.2151, 'grad_norm': 10.867213249206543, 'learning_rate': 5.338983050847458e-07, 'epoch': 1.97}\n"
     ]
    },
    {
     "data": {
      "application/vnd.jupyter.widget-view+json": {
       "model_id": "2fd2a6076a6c4cf5a52dc0e81fa55833",
       "version_major": 2,
       "version_minor": 0
      },
      "text/plain": [
       "  0%|          | 0/750 [00:00<?, ?it/s]"
      ]
     },
     "metadata": {},
     "output_type": "display_data"
    },
    {
     "name": "stdout",
     "output_type": "stream",
     "text": [
      "{'eval_loss': 0.563386857509613, 'eval_runtime': 15.8303, 'eval_samples_per_second': 379.021, 'eval_steps_per_second': 47.378, 'epoch': 1.97}\n",
      "{'loss': 0.3383, 'grad_norm': 14.453264236450195, 'learning_rate': 2.7966101694915255e-07, 'epoch': 1.98}\n",
      "{'loss': 0.2623, 'grad_norm': 21.859411239624023, 'learning_rate': 2.5423728813559323e-08, 'epoch': 2.0}\n"
     ]
    },
    {
     "data": {
      "application/vnd.jupyter.widget-view+json": {
       "model_id": "0795d792b3e8498e9e4bee9ffa1dcad4",
       "version_major": 2,
       "version_minor": 0
      },
      "text/plain": [
       "  0%|          | 0/750 [00:00<?, ?it/s]"
      ]
     },
     "metadata": {},
     "output_type": "display_data"
    },
    {
     "name": "stdout",
     "output_type": "stream",
     "text": [
      "{'eval_loss': 0.5640115141868591, 'eval_runtime': 15.8546, 'eval_samples_per_second': 378.44, 'eval_steps_per_second': 47.305, 'epoch': 2.0}\n",
      "{'train_runtime': 1801.7923, 'train_samples_per_second': 26.64, 'train_steps_per_second': 3.33, 'train_loss': 0.38012919028600056, 'epoch': 2.0}\n"
     ]
    },
    {
     "data": {
      "text/plain": [
       "TrainOutput(global_step=6000, training_loss=0.38012919028600056, metrics={'train_runtime': 1801.7923, 'train_samples_per_second': 26.64, 'train_steps_per_second': 3.33, 'total_flos': 3157361012736000.0, 'train_loss': 0.38012919028600056, 'epoch': 2.0})"
      ]
     },
     "execution_count": 16,
     "metadata": {},
     "output_type": "execute_result"
    }
   ],
   "source": [
    "trainer.train()\n"
   ]
  },
  {
   "cell_type": "code",
   "execution_count": 17,
   "metadata": {
    "colab": {
     "base_uri": "https://localhost:8080/",
     "height": 74
    },
    "id": "gWq-t80NfHZp",
    "outputId": "4d1a603b-7fa0-4e72-b3d3-9af4f17dcf00"
   },
   "outputs": [
    {
     "data": {
      "application/vnd.jupyter.widget-view+json": {
       "model_id": "fd953738df6a48d39cf735b403c46c54",
       "version_major": 2,
       "version_minor": 0
      },
      "text/plain": [
       "  0%|          | 0/750 [00:00<?, ?it/s]"
      ]
     },
     "metadata": {},
     "output_type": "display_data"
    },
    {
     "name": "stdout",
     "output_type": "stream",
     "text": [
      "{'eval_loss': 0.5640115141868591, 'eval_runtime': 16.0262, 'eval_samples_per_second': 374.386, 'eval_steps_per_second': 46.798, 'epoch': 2.0}\n"
     ]
    }
   ],
   "source": [
    "results = trainer.evaluate()\n",
    "\n",
    "# Print evaluation results\n",
    "print(results)"
   ]
  },
  {
   "cell_type": "code",
   "execution_count": 19,
   "metadata": {
    "colab": {
     "base_uri": "https://localhost:8080/",
     "height": 191
    },
    "id": "LTiSGZxxfVlp",
    "outputId": "9766f96c-c63f-4618-eacb-c675346ab2bd"
   },
   "outputs": [
    {
     "data": {
      "application/vnd.jupyter.widget-view+json": {
       "model_id": "4288431ef7c7420bad22e2017a119ad8",
       "version_major": 2,
       "version_minor": 0
      },
      "text/plain": [
       "  0%|          | 0/750 [00:00<?, ?it/s]"
      ]
     },
     "metadata": {},
     "output_type": "display_data"
    },
    {
     "name": "stdout",
     "output_type": "stream",
     "text": [
      "              precision    recall  f1-score   support\n",
      "\n",
      "    Negative       0.83      0.84      0.83      3000\n",
      "    Positive       0.84      0.83      0.83      3000\n",
      "\n",
      "    accuracy                           0.83      6000\n",
      "   macro avg       0.83      0.83      0.83      6000\n",
      "weighted avg       0.83      0.83      0.83      6000\n",
      "\n"
     ]
    }
   ],
   "source": [
    "# from sklearn.metrics import classification_report\n",
    "\n",
    "# # Get predictions\n",
    "# predictions = trainer.predict(test_dataset)\n",
    "\n",
    "# # Convert predictions to labels\n",
    "# predicted_labels = predictions.predictions.argmax(axis=1)\n",
    "\n",
    "# # Print classification report\n",
    "# print(classification_report(test_labels.numpy(), predicted_labels, target_names=[\"target\"]))\n",
    "\n",
    "\n",
    "\n",
    "# Get predictions\n",
    "predictions = trainer.predict(test_dataset)\n",
    "\n",
    "# Convert predictions to labels\n",
    "predicted_labels = predictions.predictions.argmax(axis=1)\n",
    "\n",
    "# Print classification report with specific labels\n",
    "print(classification_report(test_labels.numpy(), predicted_labels, \n",
    "                            labels=[0, 1], \n",
    "                            target_names=['Negative', 'Positive']))"
   ]
  },
  {
   "cell_type": "code",
   "execution_count": 21,
   "metadata": {
    "colab": {
     "base_uri": "https://localhost:8080/"
    },
    "id": "NeAadoP3gGoJ",
    "outputId": "da9a848b-af7d-4a6c-9f2a-a4785eebb031"
   },
   "outputs": [
    {
     "data": {
      "text/plain": [
       "('./save_model/tokenizer_config.json',\n",
       " './save_model/special_tokens_map.json',\n",
       " './save_model/vocab.txt',\n",
       " './save_model/added_tokens.json',\n",
       " './save_model/tokenizer.json')"
      ]
     },
     "execution_count": 21,
     "metadata": {},
     "output_type": "execute_result"
    }
   ],
   "source": [
    "# Save the model and tokenizer\n",
    "model.save_pretrained(\"./save_model\")\n",
    "tokenizer.save_pretrained(\"./save_model\")\n"
   ]
  },
  {
   "cell_type": "code",
   "execution_count": 22,
   "metadata": {
    "colab": {
     "base_uri": "https://localhost:8080/",
     "height": 35
    },
    "id": "4eWNVGyBg1UK",
    "outputId": "0b91599d-d65d-4814-d941-9cb171cb82b3"
   },
   "outputs": [
    {
     "data": {
      "application/vnd.google.colaboratory.intrinsic+json": {
       "type": "string"
      },
      "text/plain": [
       "'/content/hate_speech_model.zip'"
      ]
     },
     "execution_count": 22,
     "metadata": {},
     "output_type": "execute_result"
    }
   ],
   "source": [
    "#Downloading into local device\n",
    "import shutil\n",
    "\n",
    "# Zip the saved model directory\n",
    "shutil.make_archive(\"hate_speech_model\", \"zip\", \"./hate_speech_model\")\n"
   ]
  },
  {
   "cell_type": "code",
   "execution_count": 23,
   "metadata": {
    "colab": {
     "base_uri": "https://localhost:8080/",
     "height": 34
    },
    "id": "L6uPWjwJhHlh",
    "outputId": "948f7075-978d-4964-d1f1-b4529a818a2c"
   },
   "outputs": [
    {
     "data": {
      "application/javascript": "\n    async function download(id, filename, size) {\n      if (!google.colab.kernel.accessAllowed) {\n        return;\n      }\n      const div = document.createElement('div');\n      const label = document.createElement('label');\n      label.textContent = `Downloading \"${filename}\": `;\n      div.appendChild(label);\n      const progress = document.createElement('progress');\n      progress.max = size;\n      div.appendChild(progress);\n      document.body.appendChild(div);\n\n      const buffers = [];\n      let downloaded = 0;\n\n      const channel = await google.colab.kernel.comms.open(id);\n      // Send a message to notify the kernel that we're ready.\n      channel.send({})\n\n      for await (const message of channel.messages) {\n        // Send a message to notify the kernel that we're ready.\n        channel.send({})\n        if (message.buffers) {\n          for (const buffer of message.buffers) {\n            buffers.push(buffer);\n            downloaded += buffer.byteLength;\n            progress.value = downloaded;\n          }\n        }\n      }\n      const blob = new Blob(buffers, {type: 'application/binary'});\n      const a = document.createElement('a');\n      a.href = window.URL.createObjectURL(blob);\n      a.download = filename;\n      div.appendChild(a);\n      a.click();\n      div.remove();\n    }\n  ",
      "text/plain": [
       "<IPython.core.display.Javascript object>"
      ]
     },
     "metadata": {},
     "output_type": "display_data"
    },
    {
     "data": {
      "application/javascript": "download(\"download_de712a3a-fab0-415c-8127-c717eafe59c9\", \"hate_speech_model.zip\", 405906571)",
      "text/plain": [
       "<IPython.core.display.Javascript object>"
      ]
     },
     "metadata": {},
     "output_type": "display_data"
    }
   ],
   "source": [
    "from google.colab import files\n",
    "\n",
    "# Download the zip file to your local machine\n",
    "files.download(\"hate_speech_model.zip\")\n"
   ]
  },
  {
   "cell_type": "code",
   "execution_count": 28,
   "metadata": {
    "colab": {
     "base_uri": "https://localhost:8080/"
    },
    "id": "1CXgMwYusCNo",
    "outputId": "98bc2e59-4229-4469-ca2a-1b4a8e0f880e"
   },
   "outputs": [
    {
     "name": "stdout",
     "output_type": "stream",
     "text": [
      "Using device: cuda\n",
      "Enter text to classify (or type 'exit' to quit): what the hell\n",
      "Predicted Class: 1\n",
      "Enter text to classify (or type 'exit' to quit): how are you\n",
      "Predicted Class: 2\n",
      "Enter text to classify (or type 'exit' to quit): i don't think it's that bad\n",
      "Predicted Class: 2\n",
      "Enter text to classify (or type 'exit' to quit): i won't side with anything\n",
      "Predicted Class: 2\n",
      "Enter text to classify (or type 'exit' to quit): exit\n",
      "Exiting the program. Goodbye!\n"
     ]
    }
   ],
   "source": [
    "import torch\n",
    "from transformers import AutoModelForSequenceClassification, AutoTokenizer\n",
    "\n",
    "# Load the saved model and tokenizer\n",
    "model_path = \"./saved_model\"  # Replace with your saved model directory\n",
    "# model = AutoModelForSequenceClassification.from_pretrained(model_path)\n",
    "# tokenizer = AutoTokenizer.from_pretrained(model_path)\n",
    "\n",
    "# Detect device\n",
    "device = torch.device(\"cuda\" if torch.cuda.is_available() else \"cpu\")\n",
    "print(f\"Using device: {device}\")\n",
    "\n",
    "# Move model to the appropriate device\n",
    "model.to(device)\n",
    "model.eval()\n",
    "\n",
    "def classify_text(input_text):\n",
    "    # Tokenize the input text\n",
    "    inputs = tokenizer(input_text, return_tensors=\"pt\", truncation=True, padding=True, max_length=128)\n",
    "\n",
    "    # Move inputs to the same device as the model\n",
    "    inputs = {key: val.to(device) for key, val in inputs.items()}\n",
    "\n",
    "    # Perform inference\n",
    "    with torch.no_grad():\n",
    "        outputs = model(**inputs)\n",
    "        predicted_label = torch.argmax(outputs.logits, dim=1).item()\n",
    "\n",
    "    return predicted_label\n",
    "\n",
    "# Input text from the user\n",
    "while True:\n",
    "    user_text = input(\"Enter text to classify (or type 'exit' to quit): \")\n",
    "    if user_text.lower() == \"exit\":\n",
    "        print(\"Exiting the program. Goodbye!\")\n",
    "        break\n",
    "\n",
    "    # Predict the class\n",
    "    predicted_class = classify_text(user_text)\n",
    "    print(f\"Predicted Class: {predicted_class}\")\n"
   ]
  },
  {
   "cell_type": "markdown",
   "metadata": {},
   "source": [
    "# BERT Sentiment Analysis Project Report\n",
    "\n",
    "## Model Performance Metrics\n",
    "\n",
    "| Metric | Negative | Positive | Overall |\n",
    "|--------|----------|----------|---------|\n",
    "| Precision | 0.83 | 0.84 | 0.83 |\n",
    "| Recall | 0.84 | 0.83 | 0.83 |\n",
    "| F1-Score | 0.83 | 0.83 | 0.83 |\n",
    "| Accuracy | - | - | 0.83 |\n",
    "\n",
    "## Training Efficiency\n",
    "\n",
    "| Metric | Value |\n",
    "|--------|-------|\n",
    "| Total Training Runtime | 1,801.79 seconds |\n",
    "| Samples per Second | 26.64 |\n",
    "| Steps per Second | 3.33 |\n",
    "| Total Training Steps | 6,000 |\n",
    "| Training Loss | 0.380 |\n",
    "| Evaluation Loss | 0.564 |\n",
    "\n",
    "## Model Configuration\n",
    "\n",
    "| Parameter | Value |\n",
    "|-----------|-------|\n",
    "| Base Model | BERT (Uncased) |\n",
    "| Number of Labels | 2 |\n",
    "| Learning Rate | 3e-5 |\n",
    "| Batch Size (Train/Eval) | 8 |\n",
    "| Epochs | 2 |\n",
    "| Max Sequence Length | 128 |\n",
    "\n",
    "## Key Findings\n",
    "1. Model achieved consistent performance across positive and negative sentiments\n",
    "2. Balanced precision and recall (0.83 for both classes)\n",
    "3. Overall accuracy of 83%\n",
    "4. Efficient training with mixed precision (fp16)\n",
    "\n",
    "## Preprocessing Techniques\n",
    "- Undersampling for class balance\n",
    "- Stratified train-test split\n",
    "- Tokenization with max length 128\n",
    "- Device-agnostic inference support\n",
    "\n",
    "## Recommendations\n",
    "1. Experiment with longer training epochs\n",
    "2. Try advanced fine-tuning techniques\n",
    "3. Explore more complex base models\n",
    "4. Implement cross-validation\n",
    "\n",
    "## Limitations\n",
    "- Binary sentiment classification\n",
    "- Potential domain-specific biases\n",
    "- Computational resource constraints\n",
    "\n",
    "## Conclusion\n",
    "The BERT-based model demonstrates robust sentiment analysis capabilities with balanced performance and efficient training methodology."
   ]
  },
  {
   "cell_type": "markdown",
   "metadata": {},
   "source": []
  }
 ],
 "metadata": {
  "accelerator": "GPU",
  "colab": {
   "gpuType": "T4",
   "provenance": []
  },
  "kernelspec": {
   "display_name": "Python 3",
   "name": "python3"
  },
  "language_info": {
   "codemirror_mode": {
    "name": "ipython",
    "version": 3
   },
   "file_extension": ".py",
   "mimetype": "text/x-python",
   "name": "python",
   "nbconvert_exporter": "python",
   "pygments_lexer": "ipython3",
   "version": "3.12.6"
  },
  "widgets": {
   "application/vnd.jupyter.widget-state+json": {
    "04044ccb427840de8bda0b03b6d4222b": {
     "model_module": "@jupyter-widgets/controls",
     "model_module_version": "1.5.0",
     "model_name": "DescriptionStyleModel",
     "state": {
      "_model_module": "@jupyter-widgets/controls",
      "_model_module_version": "1.5.0",
      "_model_name": "DescriptionStyleModel",
      "_view_count": null,
      "_view_module": "@jupyter-widgets/base",
      "_view_module_version": "1.2.0",
      "_view_name": "StyleView",
      "description_width": ""
     }
    },
    "04c3ef1633ec4b759bd0f8752b9c9269": {
     "model_module": "@jupyter-widgets/controls",
     "model_module_version": "1.5.0",
     "model_name": "DescriptionStyleModel",
     "state": {
      "_model_module": "@jupyter-widgets/controls",
      "_model_module_version": "1.5.0",
      "_model_name": "DescriptionStyleModel",
      "_view_count": null,
      "_view_module": "@jupyter-widgets/base",
      "_view_module_version": "1.2.0",
      "_view_name": "StyleView",
      "description_width": ""
     }
    },
    "05b58aef54f3458bb01e94b833567d3b": {
     "model_module": "@jupyter-widgets/controls",
     "model_module_version": "1.5.0",
     "model_name": "HTMLModel",
     "state": {
      "_dom_classes": [],
      "_model_module": "@jupyter-widgets/controls",
      "_model_module_version": "1.5.0",
      "_model_name": "HTMLModel",
      "_view_count": null,
      "_view_module": "@jupyter-widgets/controls",
      "_view_module_version": "1.5.0",
      "_view_name": "HTMLView",
      "description": "",
      "description_tooltip": null,
      "layout": "IPY_MODEL_1e49164a56c14ecc92b030b50deed96f",
      "placeholder": "​",
      "style": "IPY_MODEL_7ffc70dbc53946c5ac93cb4d5bd6e0a5",
      "value": "vocab.txt: 100%"
     }
    },
    "0a2d84e6b30a4611a06a4ab346ae5203": {
     "model_module": "@jupyter-widgets/controls",
     "model_module_version": "1.5.0",
     "model_name": "HTMLModel",
     "state": {
      "_dom_classes": [],
      "_model_module": "@jupyter-widgets/controls",
      "_model_module_version": "1.5.0",
      "_model_name": "HTMLModel",
      "_view_count": null,
      "_view_module": "@jupyter-widgets/controls",
      "_view_module_version": "1.5.0",
      "_view_name": "HTMLView",
      "description": "",
      "description_tooltip": null,
      "layout": "IPY_MODEL_b46a6f3af0d34fb68407efa284e14971",
      "placeholder": "​",
      "style": "IPY_MODEL_7619774782d348209c3a2d3f17c6e945",
      "value": "tokenizer_config.json: 100%"
     }
    },
    "0d06a384be264ce780e4814b0a235b5b": {
     "model_module": "@jupyter-widgets/controls",
     "model_module_version": "1.5.0",
     "model_name": "FloatProgressModel",
     "state": {
      "_dom_classes": [],
      "_model_module": "@jupyter-widgets/controls",
      "_model_module_version": "1.5.0",
      "_model_name": "FloatProgressModel",
      "_view_count": null,
      "_view_module": "@jupyter-widgets/controls",
      "_view_module_version": "1.5.0",
      "_view_name": "ProgressView",
      "bar_style": "success",
      "description": "",
      "description_tooltip": null,
      "layout": "IPY_MODEL_d9ad967273524cc597ef49c682597ce9",
      "max": 440449768,
      "min": 0,
      "orientation": "horizontal",
      "style": "IPY_MODEL_98d8154267be46c997eb6cf41c7b584a",
      "value": 440449768
     }
    },
    "15c4fc3d34dd4966b3c36ce403d6dbbd": {
     "model_module": "@jupyter-widgets/base",
     "model_module_version": "1.2.0",
     "model_name": "LayoutModel",
     "state": {
      "_model_module": "@jupyter-widgets/base",
      "_model_module_version": "1.2.0",
      "_model_name": "LayoutModel",
      "_view_count": null,
      "_view_module": "@jupyter-widgets/base",
      "_view_module_version": "1.2.0",
      "_view_name": "LayoutView",
      "align_content": null,
      "align_items": null,
      "align_self": null,
      "border": null,
      "bottom": null,
      "display": null,
      "flex": null,
      "flex_flow": null,
      "grid_area": null,
      "grid_auto_columns": null,
      "grid_auto_flow": null,
      "grid_auto_rows": null,
      "grid_column": null,
      "grid_gap": null,
      "grid_row": null,
      "grid_template_areas": null,
      "grid_template_columns": null,
      "grid_template_rows": null,
      "height": null,
      "justify_content": null,
      "justify_items": null,
      "left": null,
      "margin": null,
      "max_height": null,
      "max_width": null,
      "min_height": null,
      "min_width": null,
      "object_fit": null,
      "object_position": null,
      "order": null,
      "overflow": null,
      "overflow_x": null,
      "overflow_y": null,
      "padding": null,
      "right": null,
      "top": null,
      "visibility": null,
      "width": null
     }
    },
    "162fca4a110a4eb79fa839c04e09df0b": {
     "model_module": "@jupyter-widgets/controls",
     "model_module_version": "1.5.0",
     "model_name": "HTMLModel",
     "state": {
      "_dom_classes": [],
      "_model_module": "@jupyter-widgets/controls",
      "_model_module_version": "1.5.0",
      "_model_name": "HTMLModel",
      "_view_count": null,
      "_view_module": "@jupyter-widgets/controls",
      "_view_module_version": "1.5.0",
      "_view_name": "HTMLView",
      "description": "",
      "description_tooltip": null,
      "layout": "IPY_MODEL_614e5908511b4eeab7fba619b3509df2",
      "placeholder": "​",
      "style": "IPY_MODEL_9c982c48089b44beabef949d70e92534",
      "value": " 232k/232k [00:00&lt;00:00, 2.54MB/s]"
     }
    },
    "1929ca184214496f97de0ab68013a64b": {
     "model_module": "@jupyter-widgets/controls",
     "model_module_version": "1.5.0",
     "model_name": "HBoxModel",
     "state": {
      "_dom_classes": [],
      "_model_module": "@jupyter-widgets/controls",
      "_model_module_version": "1.5.0",
      "_model_name": "HBoxModel",
      "_view_count": null,
      "_view_module": "@jupyter-widgets/controls",
      "_view_module_version": "1.5.0",
      "_view_name": "HBoxView",
      "box_style": "",
      "children": [
       "IPY_MODEL_a7c9da18ec66418ab0f957bfafa666c3",
       "IPY_MODEL_d33d5ab7e5ba42c882040c4df58f6feb",
       "IPY_MODEL_7a8e4914894649a69c76379f71b3059f"
      ],
      "layout": "IPY_MODEL_acc5784c2f1a4d3283c5e6c09e62dbfd"
     }
    },
    "192bc5e674464c69825694d425b2393f": {
     "model_module": "@jupyter-widgets/controls",
     "model_module_version": "1.5.0",
     "model_name": "DescriptionStyleModel",
     "state": {
      "_model_module": "@jupyter-widgets/controls",
      "_model_module_version": "1.5.0",
      "_model_name": "DescriptionStyleModel",
      "_view_count": null,
      "_view_module": "@jupyter-widgets/base",
      "_view_module_version": "1.2.0",
      "_view_name": "StyleView",
      "description_width": ""
     }
    },
    "1e49164a56c14ecc92b030b50deed96f": {
     "model_module": "@jupyter-widgets/base",
     "model_module_version": "1.2.0",
     "model_name": "LayoutModel",
     "state": {
      "_model_module": "@jupyter-widgets/base",
      "_model_module_version": "1.2.0",
      "_model_name": "LayoutModel",
      "_view_count": null,
      "_view_module": "@jupyter-widgets/base",
      "_view_module_version": "1.2.0",
      "_view_name": "LayoutView",
      "align_content": null,
      "align_items": null,
      "align_self": null,
      "border": null,
      "bottom": null,
      "display": null,
      "flex": null,
      "flex_flow": null,
      "grid_area": null,
      "grid_auto_columns": null,
      "grid_auto_flow": null,
      "grid_auto_rows": null,
      "grid_column": null,
      "grid_gap": null,
      "grid_row": null,
      "grid_template_areas": null,
      "grid_template_columns": null,
      "grid_template_rows": null,
      "height": null,
      "justify_content": null,
      "justify_items": null,
      "left": null,
      "margin": null,
      "max_height": null,
      "max_width": null,
      "min_height": null,
      "min_width": null,
      "object_fit": null,
      "object_position": null,
      "order": null,
      "overflow": null,
      "overflow_x": null,
      "overflow_y": null,
      "padding": null,
      "right": null,
      "top": null,
      "visibility": null,
      "width": null
     }
    },
    "20683a5b9a7b4eddbfb2e81398b55236": {
     "model_module": "@jupyter-widgets/controls",
     "model_module_version": "1.5.0",
     "model_name": "DescriptionStyleModel",
     "state": {
      "_model_module": "@jupyter-widgets/controls",
      "_model_module_version": "1.5.0",
      "_model_name": "DescriptionStyleModel",
      "_view_count": null,
      "_view_module": "@jupyter-widgets/base",
      "_view_module_version": "1.2.0",
      "_view_name": "StyleView",
      "description_width": ""
     }
    },
    "20becb85bf9d436ca5bd47d661095a8c": {
     "model_module": "@jupyter-widgets/controls",
     "model_module_version": "1.5.0",
     "model_name": "ProgressStyleModel",
     "state": {
      "_model_module": "@jupyter-widgets/controls",
      "_model_module_version": "1.5.0",
      "_model_name": "ProgressStyleModel",
      "_view_count": null,
      "_view_module": "@jupyter-widgets/base",
      "_view_module_version": "1.2.0",
      "_view_name": "StyleView",
      "bar_color": null,
      "description_width": ""
     }
    },
    "309d0f65d5a4480e9127136b1fa67571": {
     "model_module": "@jupyter-widgets/base",
     "model_module_version": "1.2.0",
     "model_name": "LayoutModel",
     "state": {
      "_model_module": "@jupyter-widgets/base",
      "_model_module_version": "1.2.0",
      "_model_name": "LayoutModel",
      "_view_count": null,
      "_view_module": "@jupyter-widgets/base",
      "_view_module_version": "1.2.0",
      "_view_name": "LayoutView",
      "align_content": null,
      "align_items": null,
      "align_self": null,
      "border": null,
      "bottom": null,
      "display": null,
      "flex": null,
      "flex_flow": null,
      "grid_area": null,
      "grid_auto_columns": null,
      "grid_auto_flow": null,
      "grid_auto_rows": null,
      "grid_column": null,
      "grid_gap": null,
      "grid_row": null,
      "grid_template_areas": null,
      "grid_template_columns": null,
      "grid_template_rows": null,
      "height": null,
      "justify_content": null,
      "justify_items": null,
      "left": null,
      "margin": null,
      "max_height": null,
      "max_width": null,
      "min_height": null,
      "min_width": null,
      "object_fit": null,
      "object_position": null,
      "order": null,
      "overflow": null,
      "overflow_x": null,
      "overflow_y": null,
      "padding": null,
      "right": null,
      "top": null,
      "visibility": null,
      "width": null
     }
    },
    "3cedc06cb66240779e14c15da8f263f5": {
     "model_module": "@jupyter-widgets/controls",
     "model_module_version": "1.5.0",
     "model_name": "HBoxModel",
     "state": {
      "_dom_classes": [],
      "_model_module": "@jupyter-widgets/controls",
      "_model_module_version": "1.5.0",
      "_model_name": "HBoxModel",
      "_view_count": null,
      "_view_module": "@jupyter-widgets/controls",
      "_view_module_version": "1.5.0",
      "_view_name": "HBoxView",
      "box_style": "",
      "children": [
       "IPY_MODEL_6ae01a674c1f4d91a0e39befa45fcb1d",
       "IPY_MODEL_442b8ccda4674da8ab09c477a9c55b0a",
       "IPY_MODEL_c5e32e9a199744f3b4301e8a109d9452"
      ],
      "layout": "IPY_MODEL_d5aeac9f91ad4074bbd8c85529b79a16"
     }
    },
    "4065d22d0596482b8ab91bce75e84b86": {
     "model_module": "@jupyter-widgets/base",
     "model_module_version": "1.2.0",
     "model_name": "LayoutModel",
     "state": {
      "_model_module": "@jupyter-widgets/base",
      "_model_module_version": "1.2.0",
      "_model_name": "LayoutModel",
      "_view_count": null,
      "_view_module": "@jupyter-widgets/base",
      "_view_module_version": "1.2.0",
      "_view_name": "LayoutView",
      "align_content": null,
      "align_items": null,
      "align_self": null,
      "border": null,
      "bottom": null,
      "display": null,
      "flex": null,
      "flex_flow": null,
      "grid_area": null,
      "grid_auto_columns": null,
      "grid_auto_flow": null,
      "grid_auto_rows": null,
      "grid_column": null,
      "grid_gap": null,
      "grid_row": null,
      "grid_template_areas": null,
      "grid_template_columns": null,
      "grid_template_rows": null,
      "height": null,
      "justify_content": null,
      "justify_items": null,
      "left": null,
      "margin": null,
      "max_height": null,
      "max_width": null,
      "min_height": null,
      "min_width": null,
      "object_fit": null,
      "object_position": null,
      "order": null,
      "overflow": null,
      "overflow_x": null,
      "overflow_y": null,
      "padding": null,
      "right": null,
      "top": null,
      "visibility": null,
      "width": null
     }
    },
    "442b8ccda4674da8ab09c477a9c55b0a": {
     "model_module": "@jupyter-widgets/controls",
     "model_module_version": "1.5.0",
     "model_name": "FloatProgressModel",
     "state": {
      "_dom_classes": [],
      "_model_module": "@jupyter-widgets/controls",
      "_model_module_version": "1.5.0",
      "_model_name": "FloatProgressModel",
      "_view_count": null,
      "_view_module": "@jupyter-widgets/controls",
      "_view_module_version": "1.5.0",
      "_view_name": "ProgressView",
      "bar_style": "success",
      "description": "",
      "description_tooltip": null,
      "layout": "IPY_MODEL_485da15fe9f84ecdab0a98827ea3e04b",
      "max": 570,
      "min": 0,
      "orientation": "horizontal",
      "style": "IPY_MODEL_fc3558ea94c04a8d9a6c6a75aaed42d5",
      "value": 570
     }
    },
    "485da15fe9f84ecdab0a98827ea3e04b": {
     "model_module": "@jupyter-widgets/base",
     "model_module_version": "1.2.0",
     "model_name": "LayoutModel",
     "state": {
      "_model_module": "@jupyter-widgets/base",
      "_model_module_version": "1.2.0",
      "_model_name": "LayoutModel",
      "_view_count": null,
      "_view_module": "@jupyter-widgets/base",
      "_view_module_version": "1.2.0",
      "_view_name": "LayoutView",
      "align_content": null,
      "align_items": null,
      "align_self": null,
      "border": null,
      "bottom": null,
      "display": null,
      "flex": null,
      "flex_flow": null,
      "grid_area": null,
      "grid_auto_columns": null,
      "grid_auto_flow": null,
      "grid_auto_rows": null,
      "grid_column": null,
      "grid_gap": null,
      "grid_row": null,
      "grid_template_areas": null,
      "grid_template_columns": null,
      "grid_template_rows": null,
      "height": null,
      "justify_content": null,
      "justify_items": null,
      "left": null,
      "margin": null,
      "max_height": null,
      "max_width": null,
      "min_height": null,
      "min_width": null,
      "object_fit": null,
      "object_position": null,
      "order": null,
      "overflow": null,
      "overflow_x": null,
      "overflow_y": null,
      "padding": null,
      "right": null,
      "top": null,
      "visibility": null,
      "width": null
     }
    },
    "591b72a3c33b42c3ba5ed5eab810b8e6": {
     "model_module": "@jupyter-widgets/controls",
     "model_module_version": "1.5.0",
     "model_name": "HBoxModel",
     "state": {
      "_dom_classes": [],
      "_model_module": "@jupyter-widgets/controls",
      "_model_module_version": "1.5.0",
      "_model_name": "HBoxModel",
      "_view_count": null,
      "_view_module": "@jupyter-widgets/controls",
      "_view_module_version": "1.5.0",
      "_view_name": "HBoxView",
      "box_style": "",
      "children": [
       "IPY_MODEL_0a2d84e6b30a4611a06a4ab346ae5203",
       "IPY_MODEL_aca8b704db28434aaf912f04f26439b2",
       "IPY_MODEL_f03c121ed5d246cf86fbdd54977bac68"
      ],
      "layout": "IPY_MODEL_cbe19e2da7d246148ab566b90a335f62"
     }
    },
    "614e5908511b4eeab7fba619b3509df2": {
     "model_module": "@jupyter-widgets/base",
     "model_module_version": "1.2.0",
     "model_name": "LayoutModel",
     "state": {
      "_model_module": "@jupyter-widgets/base",
      "_model_module_version": "1.2.0",
      "_model_name": "LayoutModel",
      "_view_count": null,
      "_view_module": "@jupyter-widgets/base",
      "_view_module_version": "1.2.0",
      "_view_name": "LayoutView",
      "align_content": null,
      "align_items": null,
      "align_self": null,
      "border": null,
      "bottom": null,
      "display": null,
      "flex": null,
      "flex_flow": null,
      "grid_area": null,
      "grid_auto_columns": null,
      "grid_auto_flow": null,
      "grid_auto_rows": null,
      "grid_column": null,
      "grid_gap": null,
      "grid_row": null,
      "grid_template_areas": null,
      "grid_template_columns": null,
      "grid_template_rows": null,
      "height": null,
      "justify_content": null,
      "justify_items": null,
      "left": null,
      "margin": null,
      "max_height": null,
      "max_width": null,
      "min_height": null,
      "min_width": null,
      "object_fit": null,
      "object_position": null,
      "order": null,
      "overflow": null,
      "overflow_x": null,
      "overflow_y": null,
      "padding": null,
      "right": null,
      "top": null,
      "visibility": null,
      "width": null
     }
    },
    "6546b18d4d0d4cc6ae47febac3d76673": {
     "model_module": "@jupyter-widgets/base",
     "model_module_version": "1.2.0",
     "model_name": "LayoutModel",
     "state": {
      "_model_module": "@jupyter-widgets/base",
      "_model_module_version": "1.2.0",
      "_model_name": "LayoutModel",
      "_view_count": null,
      "_view_module": "@jupyter-widgets/base",
      "_view_module_version": "1.2.0",
      "_view_name": "LayoutView",
      "align_content": null,
      "align_items": null,
      "align_self": null,
      "border": null,
      "bottom": null,
      "display": null,
      "flex": null,
      "flex_flow": null,
      "grid_area": null,
      "grid_auto_columns": null,
      "grid_auto_flow": null,
      "grid_auto_rows": null,
      "grid_column": null,
      "grid_gap": null,
      "grid_row": null,
      "grid_template_areas": null,
      "grid_template_columns": null,
      "grid_template_rows": null,
      "height": null,
      "justify_content": null,
      "justify_items": null,
      "left": null,
      "margin": null,
      "max_height": null,
      "max_width": null,
      "min_height": null,
      "min_width": null,
      "object_fit": null,
      "object_position": null,
      "order": null,
      "overflow": null,
      "overflow_x": null,
      "overflow_y": null,
      "padding": null,
      "right": null,
      "top": null,
      "visibility": null,
      "width": null
     }
    },
    "66656b105961413d937f9a4e568368c1": {
     "model_module": "@jupyter-widgets/controls",
     "model_module_version": "1.5.0",
     "model_name": "DescriptionStyleModel",
     "state": {
      "_model_module": "@jupyter-widgets/controls",
      "_model_module_version": "1.5.0",
      "_model_name": "DescriptionStyleModel",
      "_view_count": null,
      "_view_module": "@jupyter-widgets/base",
      "_view_module_version": "1.2.0",
      "_view_name": "StyleView",
      "description_width": ""
     }
    },
    "6ae01a674c1f4d91a0e39befa45fcb1d": {
     "model_module": "@jupyter-widgets/controls",
     "model_module_version": "1.5.0",
     "model_name": "HTMLModel",
     "state": {
      "_dom_classes": [],
      "_model_module": "@jupyter-widgets/controls",
      "_model_module_version": "1.5.0",
      "_model_name": "HTMLModel",
      "_view_count": null,
      "_view_module": "@jupyter-widgets/controls",
      "_view_module_version": "1.5.0",
      "_view_name": "HTMLView",
      "description": "",
      "description_tooltip": null,
      "layout": "IPY_MODEL_9d71a8b832d9437fbc44e97a3ca0b4b2",
      "placeholder": "​",
      "style": "IPY_MODEL_04044ccb427840de8bda0b03b6d4222b",
      "value": "config.json: 100%"
     }
    },
    "6b8737caed1e4709a9a5fb1a1a67606c": {
     "model_module": "@jupyter-widgets/controls",
     "model_module_version": "1.5.0",
     "model_name": "ProgressStyleModel",
     "state": {
      "_model_module": "@jupyter-widgets/controls",
      "_model_module_version": "1.5.0",
      "_model_name": "ProgressStyleModel",
      "_view_count": null,
      "_view_module": "@jupyter-widgets/base",
      "_view_module_version": "1.2.0",
      "_view_name": "StyleView",
      "bar_color": null,
      "description_width": ""
     }
    },
    "705399123e7446888f7f0fdb83a84430": {
     "model_module": "@jupyter-widgets/controls",
     "model_module_version": "1.5.0",
     "model_name": "DescriptionStyleModel",
     "state": {
      "_model_module": "@jupyter-widgets/controls",
      "_model_module_version": "1.5.0",
      "_model_name": "DescriptionStyleModel",
      "_view_count": null,
      "_view_module": "@jupyter-widgets/base",
      "_view_module_version": "1.2.0",
      "_view_name": "StyleView",
      "description_width": ""
     }
    },
    "71e01d24262e479e94acd237d4c4db0a": {
     "model_module": "@jupyter-widgets/controls",
     "model_module_version": "1.5.0",
     "model_name": "DescriptionStyleModel",
     "state": {
      "_model_module": "@jupyter-widgets/controls",
      "_model_module_version": "1.5.0",
      "_model_name": "DescriptionStyleModel",
      "_view_count": null,
      "_view_module": "@jupyter-widgets/base",
      "_view_module_version": "1.2.0",
      "_view_name": "StyleView",
      "description_width": ""
     }
    },
    "7406bd203f604fdbbe1b49e51d6986cb": {
     "model_module": "@jupyter-widgets/base",
     "model_module_version": "1.2.0",
     "model_name": "LayoutModel",
     "state": {
      "_model_module": "@jupyter-widgets/base",
      "_model_module_version": "1.2.0",
      "_model_name": "LayoutModel",
      "_view_count": null,
      "_view_module": "@jupyter-widgets/base",
      "_view_module_version": "1.2.0",
      "_view_name": "LayoutView",
      "align_content": null,
      "align_items": null,
      "align_self": null,
      "border": null,
      "bottom": null,
      "display": null,
      "flex": null,
      "flex_flow": null,
      "grid_area": null,
      "grid_auto_columns": null,
      "grid_auto_flow": null,
      "grid_auto_rows": null,
      "grid_column": null,
      "grid_gap": null,
      "grid_row": null,
      "grid_template_areas": null,
      "grid_template_columns": null,
      "grid_template_rows": null,
      "height": null,
      "justify_content": null,
      "justify_items": null,
      "left": null,
      "margin": null,
      "max_height": null,
      "max_width": null,
      "min_height": null,
      "min_width": null,
      "object_fit": null,
      "object_position": null,
      "order": null,
      "overflow": null,
      "overflow_x": null,
      "overflow_y": null,
      "padding": null,
      "right": null,
      "top": null,
      "visibility": null,
      "width": null
     }
    },
    "7619774782d348209c3a2d3f17c6e945": {
     "model_module": "@jupyter-widgets/controls",
     "model_module_version": "1.5.0",
     "model_name": "DescriptionStyleModel",
     "state": {
      "_model_module": "@jupyter-widgets/controls",
      "_model_module_version": "1.5.0",
      "_model_name": "DescriptionStyleModel",
      "_view_count": null,
      "_view_module": "@jupyter-widgets/base",
      "_view_module_version": "1.2.0",
      "_view_name": "StyleView",
      "description_width": ""
     }
    },
    "7a8e4914894649a69c76379f71b3059f": {
     "model_module": "@jupyter-widgets/controls",
     "model_module_version": "1.5.0",
     "model_name": "HTMLModel",
     "state": {
      "_dom_classes": [],
      "_model_module": "@jupyter-widgets/controls",
      "_model_module_version": "1.5.0",
      "_model_name": "HTMLModel",
      "_view_count": null,
      "_view_module": "@jupyter-widgets/controls",
      "_view_module_version": "1.5.0",
      "_view_name": "HTMLView",
      "description": "",
      "description_tooltip": null,
      "layout": "IPY_MODEL_7406bd203f604fdbbe1b49e51d6986cb",
      "placeholder": "​",
      "style": "IPY_MODEL_71e01d24262e479e94acd237d4c4db0a",
      "value": " 466k/466k [00:00&lt;00:00, 9.44MB/s]"
     }
    },
    "7ffc70dbc53946c5ac93cb4d5bd6e0a5": {
     "model_module": "@jupyter-widgets/controls",
     "model_module_version": "1.5.0",
     "model_name": "DescriptionStyleModel",
     "state": {
      "_model_module": "@jupyter-widgets/controls",
      "_model_module_version": "1.5.0",
      "_model_name": "DescriptionStyleModel",
      "_view_count": null,
      "_view_module": "@jupyter-widgets/base",
      "_view_module_version": "1.2.0",
      "_view_name": "StyleView",
      "description_width": ""
     }
    },
    "8022ea48f22a4e82b6ab0de3e3143c60": {
     "model_module": "@jupyter-widgets/base",
     "model_module_version": "1.2.0",
     "model_name": "LayoutModel",
     "state": {
      "_model_module": "@jupyter-widgets/base",
      "_model_module_version": "1.2.0",
      "_model_name": "LayoutModel",
      "_view_count": null,
      "_view_module": "@jupyter-widgets/base",
      "_view_module_version": "1.2.0",
      "_view_name": "LayoutView",
      "align_content": null,
      "align_items": null,
      "align_self": null,
      "border": null,
      "bottom": null,
      "display": null,
      "flex": null,
      "flex_flow": null,
      "grid_area": null,
      "grid_auto_columns": null,
      "grid_auto_flow": null,
      "grid_auto_rows": null,
      "grid_column": null,
      "grid_gap": null,
      "grid_row": null,
      "grid_template_areas": null,
      "grid_template_columns": null,
      "grid_template_rows": null,
      "height": null,
      "justify_content": null,
      "justify_items": null,
      "left": null,
      "margin": null,
      "max_height": null,
      "max_width": null,
      "min_height": null,
      "min_width": null,
      "object_fit": null,
      "object_position": null,
      "order": null,
      "overflow": null,
      "overflow_x": null,
      "overflow_y": null,
      "padding": null,
      "right": null,
      "top": null,
      "visibility": null,
      "width": null
     }
    },
    "87173b662fd346328f96eeead12d2e17": {
     "model_module": "@jupyter-widgets/base",
     "model_module_version": "1.2.0",
     "model_name": "LayoutModel",
     "state": {
      "_model_module": "@jupyter-widgets/base",
      "_model_module_version": "1.2.0",
      "_model_name": "LayoutModel",
      "_view_count": null,
      "_view_module": "@jupyter-widgets/base",
      "_view_module_version": "1.2.0",
      "_view_name": "LayoutView",
      "align_content": null,
      "align_items": null,
      "align_self": null,
      "border": null,
      "bottom": null,
      "display": null,
      "flex": null,
      "flex_flow": null,
      "grid_area": null,
      "grid_auto_columns": null,
      "grid_auto_flow": null,
      "grid_auto_rows": null,
      "grid_column": null,
      "grid_gap": null,
      "grid_row": null,
      "grid_template_areas": null,
      "grid_template_columns": null,
      "grid_template_rows": null,
      "height": null,
      "justify_content": null,
      "justify_items": null,
      "left": null,
      "margin": null,
      "max_height": null,
      "max_width": null,
      "min_height": null,
      "min_width": null,
      "object_fit": null,
      "object_position": null,
      "order": null,
      "overflow": null,
      "overflow_x": null,
      "overflow_y": null,
      "padding": null,
      "right": null,
      "top": null,
      "visibility": null,
      "width": null
     }
    },
    "96700aa7a03248f180bbed9a780ca5e1": {
     "model_module": "@jupyter-widgets/base",
     "model_module_version": "1.2.0",
     "model_name": "LayoutModel",
     "state": {
      "_model_module": "@jupyter-widgets/base",
      "_model_module_version": "1.2.0",
      "_model_name": "LayoutModel",
      "_view_count": null,
      "_view_module": "@jupyter-widgets/base",
      "_view_module_version": "1.2.0",
      "_view_name": "LayoutView",
      "align_content": null,
      "align_items": null,
      "align_self": null,
      "border": null,
      "bottom": null,
      "display": null,
      "flex": null,
      "flex_flow": null,
      "grid_area": null,
      "grid_auto_columns": null,
      "grid_auto_flow": null,
      "grid_auto_rows": null,
      "grid_column": null,
      "grid_gap": null,
      "grid_row": null,
      "grid_template_areas": null,
      "grid_template_columns": null,
      "grid_template_rows": null,
      "height": null,
      "justify_content": null,
      "justify_items": null,
      "left": null,
      "margin": null,
      "max_height": null,
      "max_width": null,
      "min_height": null,
      "min_width": null,
      "object_fit": null,
      "object_position": null,
      "order": null,
      "overflow": null,
      "overflow_x": null,
      "overflow_y": null,
      "padding": null,
      "right": null,
      "top": null,
      "visibility": null,
      "width": null
     }
    },
    "9768547f3a5d496d9e0e0727102e4c17": {
     "model_module": "@jupyter-widgets/base",
     "model_module_version": "1.2.0",
     "model_name": "LayoutModel",
     "state": {
      "_model_module": "@jupyter-widgets/base",
      "_model_module_version": "1.2.0",
      "_model_name": "LayoutModel",
      "_view_count": null,
      "_view_module": "@jupyter-widgets/base",
      "_view_module_version": "1.2.0",
      "_view_name": "LayoutView",
      "align_content": null,
      "align_items": null,
      "align_self": null,
      "border": null,
      "bottom": null,
      "display": null,
      "flex": null,
      "flex_flow": null,
      "grid_area": null,
      "grid_auto_columns": null,
      "grid_auto_flow": null,
      "grid_auto_rows": null,
      "grid_column": null,
      "grid_gap": null,
      "grid_row": null,
      "grid_template_areas": null,
      "grid_template_columns": null,
      "grid_template_rows": null,
      "height": null,
      "justify_content": null,
      "justify_items": null,
      "left": null,
      "margin": null,
      "max_height": null,
      "max_width": null,
      "min_height": null,
      "min_width": null,
      "object_fit": null,
      "object_position": null,
      "order": null,
      "overflow": null,
      "overflow_x": null,
      "overflow_y": null,
      "padding": null,
      "right": null,
      "top": null,
      "visibility": null,
      "width": null
     }
    },
    "98d8154267be46c997eb6cf41c7b584a": {
     "model_module": "@jupyter-widgets/controls",
     "model_module_version": "1.5.0",
     "model_name": "ProgressStyleModel",
     "state": {
      "_model_module": "@jupyter-widgets/controls",
      "_model_module_version": "1.5.0",
      "_model_name": "ProgressStyleModel",
      "_view_count": null,
      "_view_module": "@jupyter-widgets/base",
      "_view_module_version": "1.2.0",
      "_view_name": "StyleView",
      "bar_color": null,
      "description_width": ""
     }
    },
    "9c982c48089b44beabef949d70e92534": {
     "model_module": "@jupyter-widgets/controls",
     "model_module_version": "1.5.0",
     "model_name": "DescriptionStyleModel",
     "state": {
      "_model_module": "@jupyter-widgets/controls",
      "_model_module_version": "1.5.0",
      "_model_name": "DescriptionStyleModel",
      "_view_count": null,
      "_view_module": "@jupyter-widgets/base",
      "_view_module_version": "1.2.0",
      "_view_name": "StyleView",
      "description_width": ""
     }
    },
    "9d71a8b832d9437fbc44e97a3ca0b4b2": {
     "model_module": "@jupyter-widgets/base",
     "model_module_version": "1.2.0",
     "model_name": "LayoutModel",
     "state": {
      "_model_module": "@jupyter-widgets/base",
      "_model_module_version": "1.2.0",
      "_model_name": "LayoutModel",
      "_view_count": null,
      "_view_module": "@jupyter-widgets/base",
      "_view_module_version": "1.2.0",
      "_view_name": "LayoutView",
      "align_content": null,
      "align_items": null,
      "align_self": null,
      "border": null,
      "bottom": null,
      "display": null,
      "flex": null,
      "flex_flow": null,
      "grid_area": null,
      "grid_auto_columns": null,
      "grid_auto_flow": null,
      "grid_auto_rows": null,
      "grid_column": null,
      "grid_gap": null,
      "grid_row": null,
      "grid_template_areas": null,
      "grid_template_columns": null,
      "grid_template_rows": null,
      "height": null,
      "justify_content": null,
      "justify_items": null,
      "left": null,
      "margin": null,
      "max_height": null,
      "max_width": null,
      "min_height": null,
      "min_width": null,
      "object_fit": null,
      "object_position": null,
      "order": null,
      "overflow": null,
      "overflow_x": null,
      "overflow_y": null,
      "padding": null,
      "right": null,
      "top": null,
      "visibility": null,
      "width": null
     }
    },
    "a3eaf736a44e4ab69da9f4b19c454bf9": {
     "model_module": "@jupyter-widgets/controls",
     "model_module_version": "1.5.0",
     "model_name": "FloatProgressModel",
     "state": {
      "_dom_classes": [],
      "_model_module": "@jupyter-widgets/controls",
      "_model_module_version": "1.5.0",
      "_model_name": "FloatProgressModel",
      "_view_count": null,
      "_view_module": "@jupyter-widgets/controls",
      "_view_module_version": "1.5.0",
      "_view_name": "ProgressView",
      "bar_style": "success",
      "description": "",
      "description_tooltip": null,
      "layout": "IPY_MODEL_9768547f3a5d496d9e0e0727102e4c17",
      "max": 231508,
      "min": 0,
      "orientation": "horizontal",
      "style": "IPY_MODEL_d6444af5c2b444778f4aaffbebcdd254",
      "value": 231508
     }
    },
    "a4c30cf30883496393503ebe999567d9": {
     "model_module": "@jupyter-widgets/base",
     "model_module_version": "1.2.0",
     "model_name": "LayoutModel",
     "state": {
      "_model_module": "@jupyter-widgets/base",
      "_model_module_version": "1.2.0",
      "_model_name": "LayoutModel",
      "_view_count": null,
      "_view_module": "@jupyter-widgets/base",
      "_view_module_version": "1.2.0",
      "_view_name": "LayoutView",
      "align_content": null,
      "align_items": null,
      "align_self": null,
      "border": null,
      "bottom": null,
      "display": null,
      "flex": null,
      "flex_flow": null,
      "grid_area": null,
      "grid_auto_columns": null,
      "grid_auto_flow": null,
      "grid_auto_rows": null,
      "grid_column": null,
      "grid_gap": null,
      "grid_row": null,
      "grid_template_areas": null,
      "grid_template_columns": null,
      "grid_template_rows": null,
      "height": null,
      "justify_content": null,
      "justify_items": null,
      "left": null,
      "margin": null,
      "max_height": null,
      "max_width": null,
      "min_height": null,
      "min_width": null,
      "object_fit": null,
      "object_position": null,
      "order": null,
      "overflow": null,
      "overflow_x": null,
      "overflow_y": null,
      "padding": null,
      "right": null,
      "top": null,
      "visibility": null,
      "width": null
     }
    },
    "a7c9da18ec66418ab0f957bfafa666c3": {
     "model_module": "@jupyter-widgets/controls",
     "model_module_version": "1.5.0",
     "model_name": "HTMLModel",
     "state": {
      "_dom_classes": [],
      "_model_module": "@jupyter-widgets/controls",
      "_model_module_version": "1.5.0",
      "_model_name": "HTMLModel",
      "_view_count": null,
      "_view_module": "@jupyter-widgets/controls",
      "_view_module_version": "1.5.0",
      "_view_name": "HTMLView",
      "description": "",
      "description_tooltip": null,
      "layout": "IPY_MODEL_309d0f65d5a4480e9127136b1fa67571",
      "placeholder": "​",
      "style": "IPY_MODEL_04c3ef1633ec4b759bd0f8752b9c9269",
      "value": "tokenizer.json: 100%"
     }
    },
    "aca8b704db28434aaf912f04f26439b2": {
     "model_module": "@jupyter-widgets/controls",
     "model_module_version": "1.5.0",
     "model_name": "FloatProgressModel",
     "state": {
      "_dom_classes": [],
      "_model_module": "@jupyter-widgets/controls",
      "_model_module_version": "1.5.0",
      "_model_name": "FloatProgressModel",
      "_view_count": null,
      "_view_module": "@jupyter-widgets/controls",
      "_view_module_version": "1.5.0",
      "_view_name": "ProgressView",
      "bar_style": "success",
      "description": "",
      "description_tooltip": null,
      "layout": "IPY_MODEL_a4c30cf30883496393503ebe999567d9",
      "max": 48,
      "min": 0,
      "orientation": "horizontal",
      "style": "IPY_MODEL_6b8737caed1e4709a9a5fb1a1a67606c",
      "value": 48
     }
    },
    "acc5784c2f1a4d3283c5e6c09e62dbfd": {
     "model_module": "@jupyter-widgets/base",
     "model_module_version": "1.2.0",
     "model_name": "LayoutModel",
     "state": {
      "_model_module": "@jupyter-widgets/base",
      "_model_module_version": "1.2.0",
      "_model_name": "LayoutModel",
      "_view_count": null,
      "_view_module": "@jupyter-widgets/base",
      "_view_module_version": "1.2.0",
      "_view_name": "LayoutView",
      "align_content": null,
      "align_items": null,
      "align_self": null,
      "border": null,
      "bottom": null,
      "display": null,
      "flex": null,
      "flex_flow": null,
      "grid_area": null,
      "grid_auto_columns": null,
      "grid_auto_flow": null,
      "grid_auto_rows": null,
      "grid_column": null,
      "grid_gap": null,
      "grid_row": null,
      "grid_template_areas": null,
      "grid_template_columns": null,
      "grid_template_rows": null,
      "height": null,
      "justify_content": null,
      "justify_items": null,
      "left": null,
      "margin": null,
      "max_height": null,
      "max_width": null,
      "min_height": null,
      "min_width": null,
      "object_fit": null,
      "object_position": null,
      "order": null,
      "overflow": null,
      "overflow_x": null,
      "overflow_y": null,
      "padding": null,
      "right": null,
      "top": null,
      "visibility": null,
      "width": null
     }
    },
    "b46a6f3af0d34fb68407efa284e14971": {
     "model_module": "@jupyter-widgets/base",
     "model_module_version": "1.2.0",
     "model_name": "LayoutModel",
     "state": {
      "_model_module": "@jupyter-widgets/base",
      "_model_module_version": "1.2.0",
      "_model_name": "LayoutModel",
      "_view_count": null,
      "_view_module": "@jupyter-widgets/base",
      "_view_module_version": "1.2.0",
      "_view_name": "LayoutView",
      "align_content": null,
      "align_items": null,
      "align_self": null,
      "border": null,
      "bottom": null,
      "display": null,
      "flex": null,
      "flex_flow": null,
      "grid_area": null,
      "grid_auto_columns": null,
      "grid_auto_flow": null,
      "grid_auto_rows": null,
      "grid_column": null,
      "grid_gap": null,
      "grid_row": null,
      "grid_template_areas": null,
      "grid_template_columns": null,
      "grid_template_rows": null,
      "height": null,
      "justify_content": null,
      "justify_items": null,
      "left": null,
      "margin": null,
      "max_height": null,
      "max_width": null,
      "min_height": null,
      "min_width": null,
      "object_fit": null,
      "object_position": null,
      "order": null,
      "overflow": null,
      "overflow_x": null,
      "overflow_y": null,
      "padding": null,
      "right": null,
      "top": null,
      "visibility": null,
      "width": null
     }
    },
    "c31d8b53e6c14815ba7c525c7c98c0f7": {
     "model_module": "@jupyter-widgets/controls",
     "model_module_version": "1.5.0",
     "model_name": "HTMLModel",
     "state": {
      "_dom_classes": [],
      "_model_module": "@jupyter-widgets/controls",
      "_model_module_version": "1.5.0",
      "_model_name": "HTMLModel",
      "_view_count": null,
      "_view_module": "@jupyter-widgets/controls",
      "_view_module_version": "1.5.0",
      "_view_name": "HTMLView",
      "description": "",
      "description_tooltip": null,
      "layout": "IPY_MODEL_f123f0e0694e49b496c99592436e64d8",
      "placeholder": "​",
      "style": "IPY_MODEL_705399123e7446888f7f0fdb83a84430",
      "value": " 440M/440M [00:03&lt;00:00, 150MB/s]"
     }
    },
    "c4d716d66cbf40a5bc96b8a9b19276fe": {
     "model_module": "@jupyter-widgets/controls",
     "model_module_version": "1.5.0",
     "model_name": "HBoxModel",
     "state": {
      "_dom_classes": [],
      "_model_module": "@jupyter-widgets/controls",
      "_model_module_version": "1.5.0",
      "_model_name": "HBoxModel",
      "_view_count": null,
      "_view_module": "@jupyter-widgets/controls",
      "_view_module_version": "1.5.0",
      "_view_name": "HBoxView",
      "box_style": "",
      "children": [
       "IPY_MODEL_cc515bf2675f42e692940288b2de8eb7",
       "IPY_MODEL_0d06a384be264ce780e4814b0a235b5b",
       "IPY_MODEL_c31d8b53e6c14815ba7c525c7c98c0f7"
      ],
      "layout": "IPY_MODEL_96700aa7a03248f180bbed9a780ca5e1"
     }
    },
    "c5e32e9a199744f3b4301e8a109d9452": {
     "model_module": "@jupyter-widgets/controls",
     "model_module_version": "1.5.0",
     "model_name": "HTMLModel",
     "state": {
      "_dom_classes": [],
      "_model_module": "@jupyter-widgets/controls",
      "_model_module_version": "1.5.0",
      "_model_name": "HTMLModel",
      "_view_count": null,
      "_view_module": "@jupyter-widgets/controls",
      "_view_module_version": "1.5.0",
      "_view_name": "HTMLView",
      "description": "",
      "description_tooltip": null,
      "layout": "IPY_MODEL_15c4fc3d34dd4966b3c36ce403d6dbbd",
      "placeholder": "​",
      "style": "IPY_MODEL_20683a5b9a7b4eddbfb2e81398b55236",
      "value": " 570/570 [00:00&lt;00:00, 20.9kB/s]"
     }
    },
    "cbe19e2da7d246148ab566b90a335f62": {
     "model_module": "@jupyter-widgets/base",
     "model_module_version": "1.2.0",
     "model_name": "LayoutModel",
     "state": {
      "_model_module": "@jupyter-widgets/base",
      "_model_module_version": "1.2.0",
      "_model_name": "LayoutModel",
      "_view_count": null,
      "_view_module": "@jupyter-widgets/base",
      "_view_module_version": "1.2.0",
      "_view_name": "LayoutView",
      "align_content": null,
      "align_items": null,
      "align_self": null,
      "border": null,
      "bottom": null,
      "display": null,
      "flex": null,
      "flex_flow": null,
      "grid_area": null,
      "grid_auto_columns": null,
      "grid_auto_flow": null,
      "grid_auto_rows": null,
      "grid_column": null,
      "grid_gap": null,
      "grid_row": null,
      "grid_template_areas": null,
      "grid_template_columns": null,
      "grid_template_rows": null,
      "height": null,
      "justify_content": null,
      "justify_items": null,
      "left": null,
      "margin": null,
      "max_height": null,
      "max_width": null,
      "min_height": null,
      "min_width": null,
      "object_fit": null,
      "object_position": null,
      "order": null,
      "overflow": null,
      "overflow_x": null,
      "overflow_y": null,
      "padding": null,
      "right": null,
      "top": null,
      "visibility": null,
      "width": null
     }
    },
    "cc515bf2675f42e692940288b2de8eb7": {
     "model_module": "@jupyter-widgets/controls",
     "model_module_version": "1.5.0",
     "model_name": "HTMLModel",
     "state": {
      "_dom_classes": [],
      "_model_module": "@jupyter-widgets/controls",
      "_model_module_version": "1.5.0",
      "_model_name": "HTMLModel",
      "_view_count": null,
      "_view_module": "@jupyter-widgets/controls",
      "_view_module_version": "1.5.0",
      "_view_name": "HTMLView",
      "description": "",
      "description_tooltip": null,
      "layout": "IPY_MODEL_4065d22d0596482b8ab91bce75e84b86",
      "placeholder": "​",
      "style": "IPY_MODEL_66656b105961413d937f9a4e568368c1",
      "value": "model.safetensors: 100%"
     }
    },
    "d33d5ab7e5ba42c882040c4df58f6feb": {
     "model_module": "@jupyter-widgets/controls",
     "model_module_version": "1.5.0",
     "model_name": "FloatProgressModel",
     "state": {
      "_dom_classes": [],
      "_model_module": "@jupyter-widgets/controls",
      "_model_module_version": "1.5.0",
      "_model_name": "FloatProgressModel",
      "_view_count": null,
      "_view_module": "@jupyter-widgets/controls",
      "_view_module_version": "1.5.0",
      "_view_name": "ProgressView",
      "bar_style": "success",
      "description": "",
      "description_tooltip": null,
      "layout": "IPY_MODEL_6546b18d4d0d4cc6ae47febac3d76673",
      "max": 466062,
      "min": 0,
      "orientation": "horizontal",
      "style": "IPY_MODEL_20becb85bf9d436ca5bd47d661095a8c",
      "value": 466062
     }
    },
    "d5aeac9f91ad4074bbd8c85529b79a16": {
     "model_module": "@jupyter-widgets/base",
     "model_module_version": "1.2.0",
     "model_name": "LayoutModel",
     "state": {
      "_model_module": "@jupyter-widgets/base",
      "_model_module_version": "1.2.0",
      "_model_name": "LayoutModel",
      "_view_count": null,
      "_view_module": "@jupyter-widgets/base",
      "_view_module_version": "1.2.0",
      "_view_name": "LayoutView",
      "align_content": null,
      "align_items": null,
      "align_self": null,
      "border": null,
      "bottom": null,
      "display": null,
      "flex": null,
      "flex_flow": null,
      "grid_area": null,
      "grid_auto_columns": null,
      "grid_auto_flow": null,
      "grid_auto_rows": null,
      "grid_column": null,
      "grid_gap": null,
      "grid_row": null,
      "grid_template_areas": null,
      "grid_template_columns": null,
      "grid_template_rows": null,
      "height": null,
      "justify_content": null,
      "justify_items": null,
      "left": null,
      "margin": null,
      "max_height": null,
      "max_width": null,
      "min_height": null,
      "min_width": null,
      "object_fit": null,
      "object_position": null,
      "order": null,
      "overflow": null,
      "overflow_x": null,
      "overflow_y": null,
      "padding": null,
      "right": null,
      "top": null,
      "visibility": null,
      "width": null
     }
    },
    "d6444af5c2b444778f4aaffbebcdd254": {
     "model_module": "@jupyter-widgets/controls",
     "model_module_version": "1.5.0",
     "model_name": "ProgressStyleModel",
     "state": {
      "_model_module": "@jupyter-widgets/controls",
      "_model_module_version": "1.5.0",
      "_model_name": "ProgressStyleModel",
      "_view_count": null,
      "_view_module": "@jupyter-widgets/base",
      "_view_module_version": "1.2.0",
      "_view_name": "StyleView",
      "bar_color": null,
      "description_width": ""
     }
    },
    "d9ad967273524cc597ef49c682597ce9": {
     "model_module": "@jupyter-widgets/base",
     "model_module_version": "1.2.0",
     "model_name": "LayoutModel",
     "state": {
      "_model_module": "@jupyter-widgets/base",
      "_model_module_version": "1.2.0",
      "_model_name": "LayoutModel",
      "_view_count": null,
      "_view_module": "@jupyter-widgets/base",
      "_view_module_version": "1.2.0",
      "_view_name": "LayoutView",
      "align_content": null,
      "align_items": null,
      "align_self": null,
      "border": null,
      "bottom": null,
      "display": null,
      "flex": null,
      "flex_flow": null,
      "grid_area": null,
      "grid_auto_columns": null,
      "grid_auto_flow": null,
      "grid_auto_rows": null,
      "grid_column": null,
      "grid_gap": null,
      "grid_row": null,
      "grid_template_areas": null,
      "grid_template_columns": null,
      "grid_template_rows": null,
      "height": null,
      "justify_content": null,
      "justify_items": null,
      "left": null,
      "margin": null,
      "max_height": null,
      "max_width": null,
      "min_height": null,
      "min_width": null,
      "object_fit": null,
      "object_position": null,
      "order": null,
      "overflow": null,
      "overflow_x": null,
      "overflow_y": null,
      "padding": null,
      "right": null,
      "top": null,
      "visibility": null,
      "width": null
     }
    },
    "f03c121ed5d246cf86fbdd54977bac68": {
     "model_module": "@jupyter-widgets/controls",
     "model_module_version": "1.5.0",
     "model_name": "HTMLModel",
     "state": {
      "_dom_classes": [],
      "_model_module": "@jupyter-widgets/controls",
      "_model_module_version": "1.5.0",
      "_model_name": "HTMLModel",
      "_view_count": null,
      "_view_module": "@jupyter-widgets/controls",
      "_view_module_version": "1.5.0",
      "_view_name": "HTMLView",
      "description": "",
      "description_tooltip": null,
      "layout": "IPY_MODEL_87173b662fd346328f96eeead12d2e17",
      "placeholder": "​",
      "style": "IPY_MODEL_192bc5e674464c69825694d425b2393f",
      "value": " 48.0/48.0 [00:00&lt;00:00, 1.29kB/s]"
     }
    },
    "f123f0e0694e49b496c99592436e64d8": {
     "model_module": "@jupyter-widgets/base",
     "model_module_version": "1.2.0",
     "model_name": "LayoutModel",
     "state": {
      "_model_module": "@jupyter-widgets/base",
      "_model_module_version": "1.2.0",
      "_model_name": "LayoutModel",
      "_view_count": null,
      "_view_module": "@jupyter-widgets/base",
      "_view_module_version": "1.2.0",
      "_view_name": "LayoutView",
      "align_content": null,
      "align_items": null,
      "align_self": null,
      "border": null,
      "bottom": null,
      "display": null,
      "flex": null,
      "flex_flow": null,
      "grid_area": null,
      "grid_auto_columns": null,
      "grid_auto_flow": null,
      "grid_auto_rows": null,
      "grid_column": null,
      "grid_gap": null,
      "grid_row": null,
      "grid_template_areas": null,
      "grid_template_columns": null,
      "grid_template_rows": null,
      "height": null,
      "justify_content": null,
      "justify_items": null,
      "left": null,
      "margin": null,
      "max_height": null,
      "max_width": null,
      "min_height": null,
      "min_width": null,
      "object_fit": null,
      "object_position": null,
      "order": null,
      "overflow": null,
      "overflow_x": null,
      "overflow_y": null,
      "padding": null,
      "right": null,
      "top": null,
      "visibility": null,
      "width": null
     }
    },
    "f41a36a274b1404089b4259709596f7e": {
     "model_module": "@jupyter-widgets/controls",
     "model_module_version": "1.5.0",
     "model_name": "HBoxModel",
     "state": {
      "_dom_classes": [],
      "_model_module": "@jupyter-widgets/controls",
      "_model_module_version": "1.5.0",
      "_model_name": "HBoxModel",
      "_view_count": null,
      "_view_module": "@jupyter-widgets/controls",
      "_view_module_version": "1.5.0",
      "_view_name": "HBoxView",
      "box_style": "",
      "children": [
       "IPY_MODEL_05b58aef54f3458bb01e94b833567d3b",
       "IPY_MODEL_a3eaf736a44e4ab69da9f4b19c454bf9",
       "IPY_MODEL_162fca4a110a4eb79fa839c04e09df0b"
      ],
      "layout": "IPY_MODEL_8022ea48f22a4e82b6ab0de3e3143c60"
     }
    },
    "fc3558ea94c04a8d9a6c6a75aaed42d5": {
     "model_module": "@jupyter-widgets/controls",
     "model_module_version": "1.5.0",
     "model_name": "ProgressStyleModel",
     "state": {
      "_model_module": "@jupyter-widgets/controls",
      "_model_module_version": "1.5.0",
      "_model_name": "ProgressStyleModel",
      "_view_count": null,
      "_view_module": "@jupyter-widgets/base",
      "_view_module_version": "1.2.0",
      "_view_name": "StyleView",
      "bar_color": null,
      "description_width": ""
     }
    }
   }
  }
 },
 "nbformat": 4,
 "nbformat_minor": 0
}
