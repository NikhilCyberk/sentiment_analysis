{
 "cells": [
  {
   "cell_type": "code",
   "execution_count": 13,
   "metadata": {},
   "outputs": [],
   "source": [
    "import pandas as pd\n",
    "import numpy as np\n",
    "import re\n",
    "import matplotlib.pyplot as plt\n",
    "import seaborn as sns\n",
    "\n",
    "# Data Preprocessing Imports\n",
    "from sklearn.model_selection import train_test_split, StratifiedKFold\n",
    "from sklearn.metrics import classification_report, confusion_matrix\n",
    "\n",
    "# PyTorch and Transformers\n",
    "import torch\n",
    "from torch.utils.data import Dataset\n",
    "from transformers import (\n",
    "    AutoTokenizer, \n",
    "    AutoModelForSequenceClassification, \n",
    "    TrainingArguments, \n",
    "    Trainer\n",
    ")"
   ]
  },
  {
   "cell_type": "code",
   "execution_count": 14,
   "metadata": {},
   "outputs": [],
   "source": [
    "# Text Cleaning Function\n",
    "def clean_text(text):\n",
    "    # Remove URLs\n",
    "    text = re.sub(r'http\\S+', '', str(text))\n",
    "    # Remove mentions\n",
    "    text = re.sub(r'@\\w+', '', text)\n",
    "    # Remove special characters and digits\n",
    "    text = re.sub(r'[^a-zA-Z\\s]', '', text)\n",
    "    # Lowercase\n",
    "    text = text.lower()\n",
    "    # Remove extra whitespaces\n",
    "    text = ' '.join(text.split())\n",
    "    return text\n",
    "\n",
    "# Load Dataset\n",
    "column_names = ['target', 'ids', 'date', 'flag', 'user', 'text']\n",
    "df = pd.read_csv(\"twitter_dataset.csv\", names=column_names, encoding='ISO-8859-1')\n"
   ]
  },
  {
   "cell_type": "code",
   "execution_count": 15,
   "metadata": {},
   "outputs": [],
   "source": [
    "# Preprocessing\n",
    "df['text'] = df['text'].apply(clean_text)\n",
    "df['target'] = df['target'].replace(4, 1)\n",
    "\n",
    "# Sample and Balance Dataset\n",
    "df = df.sample(n=50000, random_state=42)\n",
    "df = df[[\"text\", \"target\"]]\n",
    "\n",
    "# Handle Class Imbalance\n",
    "min_count = df['target'].value_counts().min()\n",
    "balanced_df = df.groupby('target').sample(n=min_count, random_state=42)\n"
   ]
  },
  {
   "cell_type": "code",
   "execution_count": 16,
   "metadata": {},
   "outputs": [
    {
     "data": {
      "image/png": "[encoded data removed]",
      "text/plain": [
       "<Figure size 1000x600 with 1 Axes>"
      ]
     },
     "metadata": {},
     "output_type": "display_data"
    }
   ],
   "source": [
    "# Visualization\n",
    "plt.figure(figsize=(10, 6))\n",
    "sns.countplot(x='target', data=balanced_df)\n",
    "plt.title('Balanced Class Distribution')\n",
    "plt.show()\n",
    "\n",
    "# Train Test Split\n",
    "train_texts, test_texts, train_labels, test_labels = train_test_split(\n",
    "    balanced_df[\"text\"], balanced_df[\"target\"], \n",
    "    test_size=0.2, \n",
    "    random_state=42, \n",
    "    stratify=balanced_df[\"target\"]\n",
    ")"
   ]
  },
  {
   "cell_type": "code",
   "execution_count": 17,
   "metadata": {},
   "outputs": [],
   "source": [
    "# Advanced Tokenization\n",
    "tokenizer = AutoTokenizer.from_pretrained(\"cardiffnlp/twitter-roberta-base-sentiment\")\n"
   ]
  },
  {
   "cell_type": "code",
   "execution_count": 18,
   "metadata": {},
   "outputs": [],
   "source": [
    "# Custom Dataset Class\n",
    "class SentimentDataset(Dataset):\n",
    "    def __init__(self, texts, labels, tokenizer, max_len=128):\n",
    "        self.texts = texts\n",
    "        self.labels = labels\n",
    "        self.tokenizer = tokenizer\n",
    "        self.max_len = max_len\n",
    "    \n",
    "    def __len__(self):\n",
    "        return len(self.labels)\n",
    "    \n",
    "    def __getitem__(self, idx):\n",
    "        text = str(self.texts.iloc[idx])\n",
    "        inputs = self.tokenizer.encode_plus(\n",
    "            text,\n",
    "            None,\n",
    "            add_special_tokens=True,\n",
    "            max_length=self.max_len,\n",
    "            padding='max_length',\n",
    "            return_token_type_ids=True,\n",
    "            truncation=True,\n",
    "            return_tensors='pt'\n",
    "        )\n",
    "        \n",
    "        return {\n",
    "            'input_ids': inputs['input_ids'].flatten(),\n",
    "            'attention_mask': inputs['attention_mask'].flatten(),\n",
    "            'labels': torch.tensor(self.labels.iloc[idx], dtype=torch.long)\n",
    "        }\n"
   ]
  },
  {
   "cell_type": "code",
   "execution_count": 19,
   "metadata": {},
   "outputs": [],
   "source": [
    "# Create Datasets\n",
    "train_dataset = SentimentDataset(train_texts, train_labels, tokenizer)\n",
    "test_dataset = SentimentDataset(test_texts, test_labels, tokenizer)\n"
   ]
  },
  {
   "cell_type": "code",
   "execution_count": 20,
   "metadata": {},
   "outputs": [],
   "source": [
    "# Model Configuration\n",
    "model = AutoModelForSequenceClassification.from_pretrained(\n",
    "    \"cardiffnlp/twitter-roberta-base-sentiment\", \n",
    "    num_labels=3,  # Match original model's labels\n",
    "    ignore_mismatched_sizes=True  # Add this to handle size mismatch\n",
    ")"
   ]
  },
  {
   "cell_type": "code",
   "execution_count": 21,
   "metadata": {},
   "outputs": [
    {
     "name": "stderr",
     "output_type": "stream",
     "text": [
      "C:\\Users\\nikhi\\AppData\\Roaming\\Python\\Python312\\site-packages\\transformers\\training_args.py:1568: FutureWarning: `evaluation_strategy` is deprecated and will be removed in version 4.46 of 🤗 Transformers. Use `eval_strategy` instead\n",
      "  warnings.warn(\n"
     ]
    }
   ],
   "source": [
    "# Training Arguments\n",
    "training_args = TrainingArguments(\n",
    "    output_dir=\"./sentiment_results\",\n",
    "    evaluation_strategy=\"epoch\",\n",
    "    learning_rate=2e-5,\n",
    "    per_device_train_batch_size=16,\n",
    "    per_device_eval_batch_size=16,\n",
    "    num_train_epochs=3,\n",
    "    weight_decay=0.01,\n",
    "    save_strategy=\"epoch\",\n",
    "    load_best_model_at_end=True,\n",
    "    metric_for_best_model='eval_loss'\n",
    ")"
   ]
  },
  {
   "cell_type": "code",
   "execution_count": 22,
   "metadata": {},
   "outputs": [],
   "source": [
    "# Trainer\n",
    "trainer = Trainer(\n",
    "    model=model,\n",
    "    args=training_args,\n",
    "    train_dataset=train_dataset,\n",
    "    eval_dataset=test_dataset\n",
    ")"
   ]
  },
  {
   "cell_type": "code",
   "execution_count": 23,
   "metadata": {},
   "outputs": [
    {
     "data": {
      "application/vnd.jupyter.widget-view+json": {
       "model_id": "1b964172d351436f83281596cc597c28",
       "version_major": 2,
       "version_minor": 0
      },
      "text/plain": [
       "  0%|          | 0/7497 [00:00<?, ?it/s]"
      ]
     },
     "metadata": {},
     "output_type": "display_data"
    },
    {
     "name": "stdout",
     "output_type": "stream",
     "text": [
      "{'loss': 0.4226, 'grad_norm': 7.64379358291626, 'learning_rate': 1.8666133119914635e-05, 'epoch': 0.2}\n",
      "{'loss': 0.3862, 'grad_norm': 16.32996940612793, 'learning_rate': 1.7332266239829268e-05, 'epoch': 0.4}\n",
      "{'loss': 0.3962, 'grad_norm': 5.3108978271484375, 'learning_rate': 1.5998399359743898e-05, 'epoch': 0.6}\n",
      "{'loss': 0.3845, 'grad_norm': 4.276525974273682, 'learning_rate': 1.4664532479658531e-05, 'epoch': 0.8}\n"
     ]
    },
    {
     "data": {
      "application/vnd.jupyter.widget-view+json": {
       "model_id": "47dcd53e1e45438b8bc41d433425dbf2",
       "version_major": 2,
       "version_minor": 0
      },
      "text/plain": [
       "  0%|          | 0/625 [00:00<?, ?it/s]"
      ]
     },
     "metadata": {},
     "output_type": "display_data"
    },
    {
     "name": "stdout",
     "output_type": "stream",
     "text": [
      "{'eval_loss': 0.36113402247428894, 'eval_runtime': 582.737, 'eval_samples_per_second': 17.152, 'eval_steps_per_second': 1.073, 'epoch': 1.0}\n",
      "{'loss': 0.3736, 'grad_norm': 6.916321277618408, 'learning_rate': 1.3330665599573163e-05, 'epoch': 1.0}\n",
      "{'loss': 0.289, 'grad_norm': 8.652734756469727, 'learning_rate': 1.1996798719487796e-05, 'epoch': 1.2}\n",
      "{'loss': 0.2721, 'grad_norm': 14.936286926269531, 'learning_rate': 1.0662931839402428e-05, 'epoch': 1.4}\n",
      "{'loss': 0.2792, 'grad_norm': 11.462202072143555, 'learning_rate': 9.329064959317061e-06, 'epoch': 1.6}\n",
      "{'loss': 0.2708, 'grad_norm': 8.136467933654785, 'learning_rate': 7.995198079231693e-06, 'epoch': 1.8}\n"
     ]
    },
    {
     "data": {
      "application/vnd.jupyter.widget-view+json": {
       "model_id": "653244ea964b484f9d360ba16c18c1eb",
       "version_major": 2,
       "version_minor": 0
      },
      "text/plain": [
       "  0%|          | 0/625 [00:00<?, ?it/s]"
      ]
     },
     "metadata": {},
     "output_type": "display_data"
    },
    {
     "name": "stdout",
     "output_type": "stream",
     "text": [
      "{'eval_loss': 0.402520090341568, 'eval_runtime': 580.233, 'eval_samples_per_second': 17.226, 'eval_steps_per_second': 1.077, 'epoch': 2.0}\n",
      "{'loss': 0.2733, 'grad_norm': 11.161710739135742, 'learning_rate': 6.661331199146326e-06, 'epoch': 2.0}\n",
      "{'loss': 0.1889, 'grad_norm': 20.5332088470459, 'learning_rate': 5.327464319060958e-06, 'epoch': 2.2}\n",
      "{'loss': 0.2045, 'grad_norm': 43.23472213745117, 'learning_rate': 3.99359743897559e-06, 'epoch': 2.4}\n",
      "{'loss': 0.1971, 'grad_norm': 52.640235900878906, 'learning_rate': 2.659730558890223e-06, 'epoch': 2.6}\n",
      "{'loss': 0.2047, 'grad_norm': 23.489057540893555, 'learning_rate': 1.3258636788048554e-06, 'epoch': 2.8}\n"
     ]
    },
    {
     "data": {
      "application/vnd.jupyter.widget-view+json": {
       "model_id": "4b51194400f04c11be10d703864b9412",
       "version_major": 2,
       "version_minor": 0
      },
      "text/plain": [
       "  0%|          | 0/625 [00:00<?, ?it/s]"
      ]
     },
     "metadata": {},
     "output_type": "display_data"
    },
    {
     "name": "stdout",
     "output_type": "stream",
     "text": [
      "{'eval_loss': 0.5093419551849365, 'eval_runtime': 579.4944, 'eval_samples_per_second': 17.248, 'eval_steps_per_second': 1.079, 'epoch': 3.0}\n",
      "{'train_runtime': 19039.3734, 'train_samples_per_second': 6.299, 'train_steps_per_second': 0.394, 'train_loss': 0.28831832720881323, 'epoch': 3.0}\n"
     ]
    },
    {
     "data": {
      "text/plain": [
       "TrainOutput(global_step=7497, training_loss=0.28831832720881323, metrics={'train_runtime': 19039.3734, 'train_samples_per_second': 6.299, 'train_steps_per_second': 0.394, 'total_flos': 7888863825384192.0, 'train_loss': 0.28831832720881323, 'epoch': 3.0})"
      ]
     },
     "execution_count": 23,
     "metadata": {},
     "output_type": "execute_result"
    }
   ],
   "source": [
    "# Train Model\n",
    "trainer.train()"
   ]
  },
  {
   "cell_type": "code",
   "execution_count": 24,
   "metadata": {},
   "outputs": [
    {
     "data": {
      "application/vnd.jupyter.widget-view+json": {
       "model_id": "bd2b96b1e6ec4303aea665fcfc1f07d7",
       "version_major": 2,
       "version_minor": 0
      },
      "text/plain": [
       "  0%|          | 0/625 [00:00<?, ?it/s]"
      ]
     },
     "metadata": {},
     "output_type": "display_data"
    }
   ],
   "source": [
    "# Evaluation\n",
    "predictions = trainer.predict(test_dataset)\n",
    "predicted_labels = predictions.predictions.argmax(axis=1)\n"
   ]
  },
  {
   "cell_type": "code",
   "execution_count": 25,
   "metadata": {},
   "outputs": [
    {
     "name": "stdout",
     "output_type": "stream",
     "text": [
      "              precision    recall  f1-score   support\n",
      "\n",
      "    Negative       0.82      0.88      0.85      4998\n",
      "    Positive       0.87      0.81      0.84      4997\n",
      "\n",
      "    accuracy                           0.85      9995\n",
      "   macro avg       0.85      0.85      0.85      9995\n",
      "weighted avg       0.85      0.85      0.85      9995\n",
      "\n"
     ]
    }
   ],
   "source": [
    "# Classification Report\n",
    "print(classification_report(\n",
    "    test_labels, \n",
    "    predicted_labels, \n",
    "    target_names=['Negative', 'Positive']\n",
    "))"
   ]
  },
  {
   "cell_type": "code",
   "execution_count": 26,
   "metadata": {},
   "outputs": [
    {
     "data": {
      "image/png": "[encoded data removed]",
      "text/plain": [
       "<Figure size 800x600 with 2 Axes>"
      ]
     },
     "metadata": {},
     "output_type": "display_data"
    }
   ],
   "source": [
    "# Confusion Matrix\n",
    "cm = confusion_matrix(test_labels, predicted_labels)\n",
    "plt.figure(figsize=(8, 6))\n",
    "sns.heatmap(cm, annot=True, fmt='d', cmap='Blues')\n",
    "plt.title('Confusion Matrix')\n",
    "plt.ylabel('Actual')\n",
    "plt.xlabel('Predicted')\n",
    "plt.show()"
   ]
  },
  {
   "cell_type": "markdown",
   "metadata": {},
   "source": [
    "# Sentiment Analysis Model Performance Report\n",
    "\n",
    "## Model Configuration\n",
    "- **Base Model**: CardiffNLP Twitter RoBERTa\n",
    "- **Dataset**: Twitter Sentiment Dataset\n",
    "- **Sample Size**: 50,000 tweets\n",
    "- **Class Distribution**: Balanced\n",
    "\n",
    "## Performance Metrics\n",
    "\n",
    "### Classification Report\n",
    "| Class     | Precision | Recall | F1-Score | Support |\n",
    "|-----------|-----------|--------|----------|---------|\n",
    "| Negative  | 0.82      | 0.88   | 0.85     | 4,998   |\n",
    "| Positive  | 0.87      | 0.81   | 0.84     | 4,997   |\n",
    "| **Overall**   | **0.85**      | **0.85**   | **0.85**     | **9,995**   |\n",
    "\n",
    "## Training Details\n",
    "- **Epochs**: 3\n",
    "- **Learning Rate**: 2e-5\n",
    "- **Batch Size**: 16 (Train & Eval)\n",
    "- **Weight Decay**: 0.01\n",
    "\n",
    "## Key Observations\n",
    "1. Balanced performance across positive and negative classes\n",
    "2. High precision and recall (0.82-0.88)\n",
    "3. Consistent F1-scores around 0.85\n",
    "\n",
    "## Model Training Efficiency\n",
    "- **Training Runtime**: 19,039 seconds\n",
    "- **Samples per Second**: 6.299\n",
    "- **Steps per Second**: 0.394\n",
    "- **Final Training Loss**: 0.288\n",
    "\n",
    "## Recommendations\n",
    "1. Validate on diverse, real-world datasets\n",
    "2. Consider extended training epochs\n",
    "3. Experiment with learning rate scheduling\n",
    "\n",
    "## Conclusion\n",
    "The transformer-based sentiment analysis model demonstrates robust performance with balanced accuracy across sentiment classes."
   ]
  },
  {
   "cell_type": "markdown",
   "metadata": {},
   "source": []
  }
 ],
 "metadata": {
  "kernelspec": {
   "display_name": "Python 3",
   "language": "python",
   "name": "python3"
  },
  "language_info": {
   "codemirror_mode": {
    "name": "ipython",
    "version": 3
   },
   "file_extension": ".py",
   "mimetype": "text/x-python",
   "name": "python",
   "nbconvert_exporter": "python",
   "pygments_lexer": "ipython3",
   "version": "3.12.6"
  }
 },
 "nbformat": 4,
 "nbformat_minor": 2
}
