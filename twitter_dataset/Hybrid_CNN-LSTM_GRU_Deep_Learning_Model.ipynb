{
 "cells": [
  {
   "cell_type": "code",
   "execution_count": 2,
   "metadata": {},
   "outputs": [],
   "source": [
    "pip install gensim"
   ]
  },
  {
   "cell_type": "code",
   "execution_count": 12,
   "metadata": {},
   "outputs": [],
   "source": [
    "import numpy as np\n",
    "import pandas as pd\n",
    "import re\n",
    "import nltk\n",
    "import tensorflow as tf\n",
    "from tensorflow.keras.preprocessing.text import Tokenizer\n",
    "from tensorflow.keras.preprocessing.sequence import pad_sequences\n",
    "from tensorflow.keras.layers import Embedding, SpatialDropout1D, Bidirectional, LSTM, GRU, Conv1D, MaxPooling1D, Flatten, Dense, Dropout, concatenate, GlobalAveragePooling1D\n",
    "from tensorflow.keras.models import Model\n",
    "from tensorflow.keras.optimizers import Adam\n",
    "from tensorflow.keras.callbacks import EarlyStopping, ReduceLROnPlateau\n",
    "from sklearn.model_selection import train_test_split\n",
    "from sklearn.metrics import accuracy_score, classification_report, confusion_matrix\n",
    "from sklearn.utils import class_weight"
   ]
  },
  {
   "cell_type": "code",
   "execution_count": 13,
   "metadata": {},
   "outputs": [],
   "source": [
    "def advanced_text_preprocessing(content):\n",
    "    from nltk.corpus import stopwords\n",
    "    from nltk.tokenize import word_tokenize\n",
    "    from nltk.stem import WordNetLemmatizer\n",
    "    \n",
    "    lemmatizer = WordNetLemmatizer()\n",
    "    # Comprehensive text cleaning\n",
    "    content = re.sub(r'http\\S+|www\\S+|https\\S+', '', content, flags=re.MULTILINE)\n",
    "    content = re.sub(r'@\\w+', '', content)\n",
    "    content = re.sub(r'\\#', '', content)\n",
    "    content = re.sub(r'[^a-zA-Z\\s]', '', content)\n",
    "    content = content.lower()\n",
    "\n",
    "    # Advanced tokenization\n",
    "    words = word_tokenize(content)\n",
    "\n",
    "    # Enhanced stopwords and lemmatization\n",
    "    stop_words = set(stopwords.words('english'))\n",
    "    custom_stopwords = {'rt', 'via', 'amp', 'u', 'ur'}\n",
    "    stop_words.update(custom_stopwords)\n",
    "    \n",
    "    processed_words = [\n",
    "        lemmatizer.lemmatize(word) for word in words \n",
    "        if word not in stop_words and len(word) > 1\n",
    "    ]\n",
    "    return ' '.join(processed_words)"
   ]
  },
  {
   "cell_type": "code",
   "execution_count": 14,
   "metadata": {},
   "outputs": [],
   "source": [
    "def create_hybrid_model(vocab_size, max_length, embedding_dim=200):\n",
    "    \"\"\"Create a hybrid CNN-LSTM-GRU model\"\"\"\n",
    "    # Input layer\n",
    "    input_layer = tf.keras.layers.Input(shape=(max_length,))\n",
    "    \n",
    "    # Embedding layer\n",
    "    embedding = Embedding(\n",
    "        vocab_size, \n",
    "        embedding_dim, \n",
    "        input_length=max_length, \n",
    "        trainable=True\n",
    "    )(input_layer)\n",
    "    \n",
    "    # Spatial dropout\n",
    "    x = SpatialDropout1D(0.3)(embedding)\n",
    "    \n",
    "    # Parallel processing branches\n",
    "    # CNN branch\n",
    "    cnn = Conv1D(128, 3, activation='relu')(x)\n",
    "    cnn = MaxPooling1D(3)(cnn)\n",
    "    cnn = Flatten()(cnn)\n",
    "    \n",
    "    # LSTM branch\n",
    "    lstm = Bidirectional(LSTM(128, return_sequences=True))(x)\n",
    "    lstm = GlobalAveragePooling1D()(lstm)\n",
    "    \n",
    "    # GRU branch\n",
    "    gru = Bidirectional(GRU(64))(x)\n",
    "    \n",
    "    # Concatenate features\n",
    "    merged = concatenate([\n",
    "        cnn, \n",
    "        lstm, \n",
    "        gru\n",
    "    ])\n",
    "    \n",
    "    # Dense layers\n",
    "    x = Dense(256, activation='relu')(merged)\n",
    "    x = Dropout(0.5)(x)\n",
    "    x = Dense(128, activation='relu')(x)\n",
    "    x = Dropout(0.4)(x)\n",
    "    \n",
    "    # Output layer\n",
    "    output = Dense(1, activation='sigmoid')(x)\n",
    "    \n",
    "    # Create model\n",
    "    model = Model(inputs=input_layer, outputs=output)\n",
    "    \n",
    "    # Compile with advanced optimizer\n",
    "    model.compile(\n",
    "        optimizer=Adam(learning_rate=0.0003),\n",
    "        loss='binary_crossentropy',\n",
    "        metrics=['accuracy']\n",
    "    )\n",
    "    \n",
    "    return model"
   ]
  },
  {
   "cell_type": "code",
   "execution_count": 15,
   "metadata": {},
   "outputs": [],
   "source": [
    "def train_advanced_model(X_train, y_train, X_test, y_test):\n",
    "    # Prepare sequences\n",
    "    max_words = 15000\n",
    "    max_length = 200\n",
    "    \n",
    "    # Tokenization\n",
    "    tokenizer = Tokenizer(num_words=max_words, oov_token=\"<OOV>\")\n",
    "    tokenizer.fit_on_texts(X_train)\n",
    "    \n",
    "    X_train_seq = tokenizer.texts_to_sequences(X_train)\n",
    "    X_test_seq = tokenizer.texts_to_sequences(X_test)\n",
    "    \n",
    "    # Pad sequences\n",
    "    X_train_pad = pad_sequences(\n",
    "        X_train_seq, \n",
    "        maxlen=max_length, \n",
    "        padding='post', \n",
    "        truncating='post'\n",
    "    )\n",
    "    X_test_pad = pad_sequences(\n",
    "        X_test_seq, \n",
    "        maxlen=max_length, \n",
    "        padding='post', \n",
    "        truncating='post'\n",
    "    )\n",
    "    \n",
    "    # Compute class weights\n",
    "    class_weights = class_weight.compute_class_weight(\n",
    "        'balanced', \n",
    "        classes=np.unique(y_train), \n",
    "        y=y_train\n",
    "    )\n",
    "    class_weight_dict = dict(enumerate(class_weights))\n",
    "    \n",
    "    # Create model\n",
    "    vocab_size = len(tokenizer.word_index) + 1\n",
    "    model = create_hybrid_model(vocab_size, max_length)\n",
    "    \n",
    "    # Callbacks\n",
    "    early_stopping = EarlyStopping(\n",
    "        monitor='val_loss', \n",
    "        patience=7, \n",
    "        restore_best_weights=True\n",
    "    )\n",
    "    \n",
    "    reduce_lr = ReduceLROnPlateau(\n",
    "        monitor='val_loss', \n",
    "        factor=0.2, \n",
    "        patience=4, \n",
    "        min_lr=0.000001\n",
    "    )\n",
    "    \n",
    "    # Train model\n",
    "    history = model.fit(\n",
    "        X_train_pad, y_train, \n",
    "        epochs=30, \n",
    "        batch_size=128, \n",
    "        validation_split=0.2,\n",
    "        class_weight=class_weight_dict,\n",
    "        callbacks=[early_stopping, reduce_lr],\n",
    "        verbose=1\n",
    "    )\n",
    "    \n",
    "    # Evaluate\n",
    "    train_pred = (model.predict(X_train_pad) > 0.5).astype(int).flatten()\n",
    "    test_pred = (model.predict(X_test_pad) > 0.5).astype(int).flatten()\n",
    "    \n",
    "    # Detailed results\n",
    "    results = {\n",
    "        'Enhanced Model': {\n",
    "            'train_accuracy': accuracy_score(y_train, train_pred),\n",
    "            'test_accuracy': accuracy_score(y_test, test_pred),\n",
    "            'classification_report': classification_report(y_test, test_pred),\n",
    "            'confusion_matrix': confusion_matrix(y_test, test_pred)\n",
    "        }\n",
    "    }\n",
    "    \n",
    "    return results, model, tokenizer"
   ]
  },
  {
   "cell_type": "code",
   "execution_count": 16,
   "metadata": {},
   "outputs": [
    {
     "data": {
      "text/plain": [
       "True"
      ]
     },
     "execution_count": 16,
     "metadata": {},
     "output_type": "execute_result"
    }
   ],
   "source": [
    "nltk.download('stopwords', quiet=True)\n",
    "nltk.download('wordnet', quiet=True)\n",
    "nltk.download('punkt', quiet=True)\n",
    "nltk.download('punkt_tab', quiet=True)"
   ]
  },
  {
   "cell_type": "code",
   "execution_count": 17,
   "metadata": {},
   "outputs": [
    {
     "name": "stdout",
     "output_type": "stream",
     "text": [
      "Loading and preprocessing data...\n"
     ]
    }
   ],
   "source": [
    "# Load data\n",
    "print(\"Loading and preprocessing data...\")\n",
    "column_names = ['target', 'ids', 'date', 'flag', 'user', 'text']\n",
    "data = pd.read_csv(\"twitter_dataset.csv\", names=column_names, encoding='ISO-8859-1')\n",
    "data['target'] = data['target'].replace(4, 1)"
   ]
  },
  {
   "cell_type": "code",
   "execution_count": 18,
   "metadata": {},
   "outputs": [],
   "source": [
    "# Preprocess text\n",
    "\n",
    "data = data.sample(n=30000, random_state=42)\n",
    "\n",
    "data['processed_text'] = data['text'].apply(advanced_text_preprocessing)"
   ]
  },
  {
   "cell_type": "code",
   "execution_count": 19,
   "metadata": {},
   "outputs": [],
   "source": [
    "# Split data\n",
    "X = data['processed_text'].values\n",
    "y = data['target'].values\n",
    "X_train, X_test, y_train, y_test = train_test_split(\n",
    "    X, y, test_size=0.2, stratify=y, random_state=42\n",
    ")"
   ]
  },
  {
   "cell_type": "code",
   "execution_count": 20,
   "metadata": {},
   "outputs": [
    {
     "name": "stdout",
     "output_type": "stream",
     "text": [
      "Training advanced hybrid model...\n"
     ]
    },
    {
     "name": "stderr",
     "output_type": "stream",
     "text": [
      "C:\\Users\\nikhi\\AppData\\Roaming\\Python\\Python312\\site-packages\\keras\\src\\layers\\core\\embedding.py:90: UserWarning: Argument `input_length` is deprecated. Just remove it.\n",
      "  warnings.warn(\n"
     ]
    },
    {
     "name": "stdout",
     "output_type": "stream",
     "text": [
      "Epoch 1/30\n",
      "\u001b[1m150/150\u001b[0m \u001b[32m━━━━━━━━━━━━━━━━━━━━\u001b[0m\u001b[37m\u001b[0m \u001b[1m154s\u001b[0m 996ms/step - accuracy: 0.5053 - loss: 0.6939 - val_accuracy: 0.6404 - val_loss: 0.6659 - learning_rate: 3.0000e-04\n",
      "Epoch 2/30\n",
      "\u001b[1m150/150\u001b[0m \u001b[32m━━━━━━━━━━━━━━━━━━━━\u001b[0m\u001b[37m\u001b[0m \u001b[1m157s\u001b[0m 1s/step - accuracy: 0.7034 - loss: 0.5815 - val_accuracy: 0.7400 - val_loss: 0.5200 - learning_rate: 3.0000e-04\n",
      "Epoch 3/30\n",
      "\u001b[1m150/150\u001b[0m \u001b[32m━━━━━━━━━━━━━━━━━━━━\u001b[0m\u001b[37m\u001b[0m \u001b[1m156s\u001b[0m 1s/step - accuracy: 0.8166 - loss: 0.4267 - val_accuracy: 0.7427 - val_loss: 0.5175 - learning_rate: 3.0000e-04\n",
      "Epoch 4/30\n",
      "\u001b[1m150/150\u001b[0m \u001b[32m━━━━━━━━━━━━━━━━━━━━\u001b[0m\u001b[37m\u001b[0m \u001b[1m154s\u001b[0m 1s/step - accuracy: 0.8531 - loss: 0.3536 - val_accuracy: 0.7423 - val_loss: 0.5603 - learning_rate: 3.0000e-04\n",
      "Epoch 5/30\n",
      "\u001b[1m150/150\u001b[0m \u001b[32m━━━━━━━━━━━━━━━━━━━━\u001b[0m\u001b[37m\u001b[0m \u001b[1m155s\u001b[0m 1s/step - accuracy: 0.8875 - loss: 0.2834 - val_accuracy: 0.7319 - val_loss: 0.6014 - learning_rate: 3.0000e-04\n",
      "Epoch 6/30\n",
      "\u001b[1m150/150\u001b[0m \u001b[32m━━━━━━━━━━━━━━━━━━━━\u001b[0m\u001b[37m\u001b[0m \u001b[1m163s\u001b[0m 1s/step - accuracy: 0.9182 - loss: 0.2179 - val_accuracy: 0.7227 - val_loss: 0.6503 - learning_rate: 3.0000e-04\n",
      "Epoch 7/30\n",
      "\u001b[1m150/150\u001b[0m \u001b[32m━━━━━━━━━━━━━━━━━━━━\u001b[0m\u001b[37m\u001b[0m \u001b[1m176s\u001b[0m 1s/step - accuracy: 0.9295 - loss: 0.1832 - val_accuracy: 0.7133 - val_loss: 0.7571 - learning_rate: 3.0000e-04\n",
      "Epoch 8/30\n",
      "\u001b[1m150/150\u001b[0m \u001b[32m━━━━━━━━━━━━━━━━━━━━\u001b[0m\u001b[37m\u001b[0m \u001b[1m185s\u001b[0m 1s/step - accuracy: 0.9524 - loss: 0.1372 - val_accuracy: 0.7127 - val_loss: 0.8419 - learning_rate: 6.0000e-05\n",
      "Epoch 9/30\n",
      "\u001b[1m150/150\u001b[0m \u001b[32m━━━━━━━━━━━━━━━━━━━━\u001b[0m\u001b[37m\u001b[0m \u001b[1m185s\u001b[0m 1s/step - accuracy: 0.9557 - loss: 0.1266 - val_accuracy: 0.7104 - val_loss: 0.8841 - learning_rate: 6.0000e-05\n",
      "Epoch 10/30\n",
      "\u001b[1m150/150\u001b[0m \u001b[32m━━━━━━━━━━━━━━━━━━━━\u001b[0m\u001b[37m\u001b[0m \u001b[1m182s\u001b[0m 1s/step - accuracy: 0.9583 - loss: 0.1155 - val_accuracy: 0.7083 - val_loss: 0.9060 - learning_rate: 6.0000e-05\n",
      "\u001b[1m750/750\u001b[0m \u001b[32m━━━━━━━━━━━━━━━━━━━━\u001b[0m\u001b[37m\u001b[0m \u001b[1m32s\u001b[0m 42ms/step\n",
      "\u001b[1m188/188\u001b[0m \u001b[32m━━━━━━━━━━━━━━━━━━━━\u001b[0m\u001b[37m\u001b[0m \u001b[1m9s\u001b[0m 46ms/step\n"
     ]
    }
   ],
   "source": [
    "# Train model\n",
    "print(\"Training advanced hybrid model...\")\n",
    "results, model, tokenizer = train_advanced_model(X_train, y_train, X_test, y_test)"
   ]
  },
  {
   "cell_type": "code",
   "execution_count": 21,
   "metadata": {},
   "outputs": [
    {
     "name": "stdout",
     "output_type": "stream",
     "text": [
      "\n",
      "Enhanced Model Results:\n",
      "Training Accuracy: 0.8415\n",
      "Test Accuracy: 0.7282\n",
      "\n",
      "Classification Report:\n",
      "              precision    recall  f1-score   support\n",
      "\n",
      "           0       0.72      0.74      0.73      3000\n",
      "           1       0.74      0.71      0.72      3000\n",
      "\n",
      "    accuracy                           0.73      6000\n",
      "   macro avg       0.73      0.73      0.73      6000\n",
      "weighted avg       0.73      0.73      0.73      6000\n",
      "\n",
      "\n",
      "Confusion Matrix:\n",
      "[[2231  769]\n",
      " [ 862 2138]]\n"
     ]
    }
   ],
   "source": [
    "# Print results\n",
    "for model_name, metrics in results.items():\n",
    "    print(f\"\\n{model_name} Results:\")\n",
    "    print(f\"Training Accuracy: {metrics['train_accuracy']:.4f}\")\n",
    "    print(f\"Test Accuracy: {metrics['test_accuracy']:.4f}\")\n",
    "    print(\"\\nClassification Report:\")\n",
    "    print(metrics['classification_report'])\n",
    "    print(\"\\nConfusion Matrix:\")\n",
    "    print(metrics['confusion_matrix'])"
   ]
  },
  {
   "cell_type": "code",
   "execution_count": 22,
   "metadata": {},
   "outputs": [],
   "source": [
    "import pickle"
   ]
  },
  {
   "cell_type": "code",
   "execution_count": 23,
   "metadata": {},
   "outputs": [],
   "source": [
    "filename = 'twitter_model_deeplearning_v3.pkl'\n",
    "pickle.dump(model_name, open(filename, 'wb'))"
   ]
  },
  {
   "cell_type": "code",
   "execution_count": null,
   "metadata": {},
   "outputs": [],
   "source": [
    "loaded_model = pickle.load(open('twitter_model_deeplearning_v3.pkl', 'rb'))\n",
    "\n"
   ]
  },
  {
   "cell_type": "code",
   "execution_count": null,
   "metadata": {},
   "outputs": [],
   "source": []
  },
  {
   "cell_type": "code",
   "execution_count": null,
   "metadata": {},
   "outputs": [
    {
     "ename": "AttributeError",
     "evalue": "'str' object has no attribute 'predict'",
     "output_type": "error",
     "traceback": [
      "\u001b[1;31m---------------------------------------------------------------------------\u001b[0m",
      "\u001b[1;31mAttributeError\u001b[0m                            Traceback (most recent call last)",
      "Cell \u001b[1;32mIn[28], line 3\u001b[0m\n\u001b[0;32m      1\u001b[0m test \u001b[38;5;241m=\u001b[39m \u001b[38;5;124m'\u001b[39m\u001b[38;5;124mthis is a test tweet\u001b[39m\u001b[38;5;124m'\u001b[39m\n\u001b[1;32m----> 3\u001b[0m prediction \u001b[38;5;241m=\u001b[39m \u001b[43mloaded_model\u001b[49m\u001b[38;5;241;43m.\u001b[39;49m\u001b[43mpredict\u001b[49m(test)\n",
      "\u001b[1;31mAttributeError\u001b[0m: 'str' object has no attribute 'predict'"
     ]
    }
   ],
   "source": [
    "test = 'this is a test tweet'\n",
    "prediction = loaded_model.predict(test)"
   ]
  },
  {
   "cell_type": "markdown",
   "metadata": {},
   "source": [
    "# Twitter Sentiment Analysis Model Evaluation Report\n",
    "\n",
    "## 1. Model Overview\n",
    "**Model Type**: Hybrid CNN-LSTM-GRU Deep Learning Model\n",
    "**Dataset**: Twitter Sentiment Dataset (30,000 samples)\n",
    "**Task**: Binary Sentiment Classification\n",
    "\n",
    "## 2. Model Accuracy\n",
    "\n",
    "| Metric | Value |\n",
    "|--------|-------|\n",
    "| Training Accuracy | 0.8415 |\n",
    "| Test Accuracy | 0.7282 |\n",
    "\n",
    "## 3. Detailed Performance Metrics\n",
    "\n",
    "### Classification Report\n",
    "\n",
    "| Class | Precision | Recall | F1-Score | Support |\n",
    "|-------|-----------|--------|----------|---------|\n",
    "| Negative (0) | 0.72 | 0.74 | 0.73 | 3,000 |\n",
    "| Positive (1) | 0.74 | 0.71 | 0.72 | 3,000 |\n",
    "| **Macro Average** | **0.73** | **0.73** | **0.73** | **6,000** |\n",
    "\n",
    "### Confusion Matrix\n",
    "\n",
    "| Actual \\ Predicted | Negative | Positive |\n",
    "|-------------------|----------|----------|\n",
    "| Negative | 2,231 | 769 |\n",
    "| Positive | 862 | 2,138 |\n",
    "\n",
    "## 4. Training Efficiency\n",
    "- **Epochs Trained**: 10\n",
    "- **Early Stopping**: Patience of 7 epochs\n",
    "- **Learning Rate Reduction**: Applied with factor 0.2\n",
    "- **Batch Size**: 128\n",
    "- **Validation Split**: 0.2\n",
    "\n",
    "## 5. Model Complexity Analysis\n",
    "\n",
    "### Architecture Components\n",
    "- **Embedding Layer**: Trainable, 200-dimensional\n",
    "- **Spatial Dropout**: 0.3\n",
    "- **Parallel Processing Branches**:\n",
    "  1. CNN Branch: 128 filters, kernel size 3\n",
    "  2. Bidirectional LSTM Branch: 128 units\n",
    "  3. Bidirectional GRU Branch: 64 units\n",
    "- **Dense Layers**: \n",
    "  - First layer: 256 neurons, ReLU activation\n",
    "  - Second layer: 128 neurons, ReLU activation\n",
    "- **Dropout Layers**: 0.5 and 0.4 regularization\n",
    "\n",
    "## 6. Key Findings\n",
    "- Model demonstrates balanced performance across positive and negative classes\n",
    "- Slight overfitting observed (training accuracy higher than test accuracy)\n",
    "- Effective use of hybrid architecture combining CNN, LSTM, and GRU\n",
    "- Strong generalization with 72.82% test accuracy\n",
    "\n",
    "## 7. Preprocessing Techniques\n",
    "- Advanced text cleaning\n",
    "- URL and special character removal\n",
    "- Lowercase conversion\n",
    "- Stopwords removal\n",
    "- Lemmatization\n",
    "- Tokenization\n",
    "\n",
    "## 8. Recommendations\n",
    "- Experiment with more data augmentation\n",
    "- Try transfer learning with pre-trained embeddings\n",
    "- Explore ensemble methods\n",
    "- Fine-tune hyperparameters\n",
    "\n",
    "## 9. Conclusion\n",
    "The hybrid deep learning model shows promising results in Twitter sentiment analysis, with robust performance and a sophisticated multi-branch architecture."
   ]
  },
  {
   "cell_type": "markdown",
   "metadata": {},
   "source": []
  }
 ],
 "metadata": {
  "kernelspec": {
   "display_name": "Python 3",
   "language": "python",
   "name": "python3"
  },
  "language_info": {
   "codemirror_mode": {
    "name": "ipython",
    "version": 3
   },
   "file_extension": ".py",
   "mimetype": "text/x-python",
   "name": "python",
   "nbconvert_exporter": "python",
   "pygments_lexer": "ipython3",
   "version": "3.12.6"
  }
 },
 "nbformat": 4,
 "nbformat_minor": 2
}
