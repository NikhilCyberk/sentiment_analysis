{
 "cells": [
  {
   "cell_type": "code",
   "execution_count": 1,
   "metadata": {},
   "outputs": [],
   "source": [
    "import pandas as pd\n",
    "import numpy as np\n",
    "import re\n",
    "import matplotlib.pyplot as plt\n",
    "import seaborn as sns"
   ]
  },
  {
   "cell_type": "code",
   "execution_count": 2,
   "metadata": {},
   "outputs": [],
   "source": [
    "# Data Preprocessing Imports\n",
    "from sklearn.model_selection import train_test_split, StratifiedKFold\n",
    "from sklearn.metrics import classification_report, confusion_matrix"
   ]
  },
  {
   "cell_type": "code",
   "execution_count": 3,
   "metadata": {},
   "outputs": [
    {
     "name": "stdout",
     "output_type": "stream",
     "text": [
      "WARNING:tensorflow:From C:\\Users\\nikhi\\AppData\\Roaming\\Python\\Python312\\site-packages\\tf_keras\\src\\losses.py:2976: The name tf.losses.sparse_softmax_cross_entropy is deprecated. Please use tf.compat.v1.losses.sparse_softmax_cross_entropy instead.\n",
      "\n"
     ]
    }
   ],
   "source": [
    "# PyTorch and Transformers\n",
    "import torch\n",
    "from torch.utils.data import Dataset\n",
    "from transformers import (\n",
    "    AutoTokenizer, \n",
    "    AutoModelForSequenceClassification, \n",
    "    TrainingArguments, \n",
    "    Trainer\n",
    ")"
   ]
  },
  {
   "cell_type": "code",
   "execution_count": 4,
   "metadata": {},
   "outputs": [],
   "source": [
    "# Text Cleaning Function\n",
    "def clean_text(text):\n",
    "    # Remove URLs\n",
    "    text = re.sub(r'http\\S+', '', str(text))\n",
    "    # Remove mentions\n",
    "    text = re.sub(r'@\\w+', '', text)\n",
    "    # Remove special characters and digits\n",
    "    text = re.sub(r'[^a-zA-Z\\s]', '', text)\n",
    "    # Lowercase\n",
    "    text = text.lower()\n",
    "    # Remove extra whitespaces\n",
    "    text = ' '.join(text.split())\n",
    "    return text"
   ]
  },
  {
   "cell_type": "code",
   "execution_count": 5,
   "metadata": {},
   "outputs": [],
   "source": [
    "# Load Dataset\n",
    "column_names = ['target', 'ids', 'date', 'flag', 'user', 'text']\n",
    "df = pd.read_csv(\"twitter_dataset.csv\", names=column_names, encoding='ISO-8859-1')"
   ]
  },
  {
   "cell_type": "code",
   "execution_count": 6,
   "metadata": {},
   "outputs": [],
   "source": [
    "# Preprocessing\n",
    "df['text'] = df['text'].apply(clean_text)\n",
    "df['target'] = df['target'].replace(4, 1)"
   ]
  },
  {
   "cell_type": "code",
   "execution_count": 7,
   "metadata": {},
   "outputs": [],
   "source": [
    "# Select relevant columns\n",
    "df = df[[\"text\", \"target\"]]"
   ]
  },
  {
   "cell_type": "code",
   "execution_count": 8,
   "metadata": {},
   "outputs": [
    {
     "name": "stdout",
     "output_type": "stream",
     "text": [
      "Total rows in dataset: 1600000\n"
     ]
    }
   ],
   "source": [
    "# Check total number of rows first\n",
    "total_rows = len(df)\n",
    "print(f\"Total rows in dataset: {total_rows}\")"
   ]
  },
  {
   "cell_type": "code",
   "execution_count": 9,
   "metadata": {},
   "outputs": [],
   "source": [
    "# Limit dataset size if too large\n",
    "max_samples = 20000  # Adjust based on your system\n",
    "df = df.sample(n=min(len(df), max_samples), random_state=42)\n"
   ]
  },
  {
   "cell_type": "code",
   "execution_count": 10,
   "metadata": {},
   "outputs": [],
   "source": [
    "# Handle Class Imbalance\n",
    "min_count = df['target'].value_counts().min()\n",
    "balanced_df = df.groupby('target').sample(n=min_count, random_state=42)"
   ]
  },
  {
   "cell_type": "code",
   "execution_count": 11,
   "metadata": {},
   "outputs": [
    {
     "data": {
      "image/png": "[encoded data removed]",
      "text/plain": [
       "<Figure size 1000x600 with 1 Axes>"
      ]
     },
     "metadata": {},
     "output_type": "display_data"
    }
   ],
   "source": [
    "# Visualization\n",
    "plt.figure(figsize=(10, 6))\n",
    "sns.countplot(x='target', data=balanced_df)\n",
    "plt.title('Balanced Class Distribution')\n",
    "plt.show()"
   ]
  },
  {
   "cell_type": "code",
   "execution_count": 12,
   "metadata": {},
   "outputs": [],
   "source": [
    "# Split and Stratify\n",
    "train_texts, test_texts, train_labels, test_labels = train_test_split(\n",
    "    df[\"text\"], df[\"target\"], \n",
    "    test_size=0.2, \n",
    "    random_state=42, \n",
    "    stratify=df[\"target\"]\n",
    ")"
   ]
  },
  {
   "cell_type": "code",
   "execution_count": 13,
   "metadata": {},
   "outputs": [],
   "source": [
    "# # Advanced Tokenization\n",
    "# tokenizer = AutoTokenizer.from_pretrained(\"cardiffnlp/twitter-roberta-base-sentiment\")\n",
    "\n",
    "\n",
    "# Tokenizer\n",
    "tokenizer = AutoTokenizer.from_pretrained(\"distilbert-base-uncased-finetuned-sst-2-english\")"
   ]
  },
  {
   "cell_type": "code",
   "execution_count": 14,
   "metadata": {},
   "outputs": [],
   "source": [
    "# # Custom Dataset Class\n",
    "# class SentimentDataset(Dataset):\n",
    "#     def __init__(self, texts, labels, tokenizer, max_len=128):\n",
    "#         self.texts = texts\n",
    "#         self.labels = labels\n",
    "#         self.tokenizer = tokenizer\n",
    "#         self.max_len = max_len\n",
    "    \n",
    "#     def __len__(self):\n",
    "#         return len(self.labels)\n",
    "    \n",
    "#     def __getitem__(self, idx):\n",
    "#         text = str(self.texts.iloc[idx])\n",
    "#         inputs = self.tokenizer.encode_plus(\n",
    "#             text,\n",
    "#             None,\n",
    "#             add_special_tokens=True,\n",
    "#             max_length=self.max_len,\n",
    "#             padding='max_length',\n",
    "#             return_token_type_ids=True,\n",
    "#             truncation=True,\n",
    "#             return_tensors='pt'\n",
    "#         )\n",
    "        \n",
    "#         return {\n",
    "#             'input_ids': inputs['input_ids'].flatten(),\n",
    "#             'attention_mask': inputs['attention_mask'].flatten(),\n",
    "#             'labels': torch.tensor(self.labels.iloc[idx], dtype=torch.long)\n",
    "#         }\n",
    "\n",
    "\n",
    "# Custom Dataset Class\n",
    "class SentimentDataset(Dataset):\n",
    "    def __init__(self, texts, labels, tokenizer, max_len=128):\n",
    "        self.encodings = tokenizer(\n",
    "            texts.tolist(), \n",
    "            truncation=True, \n",
    "            padding=True, \n",
    "            max_length=max_len\n",
    "        )\n",
    "        self.labels = labels.tolist()\n",
    "\n",
    "    def __getitem__(self, idx):\n",
    "        item = {key: torch.tensor(val[idx]) for key, val in self.encodings.items()}\n",
    "        item['labels'] = torch.tensor(self.labels[idx])\n",
    "        return item\n",
    "\n",
    "    def __len__(self):\n",
    "        return len(self.labels)"
   ]
  },
  {
   "cell_type": "code",
   "execution_count": 15,
   "metadata": {},
   "outputs": [],
   "source": [
    "# # Create Datasets\n",
    "# train_dataset = SentimentDataset(train_texts, train_labels, tokenizer)\n",
    "# test_dataset = SentimentDataset(test_texts, test_labels, tokenizer)\n",
    "\n",
    "\n",
    "# Create Datasets\n",
    "train_dataset = SentimentDataset(train_texts, train_labels, tokenizer)\n",
    "test_dataset = SentimentDataset(test_texts, test_labels, tokenizer)\n"
   ]
  },
  {
   "cell_type": "code",
   "execution_count": 16,
   "metadata": {},
   "outputs": [],
   "source": [
    "# Model Configuration\n",
    "model = AutoModelForSequenceClassification.from_pretrained(\n",
    "    \"distilbert-base-uncased-finetuned-sst-2-english\"\n",
    ")"
   ]
  },
  {
   "cell_type": "code",
   "execution_count": 17,
   "metadata": {},
   "outputs": [
    {
     "name": "stderr",
     "output_type": "stream",
     "text": [
      "C:\\Users\\nikhi\\AppData\\Roaming\\Python\\Python312\\site-packages\\transformers\\training_args.py:1568: FutureWarning: `evaluation_strategy` is deprecated and will be removed in version 4.46 of 🤗 Transformers. Use `eval_strategy` instead\n",
      "  warnings.warn(\n"
     ]
    }
   ],
   "source": [
    "# Training Arguments\n",
    "training_args = TrainingArguments(\n",
    "    output_dir=\"./sentiment_results\",\n",
    "    num_train_epochs=3,\n",
    "    per_device_train_batch_size=16,\n",
    "    per_device_eval_batch_size=16,\n",
    "    evaluation_strategy=\"epoch\",\n",
    "    save_strategy=\"epoch\",\n",
    "    learning_rate=2e-5,\n",
    "    weight_decay=0.01,\n",
    "    load_best_model_at_end=True,\n",
    "    metric_for_best_model='loss'\n",
    ")"
   ]
  },
  {
   "cell_type": "code",
   "execution_count": 18,
   "metadata": {},
   "outputs": [],
   "source": [
    "# Trainer\n",
    "trainer = Trainer(\n",
    "    model=model,\n",
    "    args=training_args,\n",
    "    train_dataset=train_dataset,\n",
    "    eval_dataset=test_dataset\n",
    ")"
   ]
  },
  {
   "cell_type": "code",
   "execution_count": 19,
   "metadata": {},
   "outputs": [
    {
     "data": {
      "application/vnd.jupyter.widget-view+json": {
       "model_id": "98475cd514994abeb020156ed5c7ccd9",
       "version_major": 2,
       "version_minor": 0
      },
      "text/plain": [
       "  0%|          | 0/3000 [00:00<?, ?it/s]"
      ]
     },
     "metadata": {},
     "output_type": "display_data"
    },
    {
     "name": "stdout",
     "output_type": "stream",
     "text": [
      "{'loss': 0.5036, 'grad_norm': 5.817134857177734, 'learning_rate': 1.6666666666666667e-05, 'epoch': 0.5}\n",
      "{'loss': 0.4422, 'grad_norm': 3.38381290435791, 'learning_rate': 1.3333333333333333e-05, 'epoch': 1.0}\n"
     ]
    },
    {
     "data": {
      "application/vnd.jupyter.widget-view+json": {
       "model_id": "2a66317b575c476bb6e76d8131b04858",
       "version_major": 2,
       "version_minor": 0
      },
      "text/plain": [
       "  0%|          | 0/250 [00:00<?, ?it/s]"
      ]
     },
     "metadata": {},
     "output_type": "display_data"
    },
    {
     "name": "stdout",
     "output_type": "stream",
     "text": [
      "{'eval_loss': 0.4364667534828186, 'eval_runtime': 8.8807, 'eval_samples_per_second': 450.414, 'eval_steps_per_second': 28.151, 'epoch': 1.0}\n",
      "{'loss': 0.3348, 'grad_norm': 6.418869972229004, 'learning_rate': 1e-05, 'epoch': 1.5}\n",
      "{'loss': 0.3296, 'grad_norm': 8.469376564025879, 'learning_rate': 6.666666666666667e-06, 'epoch': 2.0}\n"
     ]
    },
    {
     "data": {
      "application/vnd.jupyter.widget-view+json": {
       "model_id": "ca2fae995b1c4d5596c4b9552b4250a4",
       "version_major": 2,
       "version_minor": 0
      },
      "text/plain": [
       "  0%|          | 0/250 [00:00<?, ?it/s]"
      ]
     },
     "metadata": {},
     "output_type": "display_data"
    },
    {
     "name": "stdout",
     "output_type": "stream",
     "text": [
      "{'eval_loss': 0.47334638237953186, 'eval_runtime': 8.9099, 'eval_samples_per_second': 448.936, 'eval_steps_per_second': 28.059, 'epoch': 2.0}\n",
      "{'loss': 0.2413, 'grad_norm': 7.568907260894775, 'learning_rate': 3.3333333333333333e-06, 'epoch': 2.5}\n",
      "{'loss': 0.2321, 'grad_norm': 7.84221076965332, 'learning_rate': 0.0, 'epoch': 3.0}\n"
     ]
    },
    {
     "data": {
      "application/vnd.jupyter.widget-view+json": {
       "model_id": "b9f84ca7449a441ab59690fafc6930cf",
       "version_major": 2,
       "version_minor": 0
      },
      "text/plain": [
       "  0%|          | 0/250 [00:00<?, ?it/s]"
      ]
     },
     "metadata": {},
     "output_type": "display_data"
    },
    {
     "name": "stdout",
     "output_type": "stream",
     "text": [
      "{'eval_loss': 0.5634819269180298, 'eval_runtime': 8.996, 'eval_samples_per_second': 444.643, 'eval_steps_per_second': 27.79, 'epoch': 3.0}\n",
      "{'train_runtime': 458.3285, 'train_samples_per_second': 104.728, 'train_steps_per_second': 6.546, 'train_loss': 0.34727723693847656, 'epoch': 3.0}\n"
     ]
    },
    {
     "data": {
      "text/plain": [
       "TrainOutput(global_step=3000, training_loss=0.34727723693847656, metrics={'train_runtime': 458.3285, 'train_samples_per_second': 104.728, 'train_steps_per_second': 6.546, 'total_flos': 658197387072000.0, 'train_loss': 0.34727723693847656, 'epoch': 3.0})"
      ]
     },
     "execution_count": 19,
     "metadata": {},
     "output_type": "execute_result"
    }
   ],
   "source": [
    "# Train Model\n",
    "trainer.train()"
   ]
  },
  {
   "cell_type": "code",
   "execution_count": 20,
   "metadata": {},
   "outputs": [
    {
     "data": {
      "application/vnd.jupyter.widget-view+json": {
       "model_id": "d0b6679785cc4be28ec55da00f356617",
       "version_major": 2,
       "version_minor": 0
      },
      "text/plain": [
       "  0%|          | 0/250 [00:00<?, ?it/s]"
      ]
     },
     "metadata": {},
     "output_type": "display_data"
    }
   ],
   "source": [
    "# Predictions\n",
    "predictions = trainer.predict(test_dataset)\n",
    "predicted_labels = predictions.predictions.argmax(axis=1)\n"
   ]
  },
  {
   "cell_type": "code",
   "execution_count": 21,
   "metadata": {},
   "outputs": [
    {
     "name": "stdout",
     "output_type": "stream",
     "text": [
      "              precision    recall  f1-score   support\n",
      "\n",
      "    Negative       0.76      0.87      0.82      1988\n",
      "    Positive       0.86      0.73      0.79      2012\n",
      "\n",
      "    accuracy                           0.80      4000\n",
      "   macro avg       0.81      0.80      0.80      4000\n",
      "weighted avg       0.81      0.80      0.80      4000\n",
      "\n"
     ]
    }
   ],
   "source": [
    "# Evaluation\n",
    "print(classification_report(\n",
    "    test_labels, \n",
    "    predicted_labels, \n",
    "    target_names=['Negative', 'Positive']\n",
    "))"
   ]
  },
  {
   "cell_type": "code",
   "execution_count": 22,
   "metadata": {},
   "outputs": [
    {
     "data": {
      "image/png": "[encoded data removed]",
      "text/plain": [
       "<Figure size 800x600 with 2 Axes>"
      ]
     },
     "metadata": {},
     "output_type": "display_data"
    }
   ],
   "source": [
    "# Confusion Matrix\n",
    "cm = confusion_matrix(test_labels, predicted_labels)\n",
    "plt.figure(figsize=(8, 6))\n",
    "sns.heatmap(cm, annot=True, fmt='d', cmap='Blues')\n",
    "plt.title('Confusion Matrix')\n",
    "plt.ylabel('Actual')\n",
    "plt.xlabel('Predicted')\n",
    "plt.show()"
   ]
  },
  {
   "cell_type": "markdown",
   "metadata": {},
   "source": [
    "# Sentiment Analysis Project Report\n",
    "\n",
    "## Model Overview\n",
    "- **Model**: DistilBERT (Sentiment Fine-tuned)\n",
    "- **Dataset**: Twitter Sentiment Dataset\n",
    "- **Total Samples**: 4,000 (Balanced)\n",
    "\n",
    "## Performance Metrics\n",
    "\n",
    "| Metric | Negative | Positive | Overall |\n",
    "|--------|----------|----------|---------|\n",
    "| Precision | 0.76 | 0.86 | 0.81 |\n",
    "| Recall | 0.87 | 0.73 | 0.80 |\n",
    "| F1-Score | 0.82 | 0.79 | 0.80 |\n",
    "| Accuracy | - | - | 0.80 |\n",
    "\n",
    "## Training Efficiency\n",
    "- **Total Training Runtime**: 458.33 seconds\n",
    "- **Samples per Second**: 104.73\n",
    "- **Steps per Second**: 6.55\n",
    "- **Epochs**: 3\n",
    "- **Initial Learning Rate**: 2e-5\n",
    "- **Weight Decay**: 0.01\n",
    "\n",
    "## Key Findings\n",
    "1. Model shows balanced performance across positive and negative sentiments\n",
    "2. Slightly better precision for positive sentiment\n",
    "3. Marginally higher recall for negative sentiment\n",
    "4. Consistent overall accuracy of 80%\n",
    "\n",
    "## Model Complexity\n",
    "- **Base Model**: DistilBERT (Lightweight BERT variant)\n",
    "- **Tokenizer**: DistilBERT Tokenizer\n",
    "- **Input Max Length**: 128 tokens\n",
    "- **Batch Size**: 16 (Train & Evaluation)\n",
    "\n",
    "## Preprocessing Techniques\n",
    "- Text cleaning (URL removal, mention removal)\n",
    "- Lowercasing\n",
    "- Special character removal\n",
    "- Class balancing\n",
    "- Stratified train-test split\n",
    "\n",
    "## Recommendations\n",
    "1. Experiment with learning rate\n",
    "2. Try data augmentation\n",
    "3. Explore ensemble methods\n",
    "4. Consider more advanced pre-trained models\n",
    "\n",
    "## Limitations\n",
    "- Relatively small dataset\n",
    "- Potential domain-specific biases\n",
    "- Limited to binary sentiment classification\n",
    "\n",
    "## Conclusion\n",
    "The DistilBERT model demonstrates robust performance in sentiment analysis with 80% accuracy, offering a lightweight yet effective solution for binary sentiment classification."
   ]
  },
  {
   "cell_type": "markdown",
   "metadata": {},
   "source": []
  }
 ],
 "metadata": {
  "kernelspec": {
   "display_name": "Python 3",
   "language": "python",
   "name": "python3"
  },
  "language_info": {
   "codemirror_mode": {
    "name": "ipython",
    "version": 3
   },
   "file_extension": ".py",
   "mimetype": "text/x-python",
   "name": "python",
   "nbconvert_exporter": "python",
   "pygments_lexer": "ipython3",
   "version": "3.12.6"
  }
 },
 "nbformat": 4,
 "nbformat_minor": 2
}
