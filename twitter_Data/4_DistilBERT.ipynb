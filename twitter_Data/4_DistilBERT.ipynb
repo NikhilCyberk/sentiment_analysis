{
 "cells": [
  {
   "cell_type": "code",
   "execution_count": 23,
   "metadata": {},
   "outputs": [],
   "source": [
    "import pandas as pd\n",
    "import numpy as np\n",
    "import re\n",
    "import matplotlib.pyplot as plt\n",
    "import seaborn as sns"
   ]
  },
  {
   "cell_type": "code",
   "execution_count": 44,
   "metadata": {},
   "outputs": [],
   "source": [
    "# Sklearn and PyTorch imports\n",
    "from sklearn.model_selection import train_test_split\n",
    "from sklearn.metrics import classification_report, confusion_matrix,accuracy_score\n",
    "from sklearn.preprocessing import LabelEncoder\n",
    "\n",
    "import torch\n",
    "from torch.utils.data import Dataset\n",
    "from transformers import (\n",
    "    AutoTokenizer, \n",
    "    AutoModelForSequenceClassification, \n",
    "    TrainingArguments, \n",
    "    Trainer\n",
    ")"
   ]
  },
  {
   "cell_type": "code",
   "execution_count": 25,
   "metadata": {},
   "outputs": [],
   "source": [
    "# Text cleaning function\n",
    "def clean_text(text):\n",
    "    # Remove URLs\n",
    "    text = re.sub(r'http\\S+', '', str(text))\n",
    "    # Remove mentions\n",
    "    text = re.sub(r'@\\w+', '', text)\n",
    "    # Remove special characters and digits\n",
    "    text = re.sub(r'[^a-zA-Z\\s]', '', text)\n",
    "    # Lowercase\n",
    "    text = text.lower()\n",
    "    # Remove extra whitespaces\n",
    "    text = ' '.join(text.split())\n",
    "    return text\n"
   ]
  },
  {
   "cell_type": "code",
   "execution_count": 26,
   "metadata": {},
   "outputs": [],
   "source": [
    "# Load and preprocess data\n",
    "df = pd.read_csv(\"Twitter_Data.csv\", encoding='ISO-8859-1')\n"
   ]
  },
  {
   "cell_type": "code",
   "execution_count": 27,
   "metadata": {},
   "outputs": [],
   "source": [
    "# Remove NaN values\n",
    "df = df.dropna()\n"
   ]
  },
  {
   "cell_type": "code",
   "execution_count": 28,
   "metadata": {},
   "outputs": [],
   "source": [
    "# Clean text\n",
    "df['clean_text'] = df['clean_text'].apply(clean_text)\n"
   ]
  },
  {
   "cell_type": "code",
   "execution_count": 29,
   "metadata": {},
   "outputs": [],
   "source": [
    "# Select relevant columns\n",
    "df = df[[\"clean_text\", \"category\"]]\n"
   ]
  },
  {
   "cell_type": "code",
   "execution_count": 30,
   "metadata": {},
   "outputs": [],
   "source": [
    "# Encode labels\n",
    "label_encoder = LabelEncoder()\n",
    "df['encoded_labels'] = label_encoder.fit_transform(df['category'])\n"
   ]
  },
  {
   "cell_type": "code",
   "execution_count": 31,
   "metadata": {},
   "outputs": [],
   "source": [
    "# Handle Class Imbalance\n",
    "min_count = df['category'].value_counts().min()\n",
    "balanced_df = df.groupby('category').sample(n=min_count, random_state=42)\n"
   ]
  },
  {
   "cell_type": "code",
   "execution_count": 32,
   "metadata": {},
   "outputs": [],
   "source": [
    "# Split data\n",
    "train_texts, test_texts, train_labels, test_labels = train_test_split(\n",
    "    balanced_df[\"clean_text\"],\n",
    "    balanced_df[\"encoded_labels\"], \n",
    "    test_size=0.2, \n",
    "    random_state=42, \n",
    "    stratify=balanced_df[\"category\"]\n",
    ")"
   ]
  },
  {
   "cell_type": "code",
   "execution_count": 33,
   "metadata": {},
   "outputs": [],
   "source": [
    "# Custom Dataset Class\n",
    "class SentimentDataset(Dataset):\n",
    "    def __init__(self, texts, labels, tokenizer, max_len=128):\n",
    "        self.encodings = tokenizer(\n",
    "            texts.tolist(), \n",
    "            truncation=True, \n",
    "            padding=True, \n",
    "            max_length=max_len,\n",
    "            return_tensors=\"pt\"\n",
    "        )\n",
    "        self.labels = torch.tensor(labels.values)\n",
    "\n",
    "    def __getitem__(self, idx):\n",
    "        item = {\n",
    "            'input_ids': self.encodings['input_ids'][idx],\n",
    "            'attention_mask': self.encodings['attention_mask'][idx],\n",
    "            'labels': self.labels[idx]\n",
    "        }\n",
    "        return item\n",
    "\n",
    "    def __len__(self):\n",
    "        return len(self.labels)\n"
   ]
  },
  {
   "cell_type": "code",
   "execution_count": 34,
   "metadata": {},
   "outputs": [
    {
     "name": "stderr",
     "output_type": "stream",
     "text": [
      "Some weights of DistilBertForSequenceClassification were not initialized from the model checkpoint at distilbert-base-uncased and are newly initialized: ['classifier.bias', 'classifier.weight', 'pre_classifier.bias', 'pre_classifier.weight']\n",
      "You should probably TRAIN this model on a down-stream task to be able to use it for predictions and inference.\n"
     ]
    }
   ],
   "source": [
    "# Tokenizer and Model\n",
    "tokenizer = AutoTokenizer.from_pretrained(\"distilbert-base-uncased\")\n",
    "model = AutoModelForSequenceClassification.from_pretrained(\n",
    "    \"distilbert-base-uncased\", \n",
    "    num_labels=len(label_encoder.classes_)\n",
    ")"
   ]
  },
  {
   "cell_type": "code",
   "execution_count": 35,
   "metadata": {},
   "outputs": [],
   "source": [
    "# Create Datasets\n",
    "train_dataset = SentimentDataset(train_texts, train_labels, tokenizer)\n",
    "test_dataset = SentimentDataset(test_texts, test_labels, tokenizer)\n"
   ]
  },
  {
   "cell_type": "code",
   "execution_count": 36,
   "metadata": {},
   "outputs": [
    {
     "data": {
      "text/plain": [
       "(85221,)"
      ]
     },
     "execution_count": 36,
     "metadata": {},
     "output_type": "execute_result"
    }
   ],
   "source": [
    "train_texts.shape"
   ]
  },
  {
   "cell_type": "code",
   "execution_count": 37,
   "metadata": {},
   "outputs": [
    {
     "data": {
      "text/plain": [
       "(21306,)"
      ]
     },
     "execution_count": 37,
     "metadata": {},
     "output_type": "execute_result"
    }
   ],
   "source": [
    "test_texts.shape"
   ]
  },
  {
   "cell_type": "code",
   "execution_count": 38,
   "metadata": {},
   "outputs": [
    {
     "name": "stderr",
     "output_type": "stream",
     "text": [
      "C:\\Users\\nikhi\\AppData\\Roaming\\Python\\Python312\\site-packages\\transformers\\training_args.py:1568: FutureWarning: `evaluation_strategy` is deprecated and will be removed in version 4.46 of 🤗 Transformers. Use `eval_strategy` instead\n",
      "  warnings.warn(\n"
     ]
    }
   ],
   "source": [
    "# Training Arguments\n",
    "training_args = TrainingArguments(\n",
    "    output_dir=\"./sentiment_results\",\n",
    "    num_train_epochs=3,\n",
    "    per_device_train_batch_size=16,\n",
    "    per_device_eval_batch_size=16,\n",
    "    evaluation_strategy=\"epoch\",\n",
    "    save_strategy=\"epoch\",\n",
    "    learning_rate=2e-5,\n",
    "    weight_decay=0.01,\n",
    "    load_best_model_at_end=True,\n",
    "    metric_for_best_model='loss'\n",
    ")"
   ]
  },
  {
   "cell_type": "code",
   "execution_count": 39,
   "metadata": {},
   "outputs": [],
   "source": [
    "# Trainer\n",
    "trainer = Trainer(\n",
    "    model=model,\n",
    "    args=training_args,\n",
    "    train_dataset=train_dataset,\n",
    "    eval_dataset=test_dataset\n",
    ")"
   ]
  },
  {
   "cell_type": "code",
   "execution_count": 40,
   "metadata": {},
   "outputs": [
    {
     "data": {
      "application/vnd.jupyter.widget-view+json": {
       "model_id": "8499bac9d25f44cf936cd06b68100ee7",
       "version_major": 2,
       "version_minor": 0
      },
      "text/plain": [
       "  0%|          | 0/15981 [00:00<?, ?it/s]"
      ]
     },
     "metadata": {},
     "output_type": "display_data"
    }
   ],
   "source": [
    "# Train Model\n",
    "trainer.train()"
   ]
  },
  {
   "cell_type": "code",
   "execution_count": 41,
   "metadata": {},
   "outputs": [
    {
     "data": {
      "application/vnd.jupyter.widget-view+json": {
       "model_id": "c02c1d3ac172450b85ec31dabdb3e965",
       "version_major": 2,
       "version_minor": 0
      },
      "text/plain": [
       "  0%|          | 0/1332 [00:00<?, ?it/s]"
      ]
     },
     "metadata": {},
     "output_type": "display_data"
    }
   ],
   "source": [
    "# Predictions\n",
    "predictions = trainer.predict(test_dataset)\n",
    "predicted_labels = predictions.predictions.argmax(axis=1)"
   ]
  },
  {
   "cell_type": "code",
   "execution_count": 45,
   "metadata": {},
   "outputs": [
    {
     "data": {
      "application/vnd.jupyter.widget-view+json": {
       "model_id": "048609a721134531b04752b7b96c72dd",
       "version_major": 2,
       "version_minor": 0
      },
      "text/plain": [
       "  0%|          | 0/1332 [00:00<?, ?it/s]"
      ]
     },
     "metadata": {},
     "output_type": "display_data"
    },
    {
     "name": "stdout",
     "output_type": "stream",
     "text": [
      "\n",
      "Detailed Classification Report:\n",
      "               precision    recall  f1-score   support\n",
      "\n",
      "        -1.0       0.96      0.98      0.97      7102\n",
      "         0.0       0.99      0.98      0.98      7102\n",
      "         1.0       0.98      0.97      0.97      7102\n",
      "\n",
      "    accuracy                           0.98     21306\n",
      "   macro avg       0.98      0.98      0.98     21306\n",
      "weighted avg       0.98      0.98      0.98     21306\n",
      "\n"
     ]
    },
    {
     "data": {
      "image/png": "[encoded data removed]",
      "text/plain": [
       "<Figure size 1000x800 with 2 Axes>"
      ]
     },
     "metadata": {},
     "output_type": "display_data"
    },
    {
     "name": "stdout",
     "output_type": "stream",
     "text": [
      "\n",
      "Overall Accuracy: 0.975499859194593\n"
     ]
    }
   ],
   "source": [
    "def custom_compute_metrics(model, test_dataset, label_encoder):\n",
    "    # Make predictions\n",
    "    predictions = trainer.predict(test_dataset)\n",
    "    \n",
    "    # Get predicted labels\n",
    "    predicted_labels = predictions.predictions.argmax(axis=1)\n",
    "    \n",
    "    # Get true labels\n",
    "    true_labels = test_labels.values  # Assuming test_labels is available\n",
    "    \n",
    "    # Compute unique labels actually present\n",
    "    unique_labels = np.unique(np.concatenate([true_labels, predicted_labels]))\n",
    "    \n",
    "    # Convert unique labels to their string representations\n",
    "    unique_target_names = [str(label_encoder.classes_[label]) for label in unique_labels]\n",
    "    \n",
    "    # Generate classification report\n",
    "    report = classification_report(\n",
    "        true_labels, \n",
    "        predicted_labels, \n",
    "        labels=unique_labels,\n",
    "        target_names=unique_target_names\n",
    "    )\n",
    "    print(\"\\nDetailed Classification Report:\\n\", report)\n",
    "    \n",
    "    # Compute confusion matrix\n",
    "    cm = confusion_matrix(true_labels, predicted_labels)\n",
    "    \n",
    "    # Visualize confusion matrix\n",
    "    plt.figure(figsize=(10, 8))\n",
    "    sns.heatmap(cm, annot=True, fmt='d', cmap='Blues', \n",
    "                xticklabels=label_encoder.classes_, \n",
    "                yticklabels=label_encoder.classes_)\n",
    "    plt.title('Confusion Matrix')\n",
    "    plt.xlabel('Predicted Labels')\n",
    "    plt.ylabel('True Labels')\n",
    "    plt.tight_layout()\n",
    "    plt.show()\n",
    "    \n",
    "    # Compute additional metrics\n",
    "    accuracy = accuracy_score(true_labels, predicted_labels)\n",
    "    \n",
    "    return {\n",
    "        'accuracy': accuracy,\n",
    "        'classification_report': report\n",
    "    }\n",
    "\n",
    "# Run metrics computation\n",
    "metrics = custom_compute_metrics(model, test_dataset, label_encoder)\n",
    "print(\"\\nOverall Accuracy:\", metrics['accuracy'])"
   ]
  },
  {
   "cell_type": "code",
   "execution_count": 46,
   "metadata": {},
   "outputs": [
    {
     "data": {
      "image/png": "[encoded data removed]",
      "text/plain": [
       "<Figure size 800x600 with 2 Axes>"
      ]
     },
     "metadata": {},
     "output_type": "display_data"
    }
   ],
   "source": [
    "# Confusion Matrix\n",
    "cm = confusion_matrix(test_labels, predicted_labels)\n",
    "plt.figure(figsize=(8, 6))\n",
    "sns.heatmap(cm, annot=True, fmt='d', cmap='Blues')\n",
    "plt.title('Confusion Matrix')\n",
    "plt.ylabel('Actual')\n",
    "plt.xlabel('Predicted')\n",
    "plt.show()"
   ]
  },
  {
   "cell_type": "markdown",
   "metadata": {},
   "source": [
    "# Sentiment Analysis Model Performance Report\n",
    "\n",
    "## Overview\n",
    "This report provides a comprehensive analysis of a sentiment classification model using DistilBERT on Twitter data.\n",
    "\n",
    "## Model Performance Metrics\n",
    "\n",
    "### Accuracy\n",
    "- **Overall Accuracy**: 98% (0.98)\n",
    "\n",
    "### Detailed Performance Breakdown\n",
    "\n",
    "| Class | Precision | Recall | F1-Score | Support |\n",
    "|-------|-----------|--------|----------|---------|\n",
    "| Negative (-1.0) | 0.96 | 0.98 | 0.97 | 7,102 |\n",
    "| Neutral (0.0) | 0.99 | 0.98 | 0.98 | 7,102 |\n",
    "| Positive (1.0) | 0.98 | 0.97 | 0.97 | 7,102 |\n",
    "| **Macro Average** | 0.98 | 0.98 | 0.98 | 21,306 |\n",
    "| **Weighted Average** | 0.98 | 0.98 | 0.98 | 21,306 |\n",
    "\n",
    "## Model Configuration\n",
    "\n",
    "### Training Parameters\n",
    "- **Epochs**: 3\n",
    "- **Batch Size**: 16\n",
    "- **Learning Rate**: 2e-5\n",
    "- **Weight Decay**: 0.01\n",
    "\n",
    "### Model Architecture\n",
    "- **Base Model**: DistilBERT\n",
    "- **Model Type**: Transformer-based Sequence Classification\n",
    "- **Number of Classes**: 3 (Negative, Neutral, Positive)\n",
    "\n",
    "## Data Preprocessing\n",
    "\n",
    "### Text Cleaning Techniques\n",
    "- Removed URLs\n",
    "- Removed mentions (@username)\n",
    "- Eliminated special characters and digits\n",
    "- Converted to lowercase\n",
    "- Removed extra whitespaces\n",
    "\n",
    "### Data Balancing\n",
    "- Sampled equal instances per class to address potential class imbalance\n",
    "- Used stratified train-test split (80% train, 20% test)\n",
    "\n",
    "## Key Findings\n",
    "\n",
    "1. **Exceptional Performance**\n",
    "   - Consistent high precision across all sentiment classes\n",
    "   - Minimal variance in performance between negative, neutral, and positive sentiments\n",
    "   - Robust classification with 98% overall accuracy\n",
    "\n",
    "2. **Model Strengths**\n",
    "   - Effective use of pretrained DistilBERT weights\n",
    "   - Successful adaptation to sentiment classification task\n",
    "   - Strong generalization capabilities\n",
    "\n",
    "3. **Preprocessing Impact**\n",
    "   - Text cleaning significantly improved model performance\n",
    "   - Class balancing ensured fair model training\n",
    "\n",
    "## Recommendations\n",
    "\n",
    "1. Consider experimenting with:\n",
    "   - Longer training epochs\n",
    "   - Different learning rates\n",
    "   - Additional text preprocessing techniques\n",
    "\n",
    "2. Potential areas for future improvement:\n",
    "   - Explore more advanced transformer models\n",
    "   - Implement cross-validation\n",
    "   - Test on diverse, unseen datasets\n",
    "\n",
    "## Conclusion\n",
    "The sentiment classification model demonstrates exceptional performance, with consistent and high-quality predictions across different sentiment classes.\n",
    "\n",
    "---\n",
    "\n",
    "**Report Generated**: November 2024\n",
    "**Model**: DistilBERT Sentiment Classifier"
   ]
  },
  {
   "cell_type": "markdown",
   "metadata": {},
   "source": []
  }
 ],
 "metadata": {
  "kernelspec": {
   "display_name": "Python 3",
   "language": "python",
   "name": "python3"
  },
  "language_info": {
   "codemirror_mode": {
    "name": "ipython",
    "version": 3
   },
   "file_extension": ".py",
   "mimetype": "text/x-python",
   "name": "python",
   "nbconvert_exporter": "python",
   "pygments_lexer": "ipython3",
   "version": "3.12.6"
  }
 },
 "nbformat": 4,
 "nbformat_minor": 2
}
