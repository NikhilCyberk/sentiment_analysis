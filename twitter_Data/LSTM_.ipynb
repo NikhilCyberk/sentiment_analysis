{
 "cells": [
  {
   "cell_type": "code",
   "execution_count": 23,
   "metadata": {},
   "outputs": [],
   "source": [
    "# mathematical operations-linear Algebra\n",
    "import numpy as np \n",
    "\n",
    "# dataframe\n",
    "import pandas as pd \n",
    "\n",
    "# Scikit-learn\n",
    "from sklearn.model_selection import train_test_split\n",
    "from sklearn.preprocessing import LabelEncoder\n",
    "from sklearn.metrics import confusion_matrix, classification_report, accuracy_score\n",
    "from sklearn.manifold import TSNE\n",
    "from sklearn.feature_extraction.text import CountVectorizer, TfidfVectorizer\n",
    "from sklearn.decomposition import LatentDirichletAllocation, NMF\n",
    "from sklearn.metrics import f1_score, accuracy_score"
   ]
  },
  {
   "cell_type": "code",
   "execution_count": 24,
   "metadata": {},
   "outputs": [],
   "source": [
    "# PyTorch\n",
    "import torch\n",
    "import torch.nn as nn\n",
    "import torch.optim as optim\n",
    "from torch.utils.data import Dataset, DataLoader\n",
    "from torch.nn.utils.rnn import pad_sequence\n",
    "import torch.nn.functional as F"
   ]
  },
  {
   "cell_type": "code",
   "execution_count": 25,
   "metadata": {},
   "outputs": [],
   "source": [
    "def setup_cuda():\n",
    "    \"\"\"Setup CUDA device with proper error handling\"\"\"\n",
    "    if torch.cuda.is_available():\n",
    "        # Set CUDA device\n",
    "        try:\n",
    "            torch.cuda.init()\n",
    "            # Clear GPU cache\n",
    "            torch.cuda.empty_cache()\n",
    "            device = torch.device('cuda')\n",
    "            # Set device index to 0 if multiple GPUs\n",
    "            torch.cuda.set_device(0)\n",
    "            # Enable debugging for CUDA\n",
    "            torch.cuda.set_sync_debug_mode(True)\n",
    "            print(f\"Using CUDA device: {torch.cuda.get_device_name(0)}\")\n",
    "        except RuntimeError as e:\n",
    "            print(f\"CUDA initialization failed: {str(e)}\")\n",
    "            print(\"Falling back to CPU\")\n",
    "            device = torch.device('cpu')\n",
    "    else:\n",
    "        device = torch.device('cpu')\n",
    "        print(\"CUDA not available, using CPU\")\n",
    "    return device"
   ]
  },
  {
   "cell_type": "code",
   "execution_count": 26,
   "metadata": {},
   "outputs": [
    {
     "name": "stdout",
     "output_type": "stream",
     "text": [
      "Using device: cuda\n"
     ]
    }
   ],
   "source": [
    "# # Check GPU availability\n",
    "device = torch.device('cuda' if torch.cuda.is_available() else 'cpu')\n",
    "print(f'Using device: {device}')"
   ]
  },
  {
   "cell_type": "code",
   "execution_count": 27,
   "metadata": {},
   "outputs": [],
   "source": [
    "# ignore warnings\n",
    "import warnings\n",
    "warnings.filterwarnings(action='ignore')\n"
   ]
  },
  {
   "cell_type": "code",
   "execution_count": 28,
   "metadata": {},
   "outputs": [],
   "source": [
    "# Matplotlib\n",
    "%matplotlib inline\n",
    "import matplotlib.pyplot as plt\n",
    "from matplotlib.ticker import MaxNLocator\n",
    "import matplotlib.gridspec as gridspec\n",
    "import matplotlib.patches as mpatches\n",
    "import seaborn as sns"
   ]
  },
  {
   "cell_type": "code",
   "execution_count": 29,
   "metadata": {},
   "outputs": [
    {
     "name": "stderr",
     "output_type": "stream",
     "text": [
      "[nltk_data] Downloading package stopwords to\n",
      "[nltk_data]     C:\\Users\\nikhi\\AppData\\Roaming\\nltk_data...\n",
      "[nltk_data]   Package stopwords is already up-to-date!\n",
      "[nltk_data] Downloading package punkt to\n",
      "[nltk_data]     C:\\Users\\nikhi\\AppData\\Roaming\\nltk_data...\n",
      "[nltk_data]   Package punkt is already up-to-date!\n",
      "[nltk_data] Downloading package averaged_perceptron_tagger to\n",
      "[nltk_data]     C:\\Users\\nikhi\\AppData\\Roaming\\nltk_data...\n",
      "[nltk_data]   Package averaged_perceptron_tagger is already up-to-\n",
      "[nltk_data]       date!\n",
      "[nltk_data] Downloading package wordnet to\n",
      "[nltk_data]     C:\\Users\\nikhi\\AppData\\Roaming\\nltk_data...\n",
      "[nltk_data]   Package wordnet is already up-to-date!\n",
      "[nltk_data] Downloading package omw-1.4 to\n",
      "[nltk_data]     C:\\Users\\nikhi\\AppData\\Roaming\\nltk_data...\n",
      "[nltk_data]   Package omw-1.4 is already up-to-date!\n"
     ]
    },
    {
     "data": {
      "text/plain": [
       "True"
      ]
     },
     "execution_count": 29,
     "metadata": {},
     "output_type": "execute_result"
    }
   ],
   "source": [
    "# NLTK\n",
    "from nltk.corpus import stopwords\n",
    "from nltk.stem import SnowballStemmer\n",
    "import nltk\n",
    "nltk.download('stopwords')\n",
    "nltk.download('punkt')\n",
    "nltk.download('averaged_perceptron_tagger')\n",
    "nltk.download('wordnet')\n",
    "from nltk.corpus import stopwords, wordnet\n",
    "from nltk.stem import WordNetLemmatizer\n",
    "from nltk.tokenize import word_tokenize\n",
    "from nltk.probability import FreqDist\n",
    "nltk.download('omw-1.4')"
   ]
  },
  {
   "cell_type": "code",
   "execution_count": 30,
   "metadata": {},
   "outputs": [],
   "source": [
    "# Word2vec\n",
    "import gensim\n",
    "from gensim.test.utils import common_texts\n",
    "from gensim.models import Word2Vec"
   ]
  },
  {
   "cell_type": "code",
   "execution_count": 31,
   "metadata": {},
   "outputs": [],
   "source": [
    "# Utility\n",
    "import string\n",
    "import re\n",
    "import os\n",
    "from collections import Counter\n",
    "import logging\n",
    "import time\n",
    "import pickle\n",
    "import itertools\n",
    "import random\n",
    "import datetime"
   ]
  },
  {
   "cell_type": "code",
   "execution_count": 32,
   "metadata": {},
   "outputs": [],
   "source": [
    "# WordCloud\n",
    "from PIL import Image\n",
    "from wordcloud import WordCloud, STOPWORDS, ImageColorGenerator\n",
    "from collections import Counter, defaultdict"
   ]
  },
  {
   "cell_type": "code",
   "execution_count": 33,
   "metadata": {},
   "outputs": [],
   "source": [
    "class TweetDataset(Dataset):\n",
    "    def __init__(self, texts, labels, vocab, max_len):\n",
    "        self.texts = texts\n",
    "        self.labels = labels\n",
    "        self.vocab = vocab\n",
    "        self.max_len = max_len\n",
    "        \n",
    "    def __len__(self):\n",
    "        return len(self.texts)\n",
    "    \n",
    "    def __getitem__(self, idx):\n",
    "        text = self.texts[idx]\n",
    "        label = self.labels[idx]\n",
    "        \n",
    "        # Convert text to tensor with safety checks\n",
    "        tokens = []\n",
    "        for word in text:\n",
    "            token_id = self.vocab.get(word, self.vocab['<UNK>'])\n",
    "            # Ensure token_id is within valid range\n",
    "            if token_id >= len(self.vocab):\n",
    "                token_id = self.vocab['<UNK>']\n",
    "            tokens.append(token_id)\n",
    "        \n",
    "        # Truncate or pad sequence\n",
    "        if len(tokens) > self.max_len:\n",
    "            tokens = tokens[:self.max_len]\n",
    "        else:\n",
    "            tokens = tokens + [self.vocab['<PAD>']] * (self.max_len - len(tokens))\n",
    "        \n",
    "        return (\n",
    "            torch.tensor(tokens, dtype=torch.long),\n",
    "            torch.tensor(label, dtype=torch.long)\n",
    "        )"
   ]
  },
  {
   "cell_type": "code",
   "execution_count": 34,
   "metadata": {},
   "outputs": [],
   "source": [
    "# LSTM Model\n",
    "class LSTMClassifier(nn.Module):\n",
    "    def __init__(self, vocab_size, embedding_dim, hidden_dim, output_dim, pad_idx):\n",
    "        super().__init__()\n",
    "        self.embedding = nn.Embedding(vocab_size, embedding_dim, padding_idx=pad_idx)\n",
    "        self.lstm = nn.LSTM(embedding_dim, hidden_dim, batch_first=True)\n",
    "        self.fc = nn.Linear(hidden_dim, output_dim)\n",
    "        self.dropout = nn.Dropout(0.2)\n",
    "        \n",
    "    def forward(self, text):\n",
    "        embedded = self.dropout(self.embedding(text))\n",
    "        output, (hidden, cell) = self.lstm(embedded)\n",
    "        hidden = self.dropout(hidden[-1])\n",
    "        return self.fc(hidden)"
   ]
  },
  {
   "cell_type": "code",
   "execution_count": 35,
   "metadata": {},
   "outputs": [],
   "source": [
    "# Data loading and preprocessing\n",
    "import os\n",
    "for dirname, _, filenames in os.walk('/kaggle/input'):\n",
    "    for filename in filenames:\n",
    "        print(os.path.join(dirname, filename))\n",
    "\t\t\n",
    "df = pd.read_csv(\"Twitter_Data.csv\")"
   ]
  },
  {
   "cell_type": "code",
   "execution_count": 36,
   "metadata": {},
   "outputs": [],
   "source": [
    "# Fill missing values and drop duplicates\n",
    "df['clean_text'].fillna('', inplace=True)\n",
    "df.dropna(subset=['category'], inplace=True)\n",
    "df.drop_duplicates(inplace=True)"
   ]
  },
  {
   "cell_type": "code",
   "execution_count": 37,
   "metadata": {},
   "outputs": [],
   "source": [
    "# Tokenization and vocabulary creation\n",
    "tokenized_texts = [word_tokenize(text.lower()) for text in df['clean_text']]"
   ]
  },
  {
   "cell_type": "code",
   "execution_count": 38,
   "metadata": {},
   "outputs": [],
   "source": [
    "# Create vocabulary\n",
    "word_freq = Counter([word for text in tokenized_texts for word in text])\n",
    "vocab = {'<PAD>': 0, '<UNK>': 1}\n",
    "vocab.update({word: idx + 2 for idx, (word, freq) in enumerate(word_freq.items()) if freq > 1})"
   ]
  },
  {
   "cell_type": "code",
   "execution_count": 39,
   "metadata": {},
   "outputs": [],
   "source": [
    "# Encode categories\n",
    "encoder = LabelEncoder()\n",
    "labels = encoder.fit_transform(df['category'])"
   ]
  },
  {
   "cell_type": "code",
   "execution_count": 40,
   "metadata": {},
   "outputs": [],
   "source": [
    "# Calculate max sequence length\n",
    "max_seq_length = min(max(len(text) for text in tokenized_texts), 100)  # Cap at 100 tokens"
   ]
  },
  {
   "cell_type": "code",
   "execution_count": 41,
   "metadata": {},
   "outputs": [],
   "source": [
    "# Create train/test split\n",
    "X_train, X_test, y_train, y_test = train_test_split(tokenized_texts, labels, test_size=0.2, random_state=42)"
   ]
  },
  {
   "cell_type": "code",
   "execution_count": 42,
   "metadata": {},
   "outputs": [],
   "source": [
    "# Create datasets\n",
    "train_dataset = TweetDataset(X_train, y_train, vocab, max_seq_length)\n",
    "test_dataset = TweetDataset(X_test, y_test, vocab, max_seq_length)"
   ]
  },
  {
   "cell_type": "code",
   "execution_count": 43,
   "metadata": {},
   "outputs": [],
   "source": [
    "# Create dataloaders\n",
    "train_loader = DataLoader(train_dataset, batch_size=256, shuffle=True)\n",
    "test_loader = DataLoader(test_dataset, batch_size=256)"
   ]
  },
  {
   "cell_type": "code",
   "execution_count": 44,
   "metadata": {},
   "outputs": [],
   "source": [
    "# Initialize model\n",
    "EMBEDDING_DIM = 100\n",
    "HIDDEN_DIM = 128\n",
    "OUTPUT_DIM = len(encoder.classes_)\n",
    "model = LSTMClassifier(len(vocab), EMBEDDING_DIM, HIDDEN_DIM, OUTPUT_DIM, vocab['<PAD>'])\n",
    "model = model.to(device)"
   ]
  },
  {
   "cell_type": "code",
   "execution_count": 45,
   "metadata": {},
   "outputs": [],
   "source": [
    "# Initialize optimizer and loss function\n",
    "optimizer = optim.Adam(model.parameters(), lr=0.001)\n",
    "criterion = nn.CrossEntropyLoss()"
   ]
  },
  {
   "cell_type": "code",
   "execution_count": 46,
   "metadata": {},
   "outputs": [],
   "source": [
    "# # Training setup with error handling\n",
    "# def setup_training(df, test_size=0.2, batch_size=32, embedding_dim=100, hidden_dim=128):\n",
    "#     # Data preprocessing\n",
    "#     df['clean_text'].fillna('', inplace=True)\n",
    "#     df.dropna(subset=['category'], inplace=True)\n",
    "#     df.drop_duplicates(inplace=True)\n",
    "    \n",
    "#     # Tokenization\n",
    "#     tokenized_texts = [word_tokenize(str(text).lower()) for text in df['clean_text']]\n",
    "    \n",
    "#     # Create vocabulary with frequency threshold\n",
    "#     word_freq = Counter([word for text in tokenized_texts for word in text])\n",
    "#     min_freq = 2  # Minimum frequency threshold\n",
    "#     vocab = {'<PAD>': 0, '<UNK>': 1}\n",
    "#     vocab.update({word: idx + 2 for idx, (word, freq) in enumerate(word_freq.items()) \n",
    "#                  if freq >= min_freq})\n",
    "    \n",
    "#     # Encode categories\n",
    "#     encoder = LabelEncoder()\n",
    "#     labels = encoder.fit_transform(df['category'])\n",
    "    \n",
    "#     # Calculate max sequence length\n",
    "#     max_seq_length = min(max(len(text) for text in tokenized_texts), 100)\n",
    "    \n",
    "#     # Create train/test split\n",
    "#     X_train, X_test, y_train, y_test = train_test_split(\n",
    "#         tokenized_texts, labels, test_size=test_size, random_state=42, stratify=labels\n",
    "#     )\n",
    "    \n",
    "#     # Create datasets\n",
    "#     train_dataset = TweetDataset(X_train, y_train, vocab, max_seq_length)\n",
    "#     test_dataset = TweetDataset(X_test, y_test, vocab, max_seq_length)\n",
    "    \n",
    "#     # Create dataloaders with error handling\n",
    "#     train_loader = DataLoader(train_dataset, batch_size=batch_size, shuffle=True, \n",
    "#                             num_workers=0, pin_memory=True)\n",
    "#     test_loader = DataLoader(test_dataset, batch_size=batch_size, num_workers=0, \n",
    "#                            pin_memory=True)\n",
    "    \n",
    "#     # Initialize model\n",
    "#     model = LSTMClassifier(\n",
    "#         vocab_size=len(vocab),\n",
    "#         embedding_dim=embedding_dim,\n",
    "#         hidden_dim=hidden_dim,\n",
    "#         output_dim=len(encoder.classes_),\n",
    "#         pad_idx=vocab['<PAD>']\n",
    "#     )\n",
    "    \n",
    "#     return model, train_loader, test_loader, encoder"
   ]
  },
  {
   "cell_type": "code",
   "execution_count": 47,
   "metadata": {},
   "outputs": [],
   "source": [
    "# Training function\n",
    "def train(model, iterator, optimizer, criterion):\n",
    "    model.train()\n",
    "    epoch_loss = 0\n",
    "    epoch_acc = 0\n",
    "    \n",
    "    for batch in iterator:\n",
    "        optimizer.zero_grad()\n",
    "        \n",
    "        text, labels = batch\n",
    "        text, labels = text.to(device), labels.to(device)\n",
    "        \n",
    "        predictions = model(text)\n",
    "        loss = criterion(predictions, labels)\n",
    "        \n",
    "        acc = accuracy_score(labels.cpu().numpy(), predictions.argmax(dim=1).cpu().numpy())\n",
    "        \n",
    "        loss.backward()\n",
    "        optimizer.step()\n",
    "        \n",
    "        epoch_loss += loss.item()\n",
    "        epoch_acc += acc\n",
    "        \n",
    "    return epoch_loss / len(iterator), epoch_acc / len(iterator)"
   ]
  },
  {
   "cell_type": "code",
   "execution_count": 48,
   "metadata": {},
   "outputs": [],
   "source": [
    "# Evaluation function\n",
    "def evaluate(model, iterator, criterion):\n",
    "    model.eval()\n",
    "    epoch_loss = 0\n",
    "    epoch_acc = 0\n",
    "    \n",
    "    with torch.no_grad():\n",
    "        for batch in iterator:\n",
    "            text, labels = batch\n",
    "            text, labels = text.to(device), labels.to(device)\n",
    "            \n",
    "            predictions = model(text)\n",
    "            loss = criterion(predictions, labels)\n",
    "            \n",
    "            acc = accuracy_score(labels.cpu().numpy(), predictions.argmax(dim=1).cpu().numpy())\n",
    "            \n",
    "            epoch_loss += loss.item()\n",
    "            epoch_acc += acc\n",
    "        \n",
    "    return epoch_loss / len(iterator), epoch_acc / len(iterator)"
   ]
  },
  {
   "cell_type": "code",
   "execution_count": 49,
   "metadata": {},
   "outputs": [
    {
     "name": "stdout",
     "output_type": "stream",
     "text": [
      "Epoch: 01\n",
      "\tTrain Loss: 0.903 | Train Acc: 56.36%\n",
      "\tValid Loss: 0.599 | Valid Acc: 76.07%\n",
      "Epoch: 02\n",
      "\tTrain Loss: 0.482 | Train Acc: 82.00%\n",
      "\tValid Loss: 0.338 | Valid Acc: 88.51%\n",
      "Epoch: 03\n",
      "\tTrain Loss: 0.321 | Train Acc: 89.04%\n",
      "\tValid Loss: 0.250 | Valid Acc: 92.05%\n",
      "Epoch: 04\n",
      "\tTrain Loss: 0.243 | Train Acc: 92.00%\n",
      "\tValid Loss: 0.197 | Valid Acc: 93.81%\n",
      "Epoch: 05\n",
      "\tTrain Loss: 0.195 | Train Acc: 93.68%\n",
      "\tValid Loss: 0.166 | Valid Acc: 95.02%\n",
      "Epoch: 06\n",
      "\tTrain Loss: 0.162 | Train Acc: 94.83%\n",
      "\tValid Loss: 0.145 | Valid Acc: 95.67%\n",
      "Epoch: 07\n",
      "\tTrain Loss: 0.141 | Train Acc: 95.54%\n",
      "\tValid Loss: 0.134 | Valid Acc: 96.05%\n",
      "Epoch: 08\n",
      "\tTrain Loss: 0.124 | Train Acc: 96.05%\n",
      "\tValid Loss: 0.126 | Valid Acc: 96.34%\n",
      "Epoch: 09\n",
      "\tTrain Loss: 0.111 | Train Acc: 96.47%\n",
      "\tValid Loss: 0.118 | Valid Acc: 96.59%\n",
      "Epoch: 10\n",
      "\tTrain Loss: 0.100 | Train Acc: 96.86%\n",
      "\tValid Loss: 0.113 | Valid Acc: 96.78%\n"
     ]
    }
   ],
   "source": [
    "# Training loop\n",
    "N_EPOCHS = 10\n",
    "best_valid_loss = float('inf')\n",
    "\n",
    "for epoch in range(N_EPOCHS):\n",
    "    train_loss, train_acc = train(model, train_loader, optimizer, criterion)\n",
    "    valid_loss, valid_acc = evaluate(model, test_loader, criterion)\n",
    "    \n",
    "    if valid_loss < best_valid_loss:\n",
    "        best_valid_loss = valid_loss\n",
    "        torch.save(model.state_dict(), 'best-model.pt')\n",
    "    \n",
    "    print(f'Epoch: {epoch+1:02}')\n",
    "    print(f'\\tTrain Loss: {train_loss:.3f} | Train Acc: {train_acc*100:.2f}%')\n",
    "    print(f'\\tValid Loss: {valid_loss:.3f} | Valid Acc: {valid_acc*100:.2f}%')"
   ]
  }
 ],
 "metadata": {
  "kernelspec": {
   "display_name": "Python 3",
   "language": "python",
   "name": "python3"
  },
  "language_info": {
   "codemirror_mode": {
    "name": "ipython",
    "version": 3
   },
   "file_extension": ".py",
   "mimetype": "text/x-python",
   "name": "python",
   "nbconvert_exporter": "python",
   "pygments_lexer": "ipython3",
   "version": "3.12.6"
  }
 },
 "nbformat": 4,
 "nbformat_minor": 2
}
