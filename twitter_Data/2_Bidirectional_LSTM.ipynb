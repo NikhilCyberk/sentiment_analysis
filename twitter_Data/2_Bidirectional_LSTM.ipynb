{
 "cells": [
  {
   "cell_type": "code",
   "execution_count": 1,
   "metadata": {},
   "outputs": [],
   "source": [
    "import numpy as np\n",
    "import pandas as pd\n",
    "import re\n",
    "import nltk\n",
    "import tensorflow as tf\n",
    "from tensorflow.keras.preprocessing.text import Tokenizer\n",
    "from tensorflow.keras.preprocessing.sequence import pad_sequences\n",
    "from tensorflow.keras.models import Sequential\n",
    "from tensorflow.keras.layers import Embedding, SpatialDropout1D, Bidirectional, LSTM, Dense, Dropout\n",
    "from tensorflow.keras.optimizers import Adam\n",
    "from tensorflow.keras.callbacks import EarlyStopping, ReduceLROnPlateau\n",
    "from sklearn.model_selection import train_test_split\n",
    "from sklearn.metrics import accuracy_score, classification_report\n",
    "from sklearn.utils import class_weight"
   ]
  },
  {
   "cell_type": "code",
   "execution_count": 2,
   "metadata": {},
   "outputs": [],
   "source": [
    "def advanced_text_preprocessing(content):\n",
    "    from nltk.corpus import stopwords\n",
    "    from nltk.tokenize import word_tokenize\n",
    "    from nltk.stem import WordNetLemmatizer\n",
    "    \n",
    "    lemmatizer = WordNetLemmatizer()\n",
    "    # More comprehensive preprocessing\n",
    "    lemmatized_content = re.sub(r'http\\S+|www\\S+|https\\S+', '', content, flags=re.MULTILINE)\n",
    "    lemmatized_content = re.sub(r'@\\w+', '', lemmatized_content)  # Remove mentions\n",
    "    lemmatized_content = re.sub(r'\\#', '', lemmatized_content)  # Remove hashtag symbols\n",
    "    lemmatized_content = re.sub(r'[^\\w\\s]', '', lemmatized_content)  # Remove punctuation\n",
    "    lemmatized_content = lemmatized_content.lower()\n",
    "\n",
    "    # More advanced tokenization\n",
    "    words = word_tokenize(lemmatized_content)\n",
    "\n",
    "    # Enhanced stopwords removal and lemmatization\n",
    "    stop_words = set(stopwords.words('english'))\n",
    "    custom_stopwords = {'rt', 'via', 'amp', 'ur', 'u'}\n",
    "    stop_words.update(custom_stopwords)\n",
    "    \n",
    "    processed_words = [\n",
    "        lemmatizer.lemmatize(word) for word in words \n",
    "        if word not in stop_words and len(word) > 1\n",
    "    ]\n",
    "    lemmatized_content = ' '.join(processed_words)\n",
    "    return lemmatized_content"
   ]
  },
  {
   "cell_type": "code",
   "execution_count": 9,
   "metadata": {},
   "outputs": [],
   "source": [
    "def load_and_preprocess_data():\n",
    "    # column_names = ['target', 'ids', 'date', 'flag', 'user', 'text']\n",
    "    data = pd.read_csv(\"Twitter_Data.csv\", encoding='ISO-8859-1')\n",
    "    # data['target'] = data['target'].replace(4, 1)\n",
    "    return data"
   ]
  },
  {
   "cell_type": "code",
   "execution_count": 4,
   "metadata": {},
   "outputs": [],
   "source": [
    "def create_advanced_deep_learning_model(vocab_size, max_length):\n",
    "    \"\"\"Create an advanced deep learning model\"\"\"\n",
    "    model = Sequential([\n",
    "        # Enhanced embedding layer\n",
    "        Embedding(vocab_size, 128, input_length=max_length, trainable=True),\n",
    "        \n",
    "        # Spatial dropout to prevent overfitting\n",
    "        SpatialDropout1D(0.3),\n",
    "        \n",
    "        # Bidirectional LSTM for capturing context in both directions\n",
    "        Bidirectional(LSTM(\n",
    "            128, \n",
    "            dropout=0.2, \n",
    "            recurrent_dropout=0.2, \n",
    "            return_sequences=True\n",
    "        )),\n",
    "        \n",
    "        # Another LSTM layer\n",
    "        Bidirectional(LSTM(64, dropout=0.2, recurrent_dropout=0.2)),\n",
    "        \n",
    "        # More dense layers with dropout\n",
    "        Dense(64, activation='relu'),\n",
    "        Dropout(0.5),\n",
    "        Dense(32, activation='relu'),\n",
    "        Dropout(0.3),\n",
    "        \n",
    "        # Output layer\n",
    "        Dense(1, activation='sigmoid')\n",
    "    ])\n",
    "    \n",
    "    # Advanced compilation with custom learning rate\n",
    "    model.compile(\n",
    "        optimizer=Adam(learning_rate=0.0005),\n",
    "        loss='binary_crossentropy',\n",
    "        metrics=['accuracy']\n",
    "    )\n",
    "    \n",
    "    return model"
   ]
  },
  {
   "cell_type": "code",
   "execution_count": 5,
   "metadata": {},
   "outputs": [],
   "source": [
    "def prepare_advanced_data(texts, max_words=10000, max_length=150):\n",
    "    \"\"\"Advanced data preparation with more tokens and longer sequences\"\"\"\n",
    "    tokenizer = Tokenizer(num_words=max_words, oov_token=\"<OOV>\")\n",
    "    tokenizer.fit_on_texts(texts)\n",
    "    \n",
    "    sequences = tokenizer.texts_to_sequences(texts)\n",
    "    padded_sequences = pad_sequences(\n",
    "        sequences, \n",
    "        maxlen=max_length, \n",
    "        padding='post', \n",
    "        truncating='post'\n",
    "    )\n",
    "    \n",
    "    return padded_sequences, tokenizer"
   ]
  },
  {
   "cell_type": "code",
   "execution_count": 6,
   "metadata": {},
   "outputs": [],
   "source": [
    "def train_advanced_model(X_train, y_train, X_test, y_test):\n",
    "    \"\"\"Advanced training with multiple optimization techniques\"\"\"\n",
    "    # Prepare sequences\n",
    "    max_words = 10000\n",
    "    max_length = 150\n",
    "    \n",
    "    X_train_seq, tokenizer = prepare_advanced_data(X_train, max_words, max_length)\n",
    "    X_test_seq, _ = prepare_advanced_data(X_test, max_words, max_length)\n",
    "    \n",
    "    # Calculate class weights to handle imbalanced data\n",
    "    class_weights = class_weight.compute_class_weight(\n",
    "        'balanced', \n",
    "        classes=np.unique(y_train), \n",
    "        y=y_train\n",
    "    )\n",
    "    class_weight_dict = dict(enumerate(class_weights))\n",
    "    \n",
    "    # Create model\n",
    "    vocab_size = len(tokenizer.word_index) + 1\n",
    "    model = create_advanced_deep_learning_model(vocab_size, max_length)\n",
    "    \n",
    "    # Advanced training callbacks\n",
    "    early_stopping = EarlyStopping(\n",
    "        monitor='val_loss', \n",
    "        patience=5, \n",
    "        restore_best_weights=True\n",
    "    )\n",
    "    \n",
    "    reduce_lr = ReduceLROnPlateau(\n",
    "        monitor='val_loss', \n",
    "        factor=0.2, \n",
    "        patience=3, \n",
    "        min_lr=0.00001\n",
    "    )\n",
    "    \n",
    "    # Train with advanced techniques\n",
    "    history = model.fit(\n",
    "        X_train_seq, y_train, \n",
    "        epochs=20, \n",
    "        batch_size=64, \n",
    "        validation_split=0.2,\n",
    "        class_weight=class_weight_dict,\n",
    "        callbacks=[early_stopping, reduce_lr],\n",
    "        verbose=1\n",
    "    )\n",
    "    \n",
    "    # Evaluation\n",
    "    train_pred = (model.predict(X_train_seq) > 0.5).astype(int).flatten()\n",
    "    test_pred = (model.predict(X_test_seq) > 0.5).astype(int).flatten()\n",
    "    \n",
    "    results = {\n",
    "        'Enhanced Deep Learning Model': {\n",
    "            'train_accuracy': accuracy_score(y_train, train_pred),\n",
    "            'test_accuracy': accuracy_score(y_test, test_pred),\n",
    "            'classification_report': classification_report(y_test, test_pred)\n",
    "        }\n",
    "    }\n",
    "    \n",
    "    return results, model, tokenizer"
   ]
  },
  {
   "cell_type": "code",
   "execution_count": 7,
   "metadata": {},
   "outputs": [
    {
     "name": "stderr",
     "output_type": "stream",
     "text": [
      "[nltk_data] Downloading package punkt_tab to\n",
      "[nltk_data]     C:\\Users\\nikhi\\AppData\\Roaming\\nltk_data...\n",
      "[nltk_data]   Package punkt_tab is already up-to-date!\n"
     ]
    },
    {
     "data": {
      "text/plain": [
       "True"
      ]
     },
     "execution_count": 7,
     "metadata": {},
     "output_type": "execute_result"
    }
   ],
   "source": [
    "# Download NLTK resources\n",
    "nltk.download('stopwords', quiet=True)\n",
    "nltk.download('wordnet', quiet=True)\n",
    "nltk.download('punkt', quiet=True)\n",
    "nltk.download('punkt_tab')"
   ]
  },
  {
   "cell_type": "code",
   "execution_count": 10,
   "metadata": {},
   "outputs": [
    {
     "name": "stdout",
     "output_type": "stream",
     "text": [
      "Loading and preprocessing data...\n"
     ]
    }
   ],
   "source": [
    " # Load and preprocess data\n",
    "print(\"Loading and preprocessing data...\")\n",
    "data = load_and_preprocess_data()"
   ]
  },
  {
   "cell_type": "code",
   "execution_count": null,
   "metadata": {},
   "outputs": [],
   "source": [
    "# Preprocess text\n",
    "\n",
    "# data = data.sample(n=30000, random_state=42)\n",
    "\n",
    "data['lemmatized_content'] = data['clean_text'].apply(advanced_text_preprocessing)"
   ]
  },
  {
   "cell_type": "code",
   "execution_count": 12,
   "metadata": {},
   "outputs": [],
   "source": [
    "# Split data\n",
    "X = data['lemmatized_content'].values\n",
    "y = data['category'].values\n",
    "X_train, X_test, y_train, y_test = train_test_split(\n",
    "    X, y, test_size=0.2, stratify=y, random_state=42\n",
    ")"
   ]
  },
  {
   "cell_type": "code",
   "execution_count": 13,
   "metadata": {},
   "outputs": [
    {
     "name": "stdout",
     "output_type": "stream",
     "text": [
      "Training advanced deep learning model...\n"
     ]
    },
    {
     "name": "stderr",
     "output_type": "stream",
     "text": [
      "C:\\Users\\nikhi\\AppData\\Roaming\\Python\\Python312\\site-packages\\keras\\src\\layers\\core\\embedding.py:90: UserWarning: Argument `input_length` is deprecated. Just remove it.\n",
      "  warnings.warn(\n"
     ]
    },
    {
     "name": "stdout",
     "output_type": "stream",
     "text": [
      "Epoch 1/20\n",
      "\u001b[1m300/300\u001b[0m \u001b[32m━━━━━━━━━━━━━━━━━━━━\u001b[0m\u001b[37m\u001b[0m \u001b[1m116s\u001b[0m 367ms/step - accuracy: 0.3480 - loss: 0.4785 - val_accuracy: 0.4804 - val_loss: -6.6127 - learning_rate: 5.0000e-04\n",
      "Epoch 2/20\n",
      "\u001b[1m300/300\u001b[0m \u001b[32m━━━━━━━━━━━━━━━━━━━━\u001b[0m\u001b[37m\u001b[0m \u001b[1m113s\u001b[0m 378ms/step - accuracy: 0.4519 - loss: -54.8220 - val_accuracy: 0.3335 - val_loss: -259.4646 - learning_rate: 5.0000e-04\n",
      "Epoch 3/20\n",
      "\u001b[1m300/300\u001b[0m \u001b[32m━━━━━━━━━━━━━━━━━━━━\u001b[0m\u001b[37m\u001b[0m \u001b[1m115s\u001b[0m 384ms/step - accuracy: 0.4387 - loss: -787.8546 - val_accuracy: 0.3335 - val_loss: -1247.5231 - learning_rate: 5.0000e-04\n",
      "Epoch 4/20\n",
      "\u001b[1m300/300\u001b[0m \u001b[32m━━━━━━━━━━━━━━━━━━━━\u001b[0m\u001b[37m\u001b[0m \u001b[1m115s\u001b[0m 382ms/step - accuracy: 0.3759 - loss: -3545.2664 - val_accuracy: 0.3335 - val_loss: -3541.9182 - learning_rate: 5.0000e-04\n",
      "Epoch 5/20\n",
      "\u001b[1m300/300\u001b[0m \u001b[32m━━━━━━━━━━━━━━━━━━━━\u001b[0m\u001b[37m\u001b[0m \u001b[1m115s\u001b[0m 385ms/step - accuracy: 0.3661 - loss: -8234.7119 - val_accuracy: 0.3335 - val_loss: -8195.3828 - learning_rate: 5.0000e-04\n",
      "Epoch 6/20\n",
      "\u001b[1m300/300\u001b[0m \u001b[32m━━━━━━━━━━━━━━━━━━━━\u001b[0m\u001b[37m\u001b[0m \u001b[1m116s\u001b[0m 387ms/step - accuracy: 0.3663 - loss: -17039.2363 - val_accuracy: 0.3335 - val_loss: -12432.4229 - learning_rate: 5.0000e-04\n",
      "Epoch 7/20\n",
      "\u001b[1m300/300\u001b[0m \u001b[32m━━━━━━━━━━━━━━━━━━━━\u001b[0m\u001b[37m\u001b[0m \u001b[1m117s\u001b[0m 392ms/step - accuracy: 0.3692 - loss: -28409.5449 - val_accuracy: 0.3335 - val_loss: -26971.9863 - learning_rate: 5.0000e-04\n",
      "Epoch 8/20\n",
      "\u001b[1m300/300\u001b[0m \u001b[32m━━━━━━━━━━━━━━━━━━━━\u001b[0m\u001b[37m\u001b[0m \u001b[1m116s\u001b[0m 387ms/step - accuracy: 0.3503 - loss: -47101.8516 - val_accuracy: 0.3335 - val_loss: -35660.3086 - learning_rate: 5.0000e-04\n",
      "Epoch 9/20\n",
      "\u001b[1m300/300\u001b[0m \u001b[32m━━━━━━━━━━━━━━━━━━━━\u001b[0m\u001b[37m\u001b[0m \u001b[1m116s\u001b[0m 388ms/step - accuracy: 0.4087 - loss: -74873.4141 - val_accuracy: 0.3335 - val_loss: -54706.2539 - learning_rate: 5.0000e-04\n",
      "Epoch 10/20\n",
      "\u001b[1m300/300\u001b[0m \u001b[32m━━━━━━━━━━━━━━━━━━━━\u001b[0m\u001b[37m\u001b[0m \u001b[1m118s\u001b[0m 394ms/step - accuracy: 0.4213 - loss: -97593.1250 - val_accuracy: 0.5794 - val_loss: -80177.3750 - learning_rate: 5.0000e-04\n",
      "Epoch 11/20\n",
      "\u001b[1m300/300\u001b[0m \u001b[32m━━━━━━━━━━━━━━━━━━━━\u001b[0m\u001b[37m\u001b[0m \u001b[1m115s\u001b[0m 384ms/step - accuracy: 0.4473 - loss: -134514.7969 - val_accuracy: 0.5696 - val_loss: -93545.5234 - learning_rate: 5.0000e-04\n",
      "Epoch 12/20\n",
      "\u001b[1m300/300\u001b[0m \u001b[32m━━━━━━━━━━━━━━━━━━━━\u001b[0m\u001b[37m\u001b[0m \u001b[1m117s\u001b[0m 391ms/step - accuracy: 0.4679 - loss: -184417.9688 - val_accuracy: 0.3335 - val_loss: -121382.2969 - learning_rate: 5.0000e-04\n",
      "Epoch 13/20\n",
      "\u001b[1m300/300\u001b[0m \u001b[32m━━━━━━━━━━━━━━━━━━━━\u001b[0m\u001b[37m\u001b[0m \u001b[1m118s\u001b[0m 392ms/step - accuracy: 0.4785 - loss: -237859.7344 - val_accuracy: 0.5283 - val_loss: -51571.3164 - learning_rate: 5.0000e-04\n",
      "Epoch 14/20\n",
      "\u001b[1m300/300\u001b[0m \u001b[32m━━━━━━━━━━━━━━━━━━━━\u001b[0m\u001b[37m\u001b[0m \u001b[1m120s\u001b[0m 401ms/step - accuracy: 0.4896 - loss: -270542.1250 - val_accuracy: 0.3669 - val_loss: -200392.2344 - learning_rate: 5.0000e-04\n",
      "Epoch 15/20\n",
      "\u001b[1m300/300\u001b[0m \u001b[32m━━━━━━━━━━━━━━━━━━━━\u001b[0m\u001b[37m\u001b[0m \u001b[1m121s\u001b[0m 402ms/step - accuracy: 0.4916 - loss: -380569.6562 - val_accuracy: 0.5675 - val_loss: -262119.7344 - learning_rate: 5.0000e-04\n",
      "Epoch 16/20\n",
      "\u001b[1m300/300\u001b[0m \u001b[32m━━━━━━━━━━━━━━━━━━━━\u001b[0m\u001b[37m\u001b[0m \u001b[1m119s\u001b[0m 395ms/step - accuracy: 0.4783 - loss: -487913.7500 - val_accuracy: 0.5267 - val_loss: -316156.3125 - learning_rate: 5.0000e-04\n",
      "Epoch 17/20\n",
      "\u001b[1m300/300\u001b[0m \u001b[32m━━━━━━━━━━━━━━━━━━━━\u001b[0m\u001b[37m\u001b[0m \u001b[1m115s\u001b[0m 383ms/step - accuracy: 0.4745 - loss: -579613.6250 - val_accuracy: 0.5815 - val_loss: -374655.9062 - learning_rate: 5.0000e-04\n",
      "Epoch 18/20\n",
      "\u001b[1m300/300\u001b[0m \u001b[32m━━━━━━━━━━━━━━━━━━━━\u001b[0m\u001b[37m\u001b[0m \u001b[1m115s\u001b[0m 385ms/step - accuracy: 0.4760 - loss: -718673.8750 - val_accuracy: 0.6054 - val_loss: -459369.5312 - learning_rate: 5.0000e-04\n",
      "Epoch 19/20\n",
      "\u001b[1m300/300\u001b[0m \u001b[32m━━━━━━━━━━━━━━━━━━━━\u001b[0m\u001b[37m\u001b[0m \u001b[1m114s\u001b[0m 380ms/step - accuracy: 0.4935 - loss: -840743.4375 - val_accuracy: 0.4885 - val_loss: -503081.9688 - learning_rate: 5.0000e-04\n",
      "Epoch 20/20\n",
      "\u001b[1m300/300\u001b[0m \u001b[32m━━━━━━━━━━━━━━━━━━━━\u001b[0m\u001b[37m\u001b[0m \u001b[1m116s\u001b[0m 387ms/step - accuracy: 0.4636 - loss: -979836.0625 - val_accuracy: 0.5758 - val_loss: -580580.3750 - learning_rate: 5.0000e-04\n",
      "\u001b[1m750/750\u001b[0m \u001b[32m━━━━━━━━━━━━━━━━━━━━\u001b[0m\u001b[37m\u001b[0m \u001b[1m25s\u001b[0m 32ms/step\n",
      "\u001b[1m188/188\u001b[0m \u001b[32m━━━━━━━━━━━━━━━━━━━━\u001b[0m\u001b[37m\u001b[0m \u001b[1m7s\u001b[0m 35ms/step\n"
     ]
    },
    {
     "name": "stderr",
     "output_type": "stream",
     "text": [
      "C:\\Users\\nikhi\\AppData\\Roaming\\Python\\Python312\\site-packages\\sklearn\\metrics\\_classification.py:1531: UndefinedMetricWarning: Precision is ill-defined and being set to 0.0 in labels with no predicted samples. Use `zero_division` parameter to control this behavior.\n",
      "  _warn_prf(average, modifier, f\"{metric.capitalize()} is\", len(result))\n",
      "C:\\Users\\nikhi\\AppData\\Roaming\\Python\\Python312\\site-packages\\sklearn\\metrics\\_classification.py:1531: UndefinedMetricWarning: Precision is ill-defined and being set to 0.0 in labels with no predicted samples. Use `zero_division` parameter to control this behavior.\n",
      "  _warn_prf(average, modifier, f\"{metric.capitalize()} is\", len(result))\n",
      "C:\\Users\\nikhi\\AppData\\Roaming\\Python\\Python312\\site-packages\\sklearn\\metrics\\_classification.py:1531: UndefinedMetricWarning: Precision is ill-defined and being set to 0.0 in labels with no predicted samples. Use `zero_division` parameter to control this behavior.\n",
      "  _warn_prf(average, modifier, f\"{metric.capitalize()} is\", len(result))\n"
     ]
    }
   ],
   "source": [
    " # Train advanced model\n",
    "print(\"Training advanced deep learning model...\")\n",
    "\n",
    "dl_results, dl_model, tokenizer = train_advanced_model(X_train, y_train, X_test, y_test)"
   ]
  },
  {
   "cell_type": "code",
   "execution_count": 38,
   "metadata": {},
   "outputs": [
    {
     "name": "stdout",
     "output_type": "stream",
     "text": [
      "\n",
      "Enhanced Deep Learning Model Results:\n",
      "Training Accuracy: 0.8078\n",
      "Test Accuracy: 0.5225\n",
      "\n",
      "Classification Report:\n",
      "              precision    recall  f1-score   support\n",
      "\n",
      "           0       0.53      0.47      0.49      3000\n",
      "           1       0.52      0.58      0.55      3000\n",
      "\n",
      "    accuracy                           0.52      6000\n",
      "   macro avg       0.52      0.52      0.52      6000\n",
      "weighted avg       0.52      0.52      0.52      6000\n",
      "\n"
     ]
    }
   ],
   "source": [
    "  # Print results\n",
    "    \n",
    "for model_name, metrics in dl_results.items():\n",
    "    print(f\"\\n{model_name} Results:\")\n",
    "    print(f\"Training Accuracy: {metrics['train_accuracy']:.4f}\")\n",
    "    print(f\"Test Accuracy: {metrics['test_accuracy']:.4f}\")\n",
    "    print(\"\\nClassification Report:\")\n",
    "    print(metrics['classification_report'])"
   ]
  },
  {
   "cell_type": "markdown",
   "metadata": {},
   "source": [
    "# Enhanced Deep Learning Model Performance Report\n",
    "\n",
    "## Overview\n",
    "This report provides a comprehensive analysis of the Enhanced Deep Learning Model developed for text classification.\n",
    "\n",
    "## Model Accuracy Metrics\n",
    "\n",
    "| Metric | Value |\n",
    "|--------|-------|\n",
    "| Training Accuracy | 0.8078 |\n",
    "| Test Accuracy | 0.5225 |\n",
    "| Overall Accuracy | 0.52 |\n",
    "\n",
    "## Detailed Performance Metrics\n",
    "\n",
    "### Precision and Recall by Class\n",
    "\n",
    "| Class | Precision | Recall | F1-Score | Support |\n",
    "|-------|-----------|--------|----------|---------|\n",
    "| Negative (0) | 0.53 | 0.47 | 0.49 | 3000 |\n",
    "| Positive (1) | 0.52 | 0.58 | 0.55 | 3000 |\n",
    "\n",
    "### Macro and Weighted Averages\n",
    "\n",
    "| Average Type | Precision | Recall | F1-Score |\n",
    "|-------------|-----------|--------|----------|\n",
    "| Macro Avg | 0.52 | 0.52 | 0.52 |\n",
    "| Weighted Avg | 0.52 | 0.52 | 0.52 |\n",
    "\n",
    "## Training Efficiency Analysis\n",
    "\n",
    "| Training Metric | Details |\n",
    "|----------------|----------|\n",
    "| Epochs | 20 |\n",
    "| Batch Size | 64 |\n",
    "| Learning Rate | 0.0005 |\n",
    "| Optimization Techniques | \n",
    "| - Early Stopping | Monitored validation loss |\n",
    "| - Reduce Learning Rate | Adaptive learning rate reduction |\n",
    "| - Class Weighting | Balanced class weights |\n",
    "\n",
    "## Model Complexity Analysis\n",
    "\n",
    "| Component | Configuration |\n",
    "|-----------|---------------|\n",
    "| Embedding Layer | 128 dimensions |\n",
    "| First LSTM Layer | Bidirectional, 128 units |\n",
    "| Second LSTM Layer | Bidirectional, 64 units |\n",
    "| Dense Layers | 64 and 32 units with ReLU activation |\n",
    "| Dropout Rates | 0.3 (Embedding), 0.2 (LSTM), 0.5 and 0.3 (Dense) |\n",
    "\n",
    "## Key Findings and Observations\n",
    "\n",
    "1. **Performance Discrepancy**: \n",
    "   - High training accuracy (0.8078) \n",
    "   - Significantly lower test accuracy (0.5225)\n",
    "   - Indicates potential overfitting\n",
    "\n",
    "2. **Class Balance**:\n",
    "   - Balanced dataset (3000 samples per class)\n",
    "   - Similar performance across positive and negative classes\n",
    "\n",
    "3. **Model Limitations**:\n",
    "   - Moderate generalization capability\n",
    "   - Suggests need for further model refinement\n",
    "\n",
    "## Recommendations\n",
    "\n",
    "1. Reduce model complexity\n",
    "2. Implement more robust regularization\n",
    "3. Experiment with:\n",
    "   - Different embedding techniques\n",
    "   - Advanced preprocessing\n",
    "   - Alternative model architectures\n",
    "\n",
    "## Conclusion\n",
    "The enhanced deep learning model shows promise but requires further optimization to improve generalization and test performance."
   ]
  }
 ],
 "metadata": {
  "kernelspec": {
   "display_name": "Python 3",
   "language": "python",
   "name": "python3"
  },
  "language_info": {
   "codemirror_mode": {
    "name": "ipython",
    "version": 3
   },
   "file_extension": ".py",
   "mimetype": "text/x-python",
   "name": "python",
   "nbconvert_exporter": "python",
   "pygments_lexer": "ipython3",
   "version": "3.12.6"
  }
 },
 "nbformat": 4,
 "nbformat_minor": 2
}
