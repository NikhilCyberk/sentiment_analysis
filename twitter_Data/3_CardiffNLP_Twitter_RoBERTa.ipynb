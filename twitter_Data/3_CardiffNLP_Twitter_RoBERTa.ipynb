{
 "cells": [
  {
   "cell_type": "code",
   "execution_count": 1,
   "metadata": {},
   "outputs": [
    {
     "name": "stdout",
     "output_type": "stream",
     "text": [
      "WARNING:tensorflow:From C:\\Users\\nikhi\\AppData\\Roaming\\Python\\Python312\\site-packages\\tf_keras\\src\\losses.py:2976: The name tf.losses.sparse_softmax_cross_entropy is deprecated. Please use tf.compat.v1.losses.sparse_softmax_cross_entropy instead.\n",
      "\n"
     ]
    }
   ],
   "source": [
    "import pandas as pd\n",
    "import numpy as np\n",
    "import re\n",
    "import matplotlib.pyplot as plt\n",
    "import seaborn as sns\n",
    "\n",
    "# Data Preprocessing Imports\n",
    "from sklearn.model_selection import train_test_split\n",
    "from sklearn.preprocessing import LabelEncoder\n",
    "from sklearn.metrics import classification_report, confusion_matrix,accuracy_score\n",
    "\n",
    "\n",
    "\n",
    "# PyTorch and Transformers\n",
    "import torch\n",
    "from torch.utils.data import Dataset, DataLoader\n",
    "from transformers import (\n",
    "    AutoTokenizer, \n",
    "    AutoModelForSequenceClassification, \n",
    "    TrainingArguments, \n",
    "    Trainer\n",
    ")"
   ]
  },
  {
   "cell_type": "code",
   "execution_count": 2,
   "metadata": {},
   "outputs": [],
   "source": [
    "# CUDA Debugging and Configuration\n",
    "import os\n",
    "os.environ['CUDA_LAUNCH_BLOCKING'] = '1'"
   ]
  },
  {
   "cell_type": "code",
   "execution_count": 3,
   "metadata": {},
   "outputs": [],
   "source": [
    "# Text Cleaning Function\n",
    "def clean_text(text):\n",
    "    # Remove URLs\n",
    "    text = re.sub(r'http\\S+', '', str(text))\n",
    "    # Remove mentions\n",
    "    text = re.sub(r'@\\w+', '', text)\n",
    "    # Remove special characters and digits\n",
    "    text = re.sub(r'[^a-zA-Z\\s]', '', text)\n",
    "    # Lowercase\n",
    "    text = text.lower()\n",
    "    # Remove extra whitespaces\n",
    "    text = ' '.join(text.split())\n",
    "    return text"
   ]
  },
  {
   "cell_type": "code",
   "execution_count": 4,
   "metadata": {},
   "outputs": [
    {
     "name": "stdout",
     "output_type": "stream",
     "text": [
      "CUDA Available: True\n",
      "CUDA Devices: 1\n",
      "Current CUDA Device: 0\n",
      "CUDA Device Name: NVIDIA GeForce RTX 3050 Laptop GPU\n"
     ]
    }
   ],
   "source": [
    "# Check and Print CUDA Information\n",
    "print(\"CUDA Available:\", torch.cuda.is_available())\n",
    "print(\"CUDA Devices:\", torch.cuda.device_count())\n",
    "if torch.cuda.is_available():\n",
    "    print(\"Current CUDA Device:\", torch.cuda.current_device())\n",
    "    print(\"CUDA Device Name:\", torch.cuda.get_device_name(0))"
   ]
  },
  {
   "cell_type": "code",
   "execution_count": 5,
   "metadata": {},
   "outputs": [],
   "source": [
    "# Load Dataset\n",
    "df = pd.read_csv(\"Twitter_Data.csv\", encoding='ISO-8859-1')"
   ]
  },
  {
   "cell_type": "code",
   "execution_count": 6,
   "metadata": {},
   "outputs": [],
   "source": [
    "# Preprocessing\n",
    "df['clean_text'] = df['clean_text'].apply(clean_text)"
   ]
  },
  {
   "cell_type": "code",
   "execution_count": 7,
   "metadata": {},
   "outputs": [],
   "source": [
    "# Label Encoding\n",
    "label_encoder = LabelEncoder()\n",
    "df['encoded_category'] = label_encoder.fit_transform(df['category'])"
   ]
  },
  {
   "cell_type": "code",
   "execution_count": 8,
   "metadata": {},
   "outputs": [
    {
     "name": "stdout",
     "output_type": "stream",
     "text": [
      "Unique classes: [-1.  0.  1. nan]\n",
      "Number of classes: 4\n"
     ]
    }
   ],
   "source": [
    "# Get the number of unique classes\n",
    "num_labels = len(label_encoder.classes_)\n",
    "print(\"Unique classes:\", label_encoder.classes_)\n",
    "print(\"Number of classes:\", num_labels)"
   ]
  },
  {
   "cell_type": "code",
   "execution_count": 9,
   "metadata": {},
   "outputs": [],
   "source": [
    "# Handle Class Imbalance\n",
    "min_count = df['category'].value_counts().min()\n",
    "balanced_df = df.groupby('category').sample(n=min_count, random_state=42)"
   ]
  },
  {
   "cell_type": "code",
   "execution_count": 10,
   "metadata": {},
   "outputs": [
    {
     "data": {
      "image/png": "[encoded data removed]",
      "text/plain": [
       "<Figure size 1000x600 with 1 Axes>"
      ]
     },
     "metadata": {},
     "output_type": "display_data"
    }
   ],
   "source": [
    "# Visualization\n",
    "plt.figure(figsize=(10, 6))\n",
    "sns.countplot(x='category', data=balanced_df)\n",
    "plt.title('Balanced Class Distribution')\n",
    "plt.show()"
   ]
  },
  {
   "cell_type": "code",
   "execution_count": 11,
   "metadata": {},
   "outputs": [],
   "source": [
    "# Train Test Split with 80-20 ratio\n",
    "train_texts, test_texts, train_labels, test_labels = train_test_split(\n",
    "    balanced_df[\"clean_text\"], \n",
    "    balanced_df[\"encoded_category\"], \n",
    "    test_size=0.2,  # 20% for testing, 80% for training \n",
    "    random_state=42, \n",
    "    stratify=balanced_df[\"category\"]\n",
    ")"
   ]
  },
  {
   "cell_type": "code",
   "execution_count": 12,
   "metadata": {},
   "outputs": [],
   "source": [
    "class MultiClassDataset(torch.utils.data.Dataset):\n",
    "    def __init__(self, texts, labels, tokenizer, max_len=128):\n",
    "        self.encodings = tokenizer(\n",
    "            texts.tolist(), \n",
    "            truncation=True, \n",
    "            padding=True, \n",
    "            max_length=max_len,\n",
    "            return_tensors='pt'\n",
    "        )\n",
    "        self.labels = torch.tensor(labels)\n",
    "\n",
    "    def __getitem__(self, idx):\n",
    "        item = {key: self.encodings[key][idx] for key in self.encodings}\n",
    "        item['labels'] = self.labels[idx]\n",
    "        return item\n",
    "\n",
    "    def __len__(self):\n",
    "        return len(self.labels)"
   ]
  },
  {
   "cell_type": "code",
   "execution_count": 13,
   "metadata": {},
   "outputs": [],
   "source": [
    "# Advanced Tokenization\n",
    "tokenizer = AutoTokenizer.from_pretrained(\"cardiffnlp/twitter-roberta-base-sentiment\")"
   ]
  },
  {
   "cell_type": "code",
   "execution_count": 14,
   "metadata": {},
   "outputs": [],
   "source": [
    "# Custom Dataset Class\n",
    "class SentimentDataset(Dataset):\n",
    "    def __init__(self, texts, labels, tokenizer, max_len=128):\n",
    "        self.texts = texts\n",
    "        self.labels = labels\n",
    "        self.tokenizer = tokenizer\n",
    "        self.max_len = max_len\n",
    "    \n",
    "    def __len__(self):\n",
    "        return len(self.labels)\n",
    "    \n",
    "    def __getitem__(self, idx):\n",
    "        text = str(self.texts.iloc[idx])\n",
    "        inputs = self.tokenizer.encode_plus(\n",
    "            text,\n",
    "            None,\n",
    "            add_special_tokens=True,\n",
    "            max_length=self.max_len,\n",
    "            padding='max_length',\n",
    "            return_token_type_ids=True,\n",
    "            truncation=True,\n",
    "            return_tensors='pt'\n",
    "        )\n",
    "        \n",
    "        return {\n",
    "            'input_ids': inputs['input_ids'].flatten(),\n",
    "            'attention_mask': inputs['attention_mask'].flatten(),\n",
    "            'labels': torch.tensor(self.labels.iloc[idx], dtype=torch.long)\n",
    "        }"
   ]
  },
  {
   "cell_type": "code",
   "execution_count": 15,
   "metadata": {},
   "outputs": [],
   "source": [
    "# Create Datasets\n",
    "train_dataset = SentimentDataset(train_texts, train_labels, tokenizer)\n",
    "test_dataset = SentimentDataset(test_texts, test_labels, tokenizer)"
   ]
  },
  {
   "cell_type": "code",
   "execution_count": 16,
   "metadata": {},
   "outputs": [
    {
     "name": "stdout",
     "output_type": "stream",
     "text": [
      "Number of Unique Labels: 4\n",
      "Label Mapping: {-1.0: 0, 0.0: 1, 1.0: 2, nan: 3}\n"
     ]
    }
   ],
   "source": [
    "# Model Configuration\n",
    "num_labels = len(label_encoder.classes_)\n",
    "print(f\"Number of Unique Labels: {num_labels}\")\n",
    "print(\"Label Mapping:\", dict(zip(label_encoder.classes_, label_encoder.transform(label_encoder.classes_))))"
   ]
  },
  {
   "cell_type": "code",
   "execution_count": 17,
   "metadata": {},
   "outputs": [
    {
     "name": "stdout",
     "output_type": "stream",
     "text": [
      "Using device: cuda\n"
     ]
    }
   ],
   "source": [
    "# Set up GPU\n",
    "if torch.cuda.is_available():\n",
    "    device = torch.device('cuda')\n",
    "else:\n",
    "    device = torch.device('cpu')\n",
    "print(f\"Using device: {device}\")"
   ]
  },
  {
   "cell_type": "code",
   "execution_count": 18,
   "metadata": {},
   "outputs": [
    {
     "name": "stderr",
     "output_type": "stream",
     "text": [
      "Some weights of RobertaForSequenceClassification were not initialized from the model checkpoint at cardiffnlp/twitter-roberta-base-sentiment and are newly initialized because the shapes did not match:\n",
      "- classifier.out_proj.weight: found shape torch.Size([3, 768]) in the checkpoint and torch.Size([4, 768]) in the model instantiated\n",
      "- classifier.out_proj.bias: found shape torch.Size([3]) in the checkpoint and torch.Size([4]) in the model instantiated\n",
      "You should probably TRAIN this model on a down-stream task to be able to use it for predictions and inference.\n"
     ]
    }
   ],
   "source": [
    "# Model Configuration\n",
    "model = AutoModelForSequenceClassification.from_pretrained(\n",
    "    \"cardiffnlp/twitter-roberta-base-sentiment\", \n",
    "    num_labels=num_labels,  # Dynamically set number of labels\n",
    "    ignore_mismatched_sizes=True\n",
    ").to(device)"
   ]
  },
  {
   "cell_type": "code",
   "execution_count": 19,
   "metadata": {},
   "outputs": [],
   "source": [
    "# Optimization for GPU\n",
    "torch.cuda.empty_cache()"
   ]
  },
  {
   "cell_type": "code",
   "execution_count": 20,
   "metadata": {},
   "outputs": [
    {
     "name": "stderr",
     "output_type": "stream",
     "text": [
      "C:\\Users\\nikhi\\AppData\\Roaming\\Python\\Python312\\site-packages\\transformers\\training_args.py:1568: FutureWarning: `evaluation_strategy` is deprecated and will be removed in version 4.46 of 🤗 Transformers. Use `eval_strategy` instead\n",
      "  warnings.warn(\n"
     ]
    }
   ],
   "source": [
    "# Training Arguments with GPU Optimization\n",
    "training_args = TrainingArguments(\n",
    "    output_dir=\"./sentiment_results\",\n",
    "    evaluation_strategy=\"epoch\",\n",
    "    learning_rate=2e-5,\n",
    "    per_device_train_batch_size=8,  # Reduced for 4GB GPU\n",
    "    per_device_eval_batch_size=8,   # Reduced for 4GB GPU\n",
    "    num_train_epochs=3,\n",
    "    weight_decay=0.01,\n",
    "    save_strategy=\"epoch\",\n",
    "    load_best_model_at_end=True,\n",
    "    metric_for_best_model='eval_loss',\n",
    "    fp16=True,  # Mixed precision training for GPU efficiency\n",
    "    fp16_backend='auto'\n",
    ")"
   ]
  },
  {
   "cell_type": "code",
   "execution_count": 22,
   "metadata": {},
   "outputs": [
    {
     "name": "stdout",
     "output_type": "stream",
     "text": [
      "Original Categories: [-1.  0.  1. nan]\n",
      "Encoded Categories: [-1.  0.  1. nan]\n",
      "Category Value Counts:\n",
      " category\n",
      " 1.0    72250\n",
      " 0.0    55213\n",
      "-1.0    35510\n",
      "Name: count, dtype: int64\n"
     ]
    }
   ],
   "source": [
    "# Add before model training\n",
    "print(\"Original Categories:\", df['category'].unique())\n",
    "print(\"Encoded Categories:\", label_encoder.classes_)\n",
    "print(\"Category Value Counts:\\n\", df['category'].value_counts())"
   ]
  },
  {
   "cell_type": "code",
   "execution_count": null,
   "metadata": {},
   "outputs": [],
   "source": [
    "\n",
    "trainer = Trainer(\n",
    "    model=model,\n",
    "    args=training_args,\n",
    "    train_dataset=train_dataset,\n",
    "    eval_dataset=test_dataset\n",
    ")\n"
   ]
  },
  {
   "cell_type": "code",
   "execution_count": 24,
   "metadata": {},
   "outputs": [
    {
     "data": {
      "application/vnd.jupyter.widget-view+json": {
       "model_id": "98a70be504da4fd0a74835f9e45776ec",
       "version_major": 2,
       "version_minor": 0
      },
      "text/plain": [
       "  0%|          | 0/31959 [00:00<?, ?it/s]"
      ]
     },
     "metadata": {},
     "output_type": "display_data"
    },
    {
     "name": "stdout",
     "output_type": "stream",
     "text": [
      "{'loss': 0.7383, 'grad_norm': 12.125343322753906, 'learning_rate': 1.9688976501142088e-05, 'epoch': 0.05}\n",
      "{'loss': 0.5009, 'grad_norm': 38.87183380126953, 'learning_rate': 1.9376075596858477e-05, 'epoch': 0.09}\n",
      "{'loss': 0.4389, 'grad_norm': 4.262456893920898, 'learning_rate': 1.906380049438343e-05, 'epoch': 0.14}\n",
      "{'loss': 0.4185, 'grad_norm': 44.06435775756836, 'learning_rate': 1.8750899590099815e-05, 'epoch': 0.19}\n",
      "{'loss': 0.3934, 'grad_norm': 6.970249652862549, 'learning_rate': 1.843862448762477e-05, 'epoch': 0.23}\n",
      "{'loss': 0.3635, 'grad_norm': 0.488933801651001, 'learning_rate': 1.8125723583341157e-05, 'epoch': 0.28}\n",
      "{'loss': 0.3248, 'grad_norm': 8.3774995803833, 'learning_rate': 1.7812822679057545e-05, 'epoch': 0.33}\n",
      "{'loss': 0.3191, 'grad_norm': 0.11795558780431747, 'learning_rate': 1.749992177477393e-05, 'epoch': 0.38}\n",
      "{'loss': 0.3095, 'grad_norm': 0.9448436498641968, 'learning_rate': 1.7187020870490317e-05, 'epoch': 0.42}\n",
      "{'loss': 0.2972, 'grad_norm': 29.895540237426758, 'learning_rate': 1.6874119966206702e-05, 'epoch': 0.47}\n",
      "{'loss': 0.2676, 'grad_norm': 24.70655632019043, 'learning_rate': 1.6561844863731658e-05, 'epoch': 0.52}\n",
      "{'loss': 0.2766, 'grad_norm': 20.394556045532227, 'learning_rate': 1.6248943959448043e-05, 'epoch': 0.56}\n",
      "{'loss': 0.2562, 'grad_norm': 19.004796981811523, 'learning_rate': 1.5936668856973e-05, 'epoch': 0.61}\n",
      "{'loss': 0.2667, 'grad_norm': 3.9420325756073, 'learning_rate': 1.5624393754497952e-05, 'epoch': 0.66}\n",
      "{'loss': 0.2549, 'grad_norm': 0.1384078413248062, 'learning_rate': 1.5311492850214337e-05, 'epoch': 0.7}\n",
      "{'loss': 0.2431, 'grad_norm': 31.34743881225586, 'learning_rate': 1.4998591945930725e-05, 'epoch': 0.75}\n",
      "{'loss': 0.2434, 'grad_norm': 0.2754049599170685, 'learning_rate': 1.4685691041647112e-05, 'epoch': 0.8}\n",
      "{'loss': 0.2335, 'grad_norm': 117.69457244873047, 'learning_rate': 1.4372790137363499e-05, 'epoch': 0.84}\n",
      "{'loss': 0.2302, 'grad_norm': 0.08471047878265381, 'learning_rate': 1.4059889233079885e-05, 'epoch': 0.89}\n",
      "{'loss': 0.2223, 'grad_norm': 0.23336592316627502, 'learning_rate': 1.3746988328796272e-05, 'epoch': 0.94}\n",
      "{'loss': 0.1907, 'grad_norm': 0.11222828179597855, 'learning_rate': 1.3434087424512659e-05, 'epoch': 0.99}\n"
     ]
    },
    {
     "data": {
      "application/vnd.jupyter.widget-view+json": {
       "model_id": "7f8096f9737c421ea1b202b6528cd39b",
       "version_major": 2,
       "version_minor": 0
      },
      "text/plain": [
       "  0%|          | 0/2664 [00:00<?, ?it/s]"
      ]
     },
     "metadata": {},
     "output_type": "display_data"
    },
    {
     "name": "stdout",
     "output_type": "stream",
     "text": [
      "{'eval_loss': 0.20548513531684875, 'eval_runtime': 112.0826, 'eval_samples_per_second': 190.092, 'eval_steps_per_second': 23.768, 'epoch': 1.0}\n",
      "{'loss': 0.186, 'grad_norm': 22.578853607177734, 'learning_rate': 1.3121186520229046e-05, 'epoch': 1.03}\n",
      "{'loss': 0.1663, 'grad_norm': 0.03431427851319313, 'learning_rate': 1.280828561594543e-05, 'epoch': 1.08}\n",
      "{'loss': 0.1467, 'grad_norm': 0.24388912320137024, 'learning_rate': 1.2495384711661817e-05, 'epoch': 1.13}\n",
      "{'loss': 0.1639, 'grad_norm': 0.14505183696746826, 'learning_rate': 1.2182483807378205e-05, 'epoch': 1.17}\n",
      "{'loss': 0.187, 'grad_norm': 0.32179930806159973, 'learning_rate': 1.1870208704903159e-05, 'epoch': 1.22}\n",
      "{'loss': 0.1561, 'grad_norm': 0.03730727359652519, 'learning_rate': 1.1557307800619544e-05, 'epoch': 1.27}\n",
      "{'loss': 0.1715, 'grad_norm': 1.5464142560958862, 'learning_rate': 1.1244406896335931e-05, 'epoch': 1.31}\n",
      "{'loss': 0.1593, 'grad_norm': 0.09134947508573532, 'learning_rate': 1.0931505992052319e-05, 'epoch': 1.36}\n",
      "{'loss': 0.1645, 'grad_norm': 0.03110983967781067, 'learning_rate': 1.0618605087768706e-05, 'epoch': 1.41}\n",
      "{'loss': 0.1482, 'grad_norm': 55.41967010498047, 'learning_rate': 1.030570418348509e-05, 'epoch': 1.45}\n",
      "{'loss': 0.1535, 'grad_norm': 0.0511479526758194, 'learning_rate': 9.993429081010046e-06, 'epoch': 1.5}\n",
      "{'loss': 0.1542, 'grad_norm': 0.10230177640914917, 'learning_rate': 9.680528176726431e-06, 'epoch': 1.55}\n",
      "{'loss': 0.1619, 'grad_norm': 0.04964045062661171, 'learning_rate': 9.367627272442818e-06, 'epoch': 1.6}\n",
      "{'loss': 0.1373, 'grad_norm': 0.026089632883667946, 'learning_rate': 9.054726368159204e-06, 'epoch': 1.64}\n",
      "{'loss': 0.157, 'grad_norm': 0.07476968318223953, 'learning_rate': 8.742451265684158e-06, 'epoch': 1.69}\n",
      "{'loss': 0.1318, 'grad_norm': 0.040841978043317795, 'learning_rate': 8.429550361400545e-06, 'epoch': 1.74}\n",
      "{'loss': 0.1495, 'grad_norm': 0.12906089425086975, 'learning_rate': 8.116649457116933e-06, 'epoch': 1.78}\n",
      "{'loss': 0.1537, 'grad_norm': 0.036131035536527634, 'learning_rate': 7.803748552833318e-06, 'epoch': 1.83}\n",
      "{'loss': 0.1463, 'grad_norm': 0.05796400085091591, 'learning_rate': 7.490847648549705e-06, 'epoch': 1.88}\n",
      "{'loss': 0.1481, 'grad_norm': 4.683979511260986, 'learning_rate': 7.177946744266091e-06, 'epoch': 1.92}\n",
      "{'loss': 0.1392, 'grad_norm': 0.09337104111909866, 'learning_rate': 6.865045839982478e-06, 'epoch': 1.97}\n"
     ]
    },
    {
     "data": {
      "application/vnd.jupyter.widget-view+json": {
       "model_id": "41ea9c5fbde8415a94f88a4a710f57e5",
       "version_major": 2,
       "version_minor": 0
      },
      "text/plain": [
       "  0%|          | 0/2664 [00:00<?, ?it/s]"
      ]
     },
     "metadata": {},
     "output_type": "display_data"
    },
    {
     "name": "stdout",
     "output_type": "stream",
     "text": [
      "{'eval_loss': 0.15149140357971191, 'eval_runtime': 106.3005, 'eval_samples_per_second': 200.432, 'eval_steps_per_second': 25.061, 'epoch': 2.0}\n",
      "{'loss': 0.1139, 'grad_norm': 0.01933980919420719, 'learning_rate': 6.552144935698864e-06, 'epoch': 2.02}\n",
      "{'loss': 0.0933, 'grad_norm': 25.13585662841797, 'learning_rate': 6.239244031415252e-06, 'epoch': 2.07}\n",
      "{'loss': 0.0868, 'grad_norm': 14.564851760864258, 'learning_rate': 5.927594730748773e-06, 'epoch': 2.11}\n",
      "{'loss': 0.1019, 'grad_norm': 0.014002896845340729, 'learning_rate': 5.614693826465158e-06, 'epoch': 2.16}\n",
      "{'loss': 0.0956, 'grad_norm': 0.024532102048397064, 'learning_rate': 5.301792922181546e-06, 'epoch': 2.21}\n",
      "{'loss': 0.111, 'grad_norm': 165.89065551757812, 'learning_rate': 4.988892017897932e-06, 'epoch': 2.25}\n",
      "{'loss': 0.0977, 'grad_norm': 0.2783474922180176, 'learning_rate': 4.675991113614319e-06, 'epoch': 2.3}\n",
      "{'loss': 0.0858, 'grad_norm': 0.016121339052915573, 'learning_rate': 4.3630902093307055e-06, 'epoch': 2.35}\n",
      "{'loss': 0.0851, 'grad_norm': 0.007396663539111614, 'learning_rate': 4.050189305047092e-06, 'epoch': 2.39}\n",
      "{'loss': 0.0883, 'grad_norm': 23.125383377075195, 'learning_rate': 3.7372884007634787e-06, 'epoch': 2.44}\n",
      "{'loss': 0.0717, 'grad_norm': 0.0048637352883815765, 'learning_rate': 3.424387496479865e-06, 'epoch': 2.49}\n",
      "{'loss': 0.0924, 'grad_norm': 0.016125869005918503, 'learning_rate': 3.111486592196252e-06, 'epoch': 2.53}\n",
      "{'loss': 0.0877, 'grad_norm': 28.199298858642578, 'learning_rate': 2.7998372915297727e-06, 'epoch': 2.58}\n",
      "{'loss': 0.072, 'grad_norm': 0.01899990811944008, 'learning_rate': 2.4869363872461595e-06, 'epoch': 2.63}\n",
      "{'loss': 0.0813, 'grad_norm': 0.3725513219833374, 'learning_rate': 2.174035482962546e-06, 'epoch': 2.68}\n",
      "{'loss': 0.0929, 'grad_norm': 0.10068979859352112, 'learning_rate': 1.8611345786789326e-06, 'epoch': 2.72}\n",
      "{'loss': 0.0821, 'grad_norm': 11.367015838623047, 'learning_rate': 1.5482336743953192e-06, 'epoch': 2.77}\n",
      "{'loss': 0.092, 'grad_norm': 0.0036742687225341797, 'learning_rate': 1.2353327701117058e-06, 'epoch': 2.82}\n",
      "{'loss': 0.0709, 'grad_norm': 0.007215643767267466, 'learning_rate': 9.224318658280923e-07, 'epoch': 2.86}\n",
      "{'loss': 0.0739, 'grad_norm': 0.012758852913975716, 'learning_rate': 6.095309615444788e-07, 'epoch': 2.91}\n",
      "{'loss': 0.075, 'grad_norm': 0.030321359634399414, 'learning_rate': 2.9725585906943274e-07, 'epoch': 2.96}\n"
     ]
    },
    {
     "data": {
      "application/vnd.jupyter.widget-view+json": {
       "model_id": "c8385cc7ad4c402a859afa2762e6b879",
       "version_major": 2,
       "version_minor": 0
      },
      "text/plain": [
       "  0%|          | 0/2664 [00:00<?, ?it/s]"
      ]
     },
     "metadata": {},
     "output_type": "display_data"
    },
    {
     "name": "stdout",
     "output_type": "stream",
     "text": [
      "{'eval_loss': 0.12793786823749542, 'eval_runtime': 113.3818, 'eval_samples_per_second': 187.914, 'eval_steps_per_second': 23.496, 'epoch': 3.0}\n",
      "{'train_runtime': 6652.2161, 'train_samples_per_second': 38.434, 'train_steps_per_second': 4.804, 'train_loss': 0.18769548249567714, 'epoch': 3.0}\n"
     ]
    },
    {
     "data": {
      "text/plain": [
       "TrainOutput(global_step=31959, training_loss=0.18769548249567714, metrics={'train_runtime': 6652.2161, 'train_samples_per_second': 38.434, 'train_steps_per_second': 4.804, 'total_flos': 1.6817834432176128e+16, 'train_loss': 0.18769548249567714, 'epoch': 3.0})"
      ]
     },
     "execution_count": 24,
     "metadata": {},
     "output_type": "execute_result"
    }
   ],
   "source": [
    "# Train Model\n",
    "trainer.train()"
   ]
  },
  {
   "cell_type": "code",
   "execution_count": 25,
   "metadata": {},
   "outputs": [
    {
     "data": {
      "application/vnd.jupyter.widget-view+json": {
       "model_id": "661e713b85ee47619225b9799137965b",
       "version_major": 2,
       "version_minor": 0
      },
      "text/plain": [
       "  0%|          | 0/2664 [00:00<?, ?it/s]"
      ]
     },
     "metadata": {},
     "output_type": "display_data"
    },
    {
     "name": "stdout",
     "output_type": "stream",
     "text": [
      "\n",
      "Detailed Classification Report:\n",
      "               precision    recall  f1-score   support\n",
      "\n",
      "        -1.0       0.97      0.98      0.97      7102\n",
      "         0.0       0.99      0.98      0.98      7102\n",
      "         1.0       0.98      0.98      0.98      7102\n",
      "\n",
      "    accuracy                           0.98     21306\n",
      "   macro avg       0.98      0.98      0.98     21306\n",
      "weighted avg       0.98      0.98      0.98     21306\n",
      "\n"
     ]
    },
    {
     "data": {
      "image/png": "[encoded data removed]",
      "text/plain": [
       "<Figure size 1000x800 with 2 Axes>"
      ]
     },
     "metadata": {},
     "output_type": "display_data"
    },
    {
     "name": "stdout",
     "output_type": "stream",
     "text": [
      "\n",
      "Overall Accuracy: 0.9771425889420821\n"
     ]
    }
   ],
   "source": [
    "def custom_compute_metrics(model, test_dataset, label_encoder):\n",
    "    # Make predictions\n",
    "    predictions = trainer.predict(test_dataset)\n",
    "    \n",
    "    # Get predicted labels\n",
    "    predicted_labels = predictions.predictions.argmax(axis=1)\n",
    "    \n",
    "    # Get true labels\n",
    "    true_labels = test_labels.values  # Assuming test_labels is available\n",
    "    \n",
    "    # Compute unique labels actually present\n",
    "    unique_labels = np.unique(np.concatenate([true_labels, predicted_labels]))\n",
    "    \n",
    "    # Convert unique labels to their string representations\n",
    "    unique_target_names = [str(label_encoder.classes_[label]) for label in unique_labels]\n",
    "    \n",
    "    # Generate classification report\n",
    "    report = classification_report(\n",
    "        true_labels, \n",
    "        predicted_labels, \n",
    "        labels=unique_labels,\n",
    "        target_names=unique_target_names\n",
    "    )\n",
    "    print(\"\\nDetailed Classification Report:\\n\", report)\n",
    "    \n",
    "    # Compute confusion matrix\n",
    "    cm = confusion_matrix(true_labels, predicted_labels)\n",
    "    \n",
    "    # Visualize confusion matrix\n",
    "    plt.figure(figsize=(10, 8))\n",
    "    sns.heatmap(cm, annot=True, fmt='d', cmap='Blues', \n",
    "                xticklabels=label_encoder.classes_, \n",
    "                yticklabels=label_encoder.classes_)\n",
    "    plt.title('Confusion Matrix')\n",
    "    plt.xlabel('Predicted Labels')\n",
    "    plt.ylabel('True Labels')\n",
    "    plt.tight_layout()\n",
    "    plt.show()\n",
    "    \n",
    "    # Compute additional metrics\n",
    "    accuracy = accuracy_score(true_labels, predicted_labels)\n",
    "    \n",
    "    return {\n",
    "        'accuracy': accuracy,\n",
    "        'classification_report': report\n",
    "    }\n",
    "\n",
    "# Run metrics computation\n",
    "metrics = custom_compute_metrics(model, test_dataset, label_encoder)\n",
    "print(\"\\nOverall Accuracy:\", metrics['accuracy'])"
   ]
  },
  {
   "cell_type": "markdown",
   "metadata": {},
   "source": [
    "# Sentiment Analysis Model Performance Report\n",
    "\n",
    "## Overview\n",
    "This report provides a comprehensive analysis of a multi-class sentiment classification model trained on Twitter data using RoBERTa-based transformer architecture.\n",
    "\n",
    "## Model Accuracy and Performance Metrics\n",
    "\n",
    "| Metric | Value |\n",
    "|--------|-------|\n",
    "| Overall Accuracy | 98% |\n",
    "| Macro Average Precision | 0.98 |\n",
    "| Macro Average Recall | 0.98 |\n",
    "| Macro Average F1-Score | 0.98 |\n",
    "\n",
    "### Detailed Class Performance\n",
    "\n",
    "| Class | Precision | Recall | F1-Score | Support |\n",
    "|-------|-----------|--------|----------|---------|\n",
    "| Negative (-1.0) | 0.97 | 0.98 | 0.97 | 7,102 |\n",
    "| Neutral (0.0) | 0.99 | 0.98 | 0.98 | 7,102 |\n",
    "| Positive (1.0) | 0.98 | 0.98 | 0.98 | 7,102 |\n",
    "\n",
    "## Key Technical Details\n",
    "\n",
    "### Model Configuration\n",
    "- Base Model: cardiffnlp/twitter-roberta-base-sentiment\n",
    "- Tokenizer: RoBERTa Tokenizer\n",
    "- Num Classes: 3 (Negative, Neutral, Positive)\n",
    "\n",
    "### Training Efficiency\n",
    "- Training Epochs: 3\n",
    "- Batch Size: 8 (per device)\n",
    "- Learning Rate: 2e-5\n",
    "- Weight Decay: 0.01\n",
    "- GPU Optimization: Mixed Precision Training (fp16)\n",
    "\n",
    "## Key Findings\n",
    "1. Exceptional model performance with 98% accuracy across all sentiment classes\n",
    "2. Balanced performance across negative, neutral, and positive sentiment categories\n",
    "3. Effective handling of class imbalance through sampling technique\n",
    "4. Successful use of transfer learning with pre-trained RoBERTa model\n",
    "5. Robust text preprocessing and cleaning strategy\n",
    "\n",
    "## Recommendations\n",
    "- Consider further hyperparameter tuning\n",
    "- Explore larger training dataset\n",
    "- Implement cross-validation for more robust performance evaluation\n",
    "\n",
    "## Preprocessing Techniques\n",
    "- URL removal\n",
    "- Mention removal\n",
    "- Special character elimination\n",
    "- Text normalization (lowercase)\n",
    "- Whitespace standardization\n",
    "\n",
    "## Limitations\n",
    "- Model performance may vary with different domain-specific text\n",
    "- Potential bias from training data\n",
    "- Computational resource constraints during training\n",
    "\n",
    "## Conclusion\n",
    "The sentiment analysis model demonstrates high performance and reliability in classifying Twitter text into sentiment categories, showcasing the effectiveness of transformer-based approaches in natural language processing tasks."
   ]
  },
  {
   "cell_type": "markdown",
   "metadata": {},
   "source": []
  }
 ],
 "metadata": {
  "kernelspec": {
   "display_name": "Python 3",
   "language": "python",
   "name": "python3"
  },
  "language_info": {
   "codemirror_mode": {
    "name": "ipython",
    "version": 3
   },
   "file_extension": ".py",
   "mimetype": "text/x-python",
   "name": "python",
   "nbconvert_exporter": "python",
   "pygments_lexer": "ipython3",
   "version": "3.12.6"
  }
 },
 "nbformat": 4,
 "nbformat_minor": 2
}
